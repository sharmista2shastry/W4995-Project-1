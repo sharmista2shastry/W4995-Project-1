{
 "cells": [
  {
   "metadata": {
    "ExecuteTime": {
     "end_time": "2024-04-20T07:18:31.733141Z",
     "start_time": "2024-04-20T07:18:31.572727Z"
    }
   },
   "cell_type": "code",
   "source": [
    "import pandas as pd\n",
    "import numpy as np\n",
    "from sklearn.preprocessing import OneHotEncoder, RobustScaler\n",
    "from sklearn.model_selection import train_test_split\n",
    "import matplotlib.pyplot as plt"
   ],
   "id": "a389f3dadc81db6a",
   "outputs": [],
   "execution_count": 1
  },
  {
   "cell_type": "code",
   "id": "initial_id",
   "metadata": {
    "collapsed": true,
    "ExecuteTime": {
     "end_time": "2024-04-20T07:18:31.876776Z",
     "start_time": "2024-04-20T07:18:31.734143Z"
    }
   },
   "source": [
    "#LOAD DATASET (data is already cleaned from notebook.ipynb)\n",
    "song_df = pd.read_csv(\"processed_song_data.csv\")\n",
    "\n",
    "song_df.head()"
   ],
   "outputs": [
    {
     "data": {
      "text/plain": [
       "                                Track Name      Artist Name(s)  \\\n",
       "0  Justified & Ancient - Stand by the Jams             The KLF   \n",
       "1          I Know You Want Me (Calle Ocho)             Pitbull   \n",
       "2       From the Bottom of My Broken Heart      Britney Spears   \n",
       "3         Apeman - 2014 Remastered Version           The Kinks   \n",
       "4       You Can't Always Get What You Want  The Rolling Stones   \n",
       "\n",
       "                                          Album Name Album Artist Name(s)  \\\n",
       "0                                   Songs Collection              The KLF   \n",
       "1                     Pitbull Starring In Rebelution              Pitbull   \n",
       "2     ...Baby One More Time (Digital Deluxe Version)       Britney Spears   \n",
       "3  Lola vs. Powerman and the Moneygoround, Pt. On...            The Kinks   \n",
       "4                                       Let It Bleed   The Rolling Stones   \n",
       "\n",
       "   Explicit  age             artist_name    dating  family/gospel genre  ...  \\\n",
       "0     False  1.0                  mukesh  0.000598       0.048857   pop  ...   \n",
       "1     False  1.0         'frankie laine'  0.035537       0.027007   pop  ...   \n",
       "2     False  1.0           'johnnie ray'  0.002770       0.002770   pop  ...   \n",
       "3     False  1.0            'prez prado'  0.048249       0.001548   pop  ...   \n",
       "4     False  1.0  'giorgos papadopoulos'  0.001350       0.001350   pop  ...   \n",
       "\n",
       "   feelings  light/visual_perceptions like/girls movement/places     music  \\\n",
       "0  0.117175                  0.000598   0.000598        0.000598  0.039288   \n",
       "1  0.001284                  0.212681   0.001284        0.001284  0.118034   \n",
       "2  0.225422                  0.002770   0.002770        0.002770  0.323794   \n",
       "3  0.001548                  0.001548   0.081132        0.129250  0.001548   \n",
       "4  0.001350                  0.001350   0.001350        0.001350  0.001350   \n",
       "\n",
       "    obscene   sadness  shake_the_audience    mood_%          mood  \n",
       "0  0.000598  0.380299            0.000598  0.426354       Neutral  \n",
       "1  0.001284  0.001284            0.001284  0.770510  High Emotion  \n",
       "2  0.002770  0.002770            0.002770  0.683601  High Emotion  \n",
       "3  0.001548  0.225889            0.021500  0.604193  High Emotion  \n",
       "4  0.001350  0.068800            0.001350  0.523334       Neutral  \n",
       "\n",
       "[5 rows x 38 columns]"
      ],
      "text/html": [
       "<div>\n",
       "<style scoped>\n",
       "    .dataframe tbody tr th:only-of-type {\n",
       "        vertical-align: middle;\n",
       "    }\n",
       "\n",
       "    .dataframe tbody tr th {\n",
       "        vertical-align: top;\n",
       "    }\n",
       "\n",
       "    .dataframe thead th {\n",
       "        text-align: right;\n",
       "    }\n",
       "</style>\n",
       "<table border=\"1\" class=\"dataframe\">\n",
       "  <thead>\n",
       "    <tr style=\"text-align: right;\">\n",
       "      <th></th>\n",
       "      <th>Track Name</th>\n",
       "      <th>Artist Name(s)</th>\n",
       "      <th>Album Name</th>\n",
       "      <th>Album Artist Name(s)</th>\n",
       "      <th>Explicit</th>\n",
       "      <th>age</th>\n",
       "      <th>artist_name</th>\n",
       "      <th>dating</th>\n",
       "      <th>family/gospel</th>\n",
       "      <th>genre</th>\n",
       "      <th>...</th>\n",
       "      <th>feelings</th>\n",
       "      <th>light/visual_perceptions</th>\n",
       "      <th>like/girls</th>\n",
       "      <th>movement/places</th>\n",
       "      <th>music</th>\n",
       "      <th>obscene</th>\n",
       "      <th>sadness</th>\n",
       "      <th>shake_the_audience</th>\n",
       "      <th>mood_%</th>\n",
       "      <th>mood</th>\n",
       "    </tr>\n",
       "  </thead>\n",
       "  <tbody>\n",
       "    <tr>\n",
       "      <th>0</th>\n",
       "      <td>Justified &amp; Ancient - Stand by the Jams</td>\n",
       "      <td>The KLF</td>\n",
       "      <td>Songs Collection</td>\n",
       "      <td>The KLF</td>\n",
       "      <td>False</td>\n",
       "      <td>1.0</td>\n",
       "      <td>mukesh</td>\n",
       "      <td>0.000598</td>\n",
       "      <td>0.048857</td>\n",
       "      <td>pop</td>\n",
       "      <td>...</td>\n",
       "      <td>0.117175</td>\n",
       "      <td>0.000598</td>\n",
       "      <td>0.000598</td>\n",
       "      <td>0.000598</td>\n",
       "      <td>0.039288</td>\n",
       "      <td>0.000598</td>\n",
       "      <td>0.380299</td>\n",
       "      <td>0.000598</td>\n",
       "      <td>0.426354</td>\n",
       "      <td>Neutral</td>\n",
       "    </tr>\n",
       "    <tr>\n",
       "      <th>1</th>\n",
       "      <td>I Know You Want Me (Calle Ocho)</td>\n",
       "      <td>Pitbull</td>\n",
       "      <td>Pitbull Starring In Rebelution</td>\n",
       "      <td>Pitbull</td>\n",
       "      <td>False</td>\n",
       "      <td>1.0</td>\n",
       "      <td>'frankie laine'</td>\n",
       "      <td>0.035537</td>\n",
       "      <td>0.027007</td>\n",
       "      <td>pop</td>\n",
       "      <td>...</td>\n",
       "      <td>0.001284</td>\n",
       "      <td>0.212681</td>\n",
       "      <td>0.001284</td>\n",
       "      <td>0.001284</td>\n",
       "      <td>0.118034</td>\n",
       "      <td>0.001284</td>\n",
       "      <td>0.001284</td>\n",
       "      <td>0.001284</td>\n",
       "      <td>0.770510</td>\n",
       "      <td>High Emotion</td>\n",
       "    </tr>\n",
       "    <tr>\n",
       "      <th>2</th>\n",
       "      <td>From the Bottom of My Broken Heart</td>\n",
       "      <td>Britney Spears</td>\n",
       "      <td>...Baby One More Time (Digital Deluxe Version)</td>\n",
       "      <td>Britney Spears</td>\n",
       "      <td>False</td>\n",
       "      <td>1.0</td>\n",
       "      <td>'johnnie ray'</td>\n",
       "      <td>0.002770</td>\n",
       "      <td>0.002770</td>\n",
       "      <td>pop</td>\n",
       "      <td>...</td>\n",
       "      <td>0.225422</td>\n",
       "      <td>0.002770</td>\n",
       "      <td>0.002770</td>\n",
       "      <td>0.002770</td>\n",
       "      <td>0.323794</td>\n",
       "      <td>0.002770</td>\n",
       "      <td>0.002770</td>\n",
       "      <td>0.002770</td>\n",
       "      <td>0.683601</td>\n",
       "      <td>High Emotion</td>\n",
       "    </tr>\n",
       "    <tr>\n",
       "      <th>3</th>\n",
       "      <td>Apeman - 2014 Remastered Version</td>\n",
       "      <td>The Kinks</td>\n",
       "      <td>Lola vs. Powerman and the Moneygoround, Pt. On...</td>\n",
       "      <td>The Kinks</td>\n",
       "      <td>False</td>\n",
       "      <td>1.0</td>\n",
       "      <td>'prez prado'</td>\n",
       "      <td>0.048249</td>\n",
       "      <td>0.001548</td>\n",
       "      <td>pop</td>\n",
       "      <td>...</td>\n",
       "      <td>0.001548</td>\n",
       "      <td>0.001548</td>\n",
       "      <td>0.081132</td>\n",
       "      <td>0.129250</td>\n",
       "      <td>0.001548</td>\n",
       "      <td>0.001548</td>\n",
       "      <td>0.225889</td>\n",
       "      <td>0.021500</td>\n",
       "      <td>0.604193</td>\n",
       "      <td>High Emotion</td>\n",
       "    </tr>\n",
       "    <tr>\n",
       "      <th>4</th>\n",
       "      <td>You Can't Always Get What You Want</td>\n",
       "      <td>The Rolling Stones</td>\n",
       "      <td>Let It Bleed</td>\n",
       "      <td>The Rolling Stones</td>\n",
       "      <td>False</td>\n",
       "      <td>1.0</td>\n",
       "      <td>'giorgos papadopoulos'</td>\n",
       "      <td>0.001350</td>\n",
       "      <td>0.001350</td>\n",
       "      <td>pop</td>\n",
       "      <td>...</td>\n",
       "      <td>0.001350</td>\n",
       "      <td>0.001350</td>\n",
       "      <td>0.001350</td>\n",
       "      <td>0.001350</td>\n",
       "      <td>0.001350</td>\n",
       "      <td>0.001350</td>\n",
       "      <td>0.068800</td>\n",
       "      <td>0.001350</td>\n",
       "      <td>0.523334</td>\n",
       "      <td>Neutral</td>\n",
       "    </tr>\n",
       "  </tbody>\n",
       "</table>\n",
       "<p>5 rows × 38 columns</p>\n",
       "</div>"
      ]
     },
     "execution_count": 2,
     "metadata": {},
     "output_type": "execute_result"
    }
   ],
   "execution_count": 2
  },
  {
   "metadata": {
    "ExecuteTime": {
     "end_time": "2024-04-20T07:18:31.892791Z",
     "start_time": "2024-04-20T07:18:31.877777Z"
    }
   },
   "cell_type": "code",
   "source": [
    "# Step 4: Feature Extraction\n",
    "# split data into features and labels.\n",
    "song_X = song_df.drop(columns=[\n",
    "    # these are y variables\n",
    "    'mood', 'mood_%',\n",
    "    # these are too specific and may lead to overfitting\n",
    "    'Track Name', 'Artist Name(s)', 'Album Name', 'Album Artist Name(s)', 'artist_name', 'track_name',\n",
    "    # these are directly used to calculate mood, so to prevent data leakage we will drop them\n",
    "    \"Energy\", \"Valence\", \"sadness\"\n",
    "])\n",
    "\n",
    "song_y = song_df['mood']"
   ],
   "id": "10ef406c81c8a866",
   "outputs": [],
   "execution_count": 3
  },
  {
   "metadata": {
    "ExecuteTime": {
     "end_time": "2024-04-20T07:18:31.923325Z",
     "start_time": "2024-04-20T07:18:31.893792Z"
    }
   },
   "cell_type": "code",
   "source": [
    "# encode labels\n",
    "\n",
    "# Select categorical columns\n",
    "categorical_columns = [\"genre\", \"topic\"]\n",
    "categorical_features = song_X[categorical_columns]\n",
    "\n",
    "# OneHotEncode categorical features\n",
    "onehot_encoder = OneHotEncoder(sparse=False, drop='first', handle_unknown='error')\n",
    "onehot_encoded_features = onehot_encoder.fit_transform(categorical_features)\n",
    "\n",
    "one_hot_encoded_df = pd.DataFrame(onehot_encoded_features, columns=onehot_encoder.get_feature_names_out(categorical_columns))\n",
    "\n",
    "one_hot_encoded_df.head()"
   ],
   "id": "f0834df246f85164",
   "outputs": [
    {
     "data": {
      "text/plain": [
       "   genre_blues  genre_country  genre_jazz  genre_pop  genre_reggae  \\\n",
       "0          0.0            0.0         0.0        1.0           0.0   \n",
       "1          0.0            0.0         0.0        1.0           0.0   \n",
       "2          0.0            0.0         0.0        1.0           0.0   \n",
       "3          0.0            0.0         0.0        1.0           0.0   \n",
       "4          0.0            0.0         0.0        1.0           0.0   \n",
       "\n",
       "   genre_rock  topic_music  topic_night/time  topic_obscene  topic_romantic  \\\n",
       "0         0.0          0.0               0.0            0.0             0.0   \n",
       "1         0.0          0.0               0.0            0.0             0.0   \n",
       "2         0.0          1.0               0.0            0.0             0.0   \n",
       "3         0.0          0.0               0.0            0.0             1.0   \n",
       "4         0.0          0.0               0.0            0.0             1.0   \n",
       "\n",
       "   topic_sadness  topic_violence  topic_world/life  \n",
       "0            1.0             0.0               0.0  \n",
       "1            0.0             0.0               1.0  \n",
       "2            0.0             0.0               0.0  \n",
       "3            0.0             0.0               0.0  \n",
       "4            0.0             0.0               0.0  "
      ],
      "text/html": [
       "<div>\n",
       "<style scoped>\n",
       "    .dataframe tbody tr th:only-of-type {\n",
       "        vertical-align: middle;\n",
       "    }\n",
       "\n",
       "    .dataframe tbody tr th {\n",
       "        vertical-align: top;\n",
       "    }\n",
       "\n",
       "    .dataframe thead th {\n",
       "        text-align: right;\n",
       "    }\n",
       "</style>\n",
       "<table border=\"1\" class=\"dataframe\">\n",
       "  <thead>\n",
       "    <tr style=\"text-align: right;\">\n",
       "      <th></th>\n",
       "      <th>genre_blues</th>\n",
       "      <th>genre_country</th>\n",
       "      <th>genre_jazz</th>\n",
       "      <th>genre_pop</th>\n",
       "      <th>genre_reggae</th>\n",
       "      <th>genre_rock</th>\n",
       "      <th>topic_music</th>\n",
       "      <th>topic_night/time</th>\n",
       "      <th>topic_obscene</th>\n",
       "      <th>topic_romantic</th>\n",
       "      <th>topic_sadness</th>\n",
       "      <th>topic_violence</th>\n",
       "      <th>topic_world/life</th>\n",
       "    </tr>\n",
       "  </thead>\n",
       "  <tbody>\n",
       "    <tr>\n",
       "      <th>0</th>\n",
       "      <td>0.0</td>\n",
       "      <td>0.0</td>\n",
       "      <td>0.0</td>\n",
       "      <td>1.0</td>\n",
       "      <td>0.0</td>\n",
       "      <td>0.0</td>\n",
       "      <td>0.0</td>\n",
       "      <td>0.0</td>\n",
       "      <td>0.0</td>\n",
       "      <td>0.0</td>\n",
       "      <td>1.0</td>\n",
       "      <td>0.0</td>\n",
       "      <td>0.0</td>\n",
       "    </tr>\n",
       "    <tr>\n",
       "      <th>1</th>\n",
       "      <td>0.0</td>\n",
       "      <td>0.0</td>\n",
       "      <td>0.0</td>\n",
       "      <td>1.0</td>\n",
       "      <td>0.0</td>\n",
       "      <td>0.0</td>\n",
       "      <td>0.0</td>\n",
       "      <td>0.0</td>\n",
       "      <td>0.0</td>\n",
       "      <td>0.0</td>\n",
       "      <td>0.0</td>\n",
       "      <td>0.0</td>\n",
       "      <td>1.0</td>\n",
       "    </tr>\n",
       "    <tr>\n",
       "      <th>2</th>\n",
       "      <td>0.0</td>\n",
       "      <td>0.0</td>\n",
       "      <td>0.0</td>\n",
       "      <td>1.0</td>\n",
       "      <td>0.0</td>\n",
       "      <td>0.0</td>\n",
       "      <td>1.0</td>\n",
       "      <td>0.0</td>\n",
       "      <td>0.0</td>\n",
       "      <td>0.0</td>\n",
       "      <td>0.0</td>\n",
       "      <td>0.0</td>\n",
       "      <td>0.0</td>\n",
       "    </tr>\n",
       "    <tr>\n",
       "      <th>3</th>\n",
       "      <td>0.0</td>\n",
       "      <td>0.0</td>\n",
       "      <td>0.0</td>\n",
       "      <td>1.0</td>\n",
       "      <td>0.0</td>\n",
       "      <td>0.0</td>\n",
       "      <td>0.0</td>\n",
       "      <td>0.0</td>\n",
       "      <td>0.0</td>\n",
       "      <td>1.0</td>\n",
       "      <td>0.0</td>\n",
       "      <td>0.0</td>\n",
       "      <td>0.0</td>\n",
       "    </tr>\n",
       "    <tr>\n",
       "      <th>4</th>\n",
       "      <td>0.0</td>\n",
       "      <td>0.0</td>\n",
       "      <td>0.0</td>\n",
       "      <td>1.0</td>\n",
       "      <td>0.0</td>\n",
       "      <td>0.0</td>\n",
       "      <td>0.0</td>\n",
       "      <td>0.0</td>\n",
       "      <td>0.0</td>\n",
       "      <td>1.0</td>\n",
       "      <td>0.0</td>\n",
       "      <td>0.0</td>\n",
       "      <td>0.0</td>\n",
       "    </tr>\n",
       "  </tbody>\n",
       "</table>\n",
       "</div>"
      ]
     },
     "execution_count": 4,
     "metadata": {},
     "output_type": "execute_result"
    }
   ],
   "execution_count": 4
  },
  {
   "metadata": {
    "ExecuteTime": {
     "end_time": "2024-04-20T07:18:31.987194Z",
     "start_time": "2024-04-20T07:18:31.924326Z"
    }
   },
   "cell_type": "code",
   "source": [
    "# Scale numerical features with Robust Scaler to prevent outliers\n",
    "# Select numerical columns\n",
    "numerical_columns = song_X.drop(columns=categorical_columns)\n",
    "\n",
    "# scale features\n",
    "robust_scaler = RobustScaler()\n",
    "scaled_numerical_song_X = robust_scaler.fit_transform(numerical_columns)\n",
    "\n",
    "# add scaled features back to dataset\n",
    "song_df_scaled = pd.DataFrame(scaled_numerical_song_X, columns=numerical_columns.columns)\n",
    "\n",
    "song_df_scaled.head()"
   ],
   "id": "2072d1c1781438cd",
   "outputs": [
    {
     "data": {
      "text/plain": [
       "   Explicit       age     dating  family/gospel  night/time   romantic  \\\n",
       "0       0.0  1.354839  -0.304616      13.753176   -0.020203   0.388631   \n",
       "1       0.0  1.354839  12.015053       7.412837   -0.009395  -0.010446   \n",
       "2       0.0  1.354839   0.461240       0.379585    0.014036   3.956966   \n",
       "3       0.0  1.354839  16.497359       0.024956   -0.005229  10.338176   \n",
       "4       0.0  1.354839  -0.039654      -0.032634   -0.008358  11.647211   \n",
       "\n",
       "   violence  world/life  Danceability       Key  ...      Tempo  \\\n",
       "0  0.325838   -0.021807      0.009088  2.831565  ... -10.050823   \n",
       "1  0.501583    2.284810      0.217088 -3.168435  ...   5.536177   \n",
       "2  0.001404   -0.010494      0.069088  1.831565  ... -46.527823   \n",
       "3 -0.005099   -0.016859      0.075088  3.831565  ... -46.197823   \n",
       "4 -0.006155    2.151139     -0.288912 -5.168435  ... -35.690823   \n",
       "\n",
       "   communication  family/spirtual  feelings  light/visual_perceptions  \\\n",
       "0       2.019382        -0.046505  3.715431                 -0.020727   \n",
       "1      -0.010424         2.090158 -0.015152                  3.409123   \n",
       "2       1.918204         0.045345  7.199923                  0.014399   \n",
       "3      -0.008380        -0.006335 -0.006644                 -0.005364   \n",
       "4      -0.009915         1.186473 -0.013032                 -0.008574   \n",
       "\n",
       "   like/girls  movement/places     music   obscene  shake_the_audience  \n",
       "0   -0.036869        -0.021489  0.651982 -0.012583           -0.083452  \n",
       "1   -0.011510        -0.008092  2.022035 -0.005493           -0.026053  \n",
       "2    0.043467         0.020954  5.601954  0.009878            0.098386  \n",
       "3    2.941837         2.492491 -0.004644 -0.002760            1.666475  \n",
       "4   -0.009075        -0.006805 -0.008096 -0.004812           -0.020542  \n",
       "\n",
       "[5 rows x 25 columns]"
      ],
      "text/html": [
       "<div>\n",
       "<style scoped>\n",
       "    .dataframe tbody tr th:only-of-type {\n",
       "        vertical-align: middle;\n",
       "    }\n",
       "\n",
       "    .dataframe tbody tr th {\n",
       "        vertical-align: top;\n",
       "    }\n",
       "\n",
       "    .dataframe thead th {\n",
       "        text-align: right;\n",
       "    }\n",
       "</style>\n",
       "<table border=\"1\" class=\"dataframe\">\n",
       "  <thead>\n",
       "    <tr style=\"text-align: right;\">\n",
       "      <th></th>\n",
       "      <th>Explicit</th>\n",
       "      <th>age</th>\n",
       "      <th>dating</th>\n",
       "      <th>family/gospel</th>\n",
       "      <th>night/time</th>\n",
       "      <th>romantic</th>\n",
       "      <th>violence</th>\n",
       "      <th>world/life</th>\n",
       "      <th>Danceability</th>\n",
       "      <th>Key</th>\n",
       "      <th>...</th>\n",
       "      <th>Tempo</th>\n",
       "      <th>communication</th>\n",
       "      <th>family/spirtual</th>\n",
       "      <th>feelings</th>\n",
       "      <th>light/visual_perceptions</th>\n",
       "      <th>like/girls</th>\n",
       "      <th>movement/places</th>\n",
       "      <th>music</th>\n",
       "      <th>obscene</th>\n",
       "      <th>shake_the_audience</th>\n",
       "    </tr>\n",
       "  </thead>\n",
       "  <tbody>\n",
       "    <tr>\n",
       "      <th>0</th>\n",
       "      <td>0.0</td>\n",
       "      <td>1.354839</td>\n",
       "      <td>-0.304616</td>\n",
       "      <td>13.753176</td>\n",
       "      <td>-0.020203</td>\n",
       "      <td>0.388631</td>\n",
       "      <td>0.325838</td>\n",
       "      <td>-0.021807</td>\n",
       "      <td>0.009088</td>\n",
       "      <td>2.831565</td>\n",
       "      <td>...</td>\n",
       "      <td>-10.050823</td>\n",
       "      <td>2.019382</td>\n",
       "      <td>-0.046505</td>\n",
       "      <td>3.715431</td>\n",
       "      <td>-0.020727</td>\n",
       "      <td>-0.036869</td>\n",
       "      <td>-0.021489</td>\n",
       "      <td>0.651982</td>\n",
       "      <td>-0.012583</td>\n",
       "      <td>-0.083452</td>\n",
       "    </tr>\n",
       "    <tr>\n",
       "      <th>1</th>\n",
       "      <td>0.0</td>\n",
       "      <td>1.354839</td>\n",
       "      <td>12.015053</td>\n",
       "      <td>7.412837</td>\n",
       "      <td>-0.009395</td>\n",
       "      <td>-0.010446</td>\n",
       "      <td>0.501583</td>\n",
       "      <td>2.284810</td>\n",
       "      <td>0.217088</td>\n",
       "      <td>-3.168435</td>\n",
       "      <td>...</td>\n",
       "      <td>5.536177</td>\n",
       "      <td>-0.010424</td>\n",
       "      <td>2.090158</td>\n",
       "      <td>-0.015152</td>\n",
       "      <td>3.409123</td>\n",
       "      <td>-0.011510</td>\n",
       "      <td>-0.008092</td>\n",
       "      <td>2.022035</td>\n",
       "      <td>-0.005493</td>\n",
       "      <td>-0.026053</td>\n",
       "    </tr>\n",
       "    <tr>\n",
       "      <th>2</th>\n",
       "      <td>0.0</td>\n",
       "      <td>1.354839</td>\n",
       "      <td>0.461240</td>\n",
       "      <td>0.379585</td>\n",
       "      <td>0.014036</td>\n",
       "      <td>3.956966</td>\n",
       "      <td>0.001404</td>\n",
       "      <td>-0.010494</td>\n",
       "      <td>0.069088</td>\n",
       "      <td>1.831565</td>\n",
       "      <td>...</td>\n",
       "      <td>-46.527823</td>\n",
       "      <td>1.918204</td>\n",
       "      <td>0.045345</td>\n",
       "      <td>7.199923</td>\n",
       "      <td>0.014399</td>\n",
       "      <td>0.043467</td>\n",
       "      <td>0.020954</td>\n",
       "      <td>5.601954</td>\n",
       "      <td>0.009878</td>\n",
       "      <td>0.098386</td>\n",
       "    </tr>\n",
       "    <tr>\n",
       "      <th>3</th>\n",
       "      <td>0.0</td>\n",
       "      <td>1.354839</td>\n",
       "      <td>16.497359</td>\n",
       "      <td>0.024956</td>\n",
       "      <td>-0.005229</td>\n",
       "      <td>10.338176</td>\n",
       "      <td>-0.005099</td>\n",
       "      <td>-0.016859</td>\n",
       "      <td>0.075088</td>\n",
       "      <td>3.831565</td>\n",
       "      <td>...</td>\n",
       "      <td>-46.197823</td>\n",
       "      <td>-0.008380</td>\n",
       "      <td>-0.006335</td>\n",
       "      <td>-0.006644</td>\n",
       "      <td>-0.005364</td>\n",
       "      <td>2.941837</td>\n",
       "      <td>2.492491</td>\n",
       "      <td>-0.004644</td>\n",
       "      <td>-0.002760</td>\n",
       "      <td>1.666475</td>\n",
       "    </tr>\n",
       "    <tr>\n",
       "      <th>4</th>\n",
       "      <td>0.0</td>\n",
       "      <td>1.354839</td>\n",
       "      <td>-0.039654</td>\n",
       "      <td>-0.032634</td>\n",
       "      <td>-0.008358</td>\n",
       "      <td>11.647211</td>\n",
       "      <td>-0.006155</td>\n",
       "      <td>2.151139</td>\n",
       "      <td>-0.288912</td>\n",
       "      <td>-5.168435</td>\n",
       "      <td>...</td>\n",
       "      <td>-35.690823</td>\n",
       "      <td>-0.009915</td>\n",
       "      <td>1.186473</td>\n",
       "      <td>-0.013032</td>\n",
       "      <td>-0.008574</td>\n",
       "      <td>-0.009075</td>\n",
       "      <td>-0.006805</td>\n",
       "      <td>-0.008096</td>\n",
       "      <td>-0.004812</td>\n",
       "      <td>-0.020542</td>\n",
       "    </tr>\n",
       "  </tbody>\n",
       "</table>\n",
       "<p>5 rows × 25 columns</p>\n",
       "</div>"
      ]
     },
     "execution_count": 5,
     "metadata": {},
     "output_type": "execute_result"
    }
   ],
   "execution_count": 5
  },
  {
   "metadata": {
    "ExecuteTime": {
     "end_time": "2024-04-20T07:18:32.017726Z",
     "start_time": "2024-04-20T07:18:31.988195Z"
    }
   },
   "cell_type": "code",
   "source": [
    "# combine scaled numerical features and onehot encoded features\n",
    "processed_song_X = pd.concat([song_df_scaled, one_hot_encoded_df], axis=1)\n",
    "print(processed_song_X.shape)\n",
    "processed_song_X.head()"
   ],
   "id": "42b61c225968bb5",
   "outputs": [
    {
     "name": "stdout",
     "output_type": "stream",
     "text": [
      "(27866, 38)\n"
     ]
    },
    {
     "data": {
      "text/plain": [
       "   Explicit       age     dating  family/gospel  night/time   romantic  \\\n",
       "0       0.0  1.354839  -0.304616      13.753176   -0.020203   0.388631   \n",
       "1       0.0  1.354839  12.015053       7.412837   -0.009395  -0.010446   \n",
       "2       0.0  1.354839   0.461240       0.379585    0.014036   3.956966   \n",
       "3       0.0  1.354839  16.497359       0.024956   -0.005229  10.338176   \n",
       "4       0.0  1.354839  -0.039654      -0.032634   -0.008358  11.647211   \n",
       "\n",
       "   violence  world/life  Danceability       Key  ...  genre_pop  genre_reggae  \\\n",
       "0  0.325838   -0.021807      0.009088  2.831565  ...        1.0           0.0   \n",
       "1  0.501583    2.284810      0.217088 -3.168435  ...        1.0           0.0   \n",
       "2  0.001404   -0.010494      0.069088  1.831565  ...        1.0           0.0   \n",
       "3 -0.005099   -0.016859      0.075088  3.831565  ...        1.0           0.0   \n",
       "4 -0.006155    2.151139     -0.288912 -5.168435  ...        1.0           0.0   \n",
       "\n",
       "   genre_rock  topic_music  topic_night/time  topic_obscene  topic_romantic  \\\n",
       "0         0.0          0.0               0.0            0.0             0.0   \n",
       "1         0.0          0.0               0.0            0.0             0.0   \n",
       "2         0.0          1.0               0.0            0.0             0.0   \n",
       "3         0.0          0.0               0.0            0.0             1.0   \n",
       "4         0.0          0.0               0.0            0.0             1.0   \n",
       "\n",
       "   topic_sadness  topic_violence  topic_world/life  \n",
       "0            1.0             0.0               0.0  \n",
       "1            0.0             0.0               1.0  \n",
       "2            0.0             0.0               0.0  \n",
       "3            0.0             0.0               0.0  \n",
       "4            0.0             0.0               0.0  \n",
       "\n",
       "[5 rows x 38 columns]"
      ],
      "text/html": [
       "<div>\n",
       "<style scoped>\n",
       "    .dataframe tbody tr th:only-of-type {\n",
       "        vertical-align: middle;\n",
       "    }\n",
       "\n",
       "    .dataframe tbody tr th {\n",
       "        vertical-align: top;\n",
       "    }\n",
       "\n",
       "    .dataframe thead th {\n",
       "        text-align: right;\n",
       "    }\n",
       "</style>\n",
       "<table border=\"1\" class=\"dataframe\">\n",
       "  <thead>\n",
       "    <tr style=\"text-align: right;\">\n",
       "      <th></th>\n",
       "      <th>Explicit</th>\n",
       "      <th>age</th>\n",
       "      <th>dating</th>\n",
       "      <th>family/gospel</th>\n",
       "      <th>night/time</th>\n",
       "      <th>romantic</th>\n",
       "      <th>violence</th>\n",
       "      <th>world/life</th>\n",
       "      <th>Danceability</th>\n",
       "      <th>Key</th>\n",
       "      <th>...</th>\n",
       "      <th>genre_pop</th>\n",
       "      <th>genre_reggae</th>\n",
       "      <th>genre_rock</th>\n",
       "      <th>topic_music</th>\n",
       "      <th>topic_night/time</th>\n",
       "      <th>topic_obscene</th>\n",
       "      <th>topic_romantic</th>\n",
       "      <th>topic_sadness</th>\n",
       "      <th>topic_violence</th>\n",
       "      <th>topic_world/life</th>\n",
       "    </tr>\n",
       "  </thead>\n",
       "  <tbody>\n",
       "    <tr>\n",
       "      <th>0</th>\n",
       "      <td>0.0</td>\n",
       "      <td>1.354839</td>\n",
       "      <td>-0.304616</td>\n",
       "      <td>13.753176</td>\n",
       "      <td>-0.020203</td>\n",
       "      <td>0.388631</td>\n",
       "      <td>0.325838</td>\n",
       "      <td>-0.021807</td>\n",
       "      <td>0.009088</td>\n",
       "      <td>2.831565</td>\n",
       "      <td>...</td>\n",
       "      <td>1.0</td>\n",
       "      <td>0.0</td>\n",
       "      <td>0.0</td>\n",
       "      <td>0.0</td>\n",
       "      <td>0.0</td>\n",
       "      <td>0.0</td>\n",
       "      <td>0.0</td>\n",
       "      <td>1.0</td>\n",
       "      <td>0.0</td>\n",
       "      <td>0.0</td>\n",
       "    </tr>\n",
       "    <tr>\n",
       "      <th>1</th>\n",
       "      <td>0.0</td>\n",
       "      <td>1.354839</td>\n",
       "      <td>12.015053</td>\n",
       "      <td>7.412837</td>\n",
       "      <td>-0.009395</td>\n",
       "      <td>-0.010446</td>\n",
       "      <td>0.501583</td>\n",
       "      <td>2.284810</td>\n",
       "      <td>0.217088</td>\n",
       "      <td>-3.168435</td>\n",
       "      <td>...</td>\n",
       "      <td>1.0</td>\n",
       "      <td>0.0</td>\n",
       "      <td>0.0</td>\n",
       "      <td>0.0</td>\n",
       "      <td>0.0</td>\n",
       "      <td>0.0</td>\n",
       "      <td>0.0</td>\n",
       "      <td>0.0</td>\n",
       "      <td>0.0</td>\n",
       "      <td>1.0</td>\n",
       "    </tr>\n",
       "    <tr>\n",
       "      <th>2</th>\n",
       "      <td>0.0</td>\n",
       "      <td>1.354839</td>\n",
       "      <td>0.461240</td>\n",
       "      <td>0.379585</td>\n",
       "      <td>0.014036</td>\n",
       "      <td>3.956966</td>\n",
       "      <td>0.001404</td>\n",
       "      <td>-0.010494</td>\n",
       "      <td>0.069088</td>\n",
       "      <td>1.831565</td>\n",
       "      <td>...</td>\n",
       "      <td>1.0</td>\n",
       "      <td>0.0</td>\n",
       "      <td>0.0</td>\n",
       "      <td>1.0</td>\n",
       "      <td>0.0</td>\n",
       "      <td>0.0</td>\n",
       "      <td>0.0</td>\n",
       "      <td>0.0</td>\n",
       "      <td>0.0</td>\n",
       "      <td>0.0</td>\n",
       "    </tr>\n",
       "    <tr>\n",
       "      <th>3</th>\n",
       "      <td>0.0</td>\n",
       "      <td>1.354839</td>\n",
       "      <td>16.497359</td>\n",
       "      <td>0.024956</td>\n",
       "      <td>-0.005229</td>\n",
       "      <td>10.338176</td>\n",
       "      <td>-0.005099</td>\n",
       "      <td>-0.016859</td>\n",
       "      <td>0.075088</td>\n",
       "      <td>3.831565</td>\n",
       "      <td>...</td>\n",
       "      <td>1.0</td>\n",
       "      <td>0.0</td>\n",
       "      <td>0.0</td>\n",
       "      <td>0.0</td>\n",
       "      <td>0.0</td>\n",
       "      <td>0.0</td>\n",
       "      <td>1.0</td>\n",
       "      <td>0.0</td>\n",
       "      <td>0.0</td>\n",
       "      <td>0.0</td>\n",
       "    </tr>\n",
       "    <tr>\n",
       "      <th>4</th>\n",
       "      <td>0.0</td>\n",
       "      <td>1.354839</td>\n",
       "      <td>-0.039654</td>\n",
       "      <td>-0.032634</td>\n",
       "      <td>-0.008358</td>\n",
       "      <td>11.647211</td>\n",
       "      <td>-0.006155</td>\n",
       "      <td>2.151139</td>\n",
       "      <td>-0.288912</td>\n",
       "      <td>-5.168435</td>\n",
       "      <td>...</td>\n",
       "      <td>1.0</td>\n",
       "      <td>0.0</td>\n",
       "      <td>0.0</td>\n",
       "      <td>0.0</td>\n",
       "      <td>0.0</td>\n",
       "      <td>0.0</td>\n",
       "      <td>1.0</td>\n",
       "      <td>0.0</td>\n",
       "      <td>0.0</td>\n",
       "      <td>0.0</td>\n",
       "    </tr>\n",
       "  </tbody>\n",
       "</table>\n",
       "<p>5 rows × 38 columns</p>\n",
       "</div>"
      ]
     },
     "execution_count": 6,
     "metadata": {},
     "output_type": "execute_result"
    }
   ],
   "execution_count": 6
  },
  {
   "metadata": {
    "ExecuteTime": {
     "end_time": "2024-04-20T08:15:42.710060Z",
     "start_time": "2024-04-20T08:15:42.703054Z"
    }
   },
   "cell_type": "code",
   "source": "LABELS = [\"High Emotion\", \"Neutral\", \"Low Emotion\"]",
   "id": "6f3e971360fffa4b",
   "outputs": [],
   "execution_count": 55
  },
  {
   "metadata": {
    "ExecuteTime": {
     "end_time": "2024-04-20T07:18:32.064769Z",
     "start_time": "2024-04-20T07:18:32.018728Z"
    }
   },
   "cell_type": "code",
   "source": [
    "# Split the dataset into training (60%), validation (20%), and test (20%) sets\n",
    "\n",
    "X_train, X_test, y_train, y_test = train_test_split(processed_song_X, song_y, test_size=0.2, random_state=42, stratify=song_y)\n",
    "X_train, X_val, y_train, y_val = train_test_split(X_train, y_train, test_size=0.25, random_state=42, stratify=y_train)"
   ],
   "id": "5cc1cf541a838c06",
   "outputs": [],
   "execution_count": 7
  },
  {
   "metadata": {},
   "cell_type": "markdown",
   "source": "# SVM (default)",
   "id": "5b445e768b16db25"
  },
  {
   "metadata": {
    "ExecuteTime": {
     "end_time": "2024-04-20T07:18:32.096799Z",
     "start_time": "2024-04-20T07:18:32.065770Z"
    }
   },
   "cell_type": "code",
   "source": [
    "from sklearn.svm import SVC\n",
    "from sklearn.model_selection import GridSearchCV\n",
    "from sklearn.metrics import classification_report\n",
    "from sklearn.metrics import confusion_matrix\n",
    "from sklearn.metrics import ConfusionMatrixDisplay"
   ],
   "id": "6efde7910f75ff9c",
   "outputs": [],
   "execution_count": 8
  },
  {
   "metadata": {
    "ExecuteTime": {
     "end_time": "2024-04-20T07:18:32.112816Z",
     "start_time": "2024-04-20T07:18:32.097800Z"
    }
   },
   "cell_type": "code",
   "source": [
    "grid = {\n",
    "    'C': [0.1, 1, 10],\n",
    "    'gamma': [1, 0.1, 0.01],\n",
    "    'kernel': ['linear', \"rbf\"]\n",
    "}"
   ],
   "id": "772a69327b81ecbb",
   "outputs": [],
   "execution_count": 9
  },
  {
   "metadata": {
    "ExecuteTime": {
     "end_time": "2024-04-20T07:18:32.128337Z",
     "start_time": "2024-04-20T07:18:32.114818Z"
    }
   },
   "cell_type": "code",
   "source": [
    "svm = SVC()\n",
    "svm_cv = GridSearchCV(svm, grid, cv=3, n_jobs=-1, verbose=2)"
   ],
   "id": "24eeab25a89743b6",
   "outputs": [],
   "execution_count": 10
  },
  {
   "metadata": {
    "ExecuteTime": {
     "end_time": "2024-04-20T07:31:34.639596Z",
     "start_time": "2024-04-20T07:18:32.129339Z"
    }
   },
   "cell_type": "code",
   "source": "svm_cv.fit(X_train, y_train)",
   "id": "400c3fafda454bbe",
   "outputs": [
    {
     "name": "stdout",
     "output_type": "stream",
     "text": [
      "Fitting 3 folds for each of 18 candidates, totalling 54 fits\n"
     ]
    },
    {
     "data": {
      "text/plain": [
       "GridSearchCV(cv=3, estimator=SVC(), n_jobs=-1,\n",
       "             param_grid={'C': [0.1, 1, 10], 'gamma': [1, 0.1, 0.01],\n",
       "                         'kernel': ['linear', 'rbf']},\n",
       "             verbose=2)"
      ],
      "text/html": [
       "<style>#sk-container-id-1 {color: black;background-color: white;}#sk-container-id-1 pre{padding: 0;}#sk-container-id-1 div.sk-toggleable {background-color: white;}#sk-container-id-1 label.sk-toggleable__label {cursor: pointer;display: block;width: 100%;margin-bottom: 0;padding: 0.3em;box-sizing: border-box;text-align: center;}#sk-container-id-1 label.sk-toggleable__label-arrow:before {content: \"▸\";float: left;margin-right: 0.25em;color: #696969;}#sk-container-id-1 label.sk-toggleable__label-arrow:hover:before {color: black;}#sk-container-id-1 div.sk-estimator:hover label.sk-toggleable__label-arrow:before {color: black;}#sk-container-id-1 div.sk-toggleable__content {max-height: 0;max-width: 0;overflow: hidden;text-align: left;background-color: #f0f8ff;}#sk-container-id-1 div.sk-toggleable__content pre {margin: 0.2em;color: black;border-radius: 0.25em;background-color: #f0f8ff;}#sk-container-id-1 input.sk-toggleable__control:checked~div.sk-toggleable__content {max-height: 200px;max-width: 100%;overflow: auto;}#sk-container-id-1 input.sk-toggleable__control:checked~label.sk-toggleable__label-arrow:before {content: \"▾\";}#sk-container-id-1 div.sk-estimator input.sk-toggleable__control:checked~label.sk-toggleable__label {background-color: #d4ebff;}#sk-container-id-1 div.sk-label input.sk-toggleable__control:checked~label.sk-toggleable__label {background-color: #d4ebff;}#sk-container-id-1 input.sk-hidden--visually {border: 0;clip: rect(1px 1px 1px 1px);clip: rect(1px, 1px, 1px, 1px);height: 1px;margin: -1px;overflow: hidden;padding: 0;position: absolute;width: 1px;}#sk-container-id-1 div.sk-estimator {font-family: monospace;background-color: #f0f8ff;border: 1px dotted black;border-radius: 0.25em;box-sizing: border-box;margin-bottom: 0.5em;}#sk-container-id-1 div.sk-estimator:hover {background-color: #d4ebff;}#sk-container-id-1 div.sk-parallel-item::after {content: \"\";width: 100%;border-bottom: 1px solid gray;flex-grow: 1;}#sk-container-id-1 div.sk-label:hover label.sk-toggleable__label {background-color: #d4ebff;}#sk-container-id-1 div.sk-serial::before {content: \"\";position: absolute;border-left: 1px solid gray;box-sizing: border-box;top: 0;bottom: 0;left: 50%;z-index: 0;}#sk-container-id-1 div.sk-serial {display: flex;flex-direction: column;align-items: center;background-color: white;padding-right: 0.2em;padding-left: 0.2em;position: relative;}#sk-container-id-1 div.sk-item {position: relative;z-index: 1;}#sk-container-id-1 div.sk-parallel {display: flex;align-items: stretch;justify-content: center;background-color: white;position: relative;}#sk-container-id-1 div.sk-item::before, #sk-container-id-1 div.sk-parallel-item::before {content: \"\";position: absolute;border-left: 1px solid gray;box-sizing: border-box;top: 0;bottom: 0;left: 50%;z-index: -1;}#sk-container-id-1 div.sk-parallel-item {display: flex;flex-direction: column;z-index: 1;position: relative;background-color: white;}#sk-container-id-1 div.sk-parallel-item:first-child::after {align-self: flex-end;width: 50%;}#sk-container-id-1 div.sk-parallel-item:last-child::after {align-self: flex-start;width: 50%;}#sk-container-id-1 div.sk-parallel-item:only-child::after {width: 0;}#sk-container-id-1 div.sk-dashed-wrapped {border: 1px dashed gray;margin: 0 0.4em 0.5em 0.4em;box-sizing: border-box;padding-bottom: 0.4em;background-color: white;}#sk-container-id-1 div.sk-label label {font-family: monospace;font-weight: bold;display: inline-block;line-height: 1.2em;}#sk-container-id-1 div.sk-label-container {text-align: center;}#sk-container-id-1 div.sk-container {/* jupyter's `normalize.less` sets `[hidden] { display: none; }` but bootstrap.min.css set `[hidden] { display: none !important; }` so we also need the `!important` here to be able to override the default hidden behavior on the sphinx rendered scikit-learn.org. See: https://github.com/scikit-learn/scikit-learn/issues/21755 */display: inline-block !important;position: relative;}#sk-container-id-1 div.sk-text-repr-fallback {display: none;}</style><div id=\"sk-container-id-1\" class=\"sk-top-container\"><div class=\"sk-text-repr-fallback\"><pre>GridSearchCV(cv=3, estimator=SVC(), n_jobs=-1,\n",
       "             param_grid={&#x27;C&#x27;: [0.1, 1, 10], &#x27;gamma&#x27;: [1, 0.1, 0.01],\n",
       "                         &#x27;kernel&#x27;: [&#x27;linear&#x27;, &#x27;rbf&#x27;]},\n",
       "             verbose=2)</pre><b>In a Jupyter environment, please rerun this cell to show the HTML representation or trust the notebook. <br />On GitHub, the HTML representation is unable to render, please try loading this page with nbviewer.org.</b></div><div class=\"sk-container\" hidden><div class=\"sk-item sk-dashed-wrapped\"><div class=\"sk-label-container\"><div class=\"sk-label sk-toggleable\"><input class=\"sk-toggleable__control sk-hidden--visually\" id=\"sk-estimator-id-1\" type=\"checkbox\" ><label for=\"sk-estimator-id-1\" class=\"sk-toggleable__label sk-toggleable__label-arrow\">GridSearchCV</label><div class=\"sk-toggleable__content\"><pre>GridSearchCV(cv=3, estimator=SVC(), n_jobs=-1,\n",
       "             param_grid={&#x27;C&#x27;: [0.1, 1, 10], &#x27;gamma&#x27;: [1, 0.1, 0.01],\n",
       "                         &#x27;kernel&#x27;: [&#x27;linear&#x27;, &#x27;rbf&#x27;]},\n",
       "             verbose=2)</pre></div></div></div><div class=\"sk-parallel\"><div class=\"sk-parallel-item\"><div class=\"sk-item\"><div class=\"sk-label-container\"><div class=\"sk-label sk-toggleable\"><input class=\"sk-toggleable__control sk-hidden--visually\" id=\"sk-estimator-id-2\" type=\"checkbox\" ><label for=\"sk-estimator-id-2\" class=\"sk-toggleable__label sk-toggleable__label-arrow\">estimator: SVC</label><div class=\"sk-toggleable__content\"><pre>SVC()</pre></div></div></div><div class=\"sk-serial\"><div class=\"sk-item\"><div class=\"sk-estimator sk-toggleable\"><input class=\"sk-toggleable__control sk-hidden--visually\" id=\"sk-estimator-id-3\" type=\"checkbox\" ><label for=\"sk-estimator-id-3\" class=\"sk-toggleable__label sk-toggleable__label-arrow\">SVC</label><div class=\"sk-toggleable__content\"><pre>SVC()</pre></div></div></div></div></div></div></div></div></div></div>"
      ]
     },
     "execution_count": 11,
     "metadata": {},
     "output_type": "execute_result"
    }
   ],
   "execution_count": 11
  },
  {
   "metadata": {
    "ExecuteTime": {
     "end_time": "2024-04-20T07:31:34.655116Z",
     "start_time": "2024-04-20T07:31:34.640597Z"
    }
   },
   "cell_type": "code",
   "source": "svm_cv.best_params_",
   "id": "882146fe3adce610",
   "outputs": [
    {
     "data": {
      "text/plain": [
       "{'C': 10, 'gamma': 1, 'kernel': 'linear'}"
      ]
     },
     "execution_count": 12,
     "metadata": {},
     "output_type": "execute_result"
    }
   ],
   "execution_count": 12
  },
  {
   "metadata": {
    "ExecuteTime": {
     "end_time": "2024-04-20T07:31:38.739991Z",
     "start_time": "2024-04-20T07:31:34.656116Z"
    }
   },
   "cell_type": "code",
   "source": [
    "print(f\"Train Accuracy: {svm_cv.score(X_train, y_train)}\")\n",
    "print(f\"Validation Accuracy: {svm_cv.score(X_val, y_val)}\")\n",
    "print(f\"Test Accuracy: {svm_cv.score(X_test, y_test)}\")"
   ],
   "id": "56818f16e31d3855",
   "outputs": [
    {
     "name": "stdout",
     "output_type": "stream",
     "text": [
      "Train Accuracy: 0.7740893594114481\n",
      "Validation Accuracy: 0.7696034451821281\n",
      "Test Accuracy: 0.7725152493720847\n"
     ]
    }
   ],
   "execution_count": 13
  },
  {
   "metadata": {
    "ExecuteTime": {
     "end_time": "2024-04-20T07:31:39.632345Z",
     "start_time": "2024-04-20T07:31:38.740992Z"
    }
   },
   "cell_type": "code",
   "source": [
    "svm_cv_pred = svm_cv.predict(X_test)\n",
    "print(classification_report(y_test, svm_cv_pred))"
   ],
   "id": "10c3875819527a2",
   "outputs": [
    {
     "name": "stdout",
     "output_type": "stream",
     "text": [
      "              precision    recall  f1-score   support\n",
      "\n",
      "High Emotion       0.79      0.89      0.84      2932\n",
      " Low Emotion       0.70      0.41      0.52       373\n",
      "     Neutral       0.75      0.68      0.71      2269\n",
      "\n",
      "    accuracy                           0.77      5574\n",
      "   macro avg       0.75      0.66      0.69      5574\n",
      "weighted avg       0.77      0.77      0.77      5574\n",
      "\n"
     ]
    }
   ],
   "execution_count": 14
  },
  {
   "metadata": {
    "ExecuteTime": {
     "end_time": "2024-04-20T08:16:55.504464Z",
     "start_time": "2024-04-20T08:16:55.373334Z"
    }
   },
   "cell_type": "code",
   "source": [
    "cm_svm = confusion_matrix(y_test, svm_cv_pred, labels=LABELS)\n",
    "disp_svm = ConfusionMatrixDisplay(confusion_matrix=cm_svm, display_labels=LABELS)\n",
    "\n",
    "disp_svm.plot(values_format='')\n",
    "plt.title(\"SVM Model Confusion Matrix\")\n",
    "# gridlines off\n",
    "plt.grid(False)\n",
    "plt.show()"
   ],
   "id": "1bf4b62994cee5e",
   "outputs": [
    {
     "data": {
      "text/plain": [
       "<Figure size 640x480 with 2 Axes>"
      ],
      "image/png": "[encoded data removed]"
     },
     "metadata": {},
     "output_type": "display_data"
    }
   ],
   "execution_count": 59
  },
  {
   "metadata": {
    "ExecuteTime": {
     "end_time": "2024-04-20T07:31:39.787494Z",
     "start_time": "2024-04-20T07:31:39.773482Z"
    }
   },
   "cell_type": "code",
   "source": [
    "# save the model\n",
    "import pickle\n",
    "\n",
    "with open(\"models/svm_model.pkl\", \"wb\") as f:\n",
    "    pickle.dump(svm_cv, f)"
   ],
   "id": "f54302f7f38317b1",
   "outputs": [],
   "execution_count": 16
  },
  {
   "metadata": {},
   "cell_type": "markdown",
   "source": "# Oversampling",
   "id": "8a9e6b1d524dd521"
  },
  {
   "metadata": {
    "ExecuteTime": {
     "end_time": "2024-04-20T07:31:39.868071Z",
     "start_time": "2024-04-20T07:31:39.788496Z"
    }
   },
   "cell_type": "code",
   "source": "from imblearn.over_sampling import RandomOverSampler",
   "id": "60f6873a60513f8",
   "outputs": [],
   "execution_count": 17
  },
  {
   "metadata": {
    "ExecuteTime": {
     "end_time": "2024-04-20T07:31:39.915114Z",
     "start_time": "2024-04-20T07:31:39.869072Z"
    }
   },
   "cell_type": "code",
   "source": [
    "ros = RandomOverSampler(random_state=666)\n",
    "\n",
    "X_train_ros, y_train_ros = ros.fit_resample(X_train, y_train)"
   ],
   "id": "9a6b40044e3bf2e",
   "outputs": [],
   "execution_count": 18
  },
  {
   "metadata": {
    "ExecuteTime": {
     "end_time": "2024-04-20T07:44:44.435694Z",
     "start_time": "2024-04-20T07:31:39.916115Z"
    }
   },
   "cell_type": "code",
   "source": [
    "svm_cv_ros = GridSearchCV(svm, grid, cv=3, n_jobs=-1, verbose=2)\n",
    "\n",
    "svm_cv_ros.fit(X_train_ros, y_train_ros)"
   ],
   "id": "1ef94f368c51325e",
   "outputs": [
    {
     "name": "stdout",
     "output_type": "stream",
     "text": [
      "Fitting 3 folds for each of 18 candidates, totalling 54 fits\n"
     ]
    },
    {
     "data": {
      "text/plain": [
       "GridSearchCV(cv=3, estimator=SVC(), n_jobs=-1,\n",
       "             param_grid={'C': [0.1, 1, 10], 'gamma': [1, 0.1, 0.01],\n",
       "                         'kernel': ['linear', 'rbf']},\n",
       "             verbose=2)"
      ],
      "text/html": [
       "<style>#sk-container-id-2 {color: black;background-color: white;}#sk-container-id-2 pre{padding: 0;}#sk-container-id-2 div.sk-toggleable {background-color: white;}#sk-container-id-2 label.sk-toggleable__label {cursor: pointer;display: block;width: 100%;margin-bottom: 0;padding: 0.3em;box-sizing: border-box;text-align: center;}#sk-container-id-2 label.sk-toggleable__label-arrow:before {content: \"▸\";float: left;margin-right: 0.25em;color: #696969;}#sk-container-id-2 label.sk-toggleable__label-arrow:hover:before {color: black;}#sk-container-id-2 div.sk-estimator:hover label.sk-toggleable__label-arrow:before {color: black;}#sk-container-id-2 div.sk-toggleable__content {max-height: 0;max-width: 0;overflow: hidden;text-align: left;background-color: #f0f8ff;}#sk-container-id-2 div.sk-toggleable__content pre {margin: 0.2em;color: black;border-radius: 0.25em;background-color: #f0f8ff;}#sk-container-id-2 input.sk-toggleable__control:checked~div.sk-toggleable__content {max-height: 200px;max-width: 100%;overflow: auto;}#sk-container-id-2 input.sk-toggleable__control:checked~label.sk-toggleable__label-arrow:before {content: \"▾\";}#sk-container-id-2 div.sk-estimator input.sk-toggleable__control:checked~label.sk-toggleable__label {background-color: #d4ebff;}#sk-container-id-2 div.sk-label input.sk-toggleable__control:checked~label.sk-toggleable__label {background-color: #d4ebff;}#sk-container-id-2 input.sk-hidden--visually {border: 0;clip: rect(1px 1px 1px 1px);clip: rect(1px, 1px, 1px, 1px);height: 1px;margin: -1px;overflow: hidden;padding: 0;position: absolute;width: 1px;}#sk-container-id-2 div.sk-estimator {font-family: monospace;background-color: #f0f8ff;border: 1px dotted black;border-radius: 0.25em;box-sizing: border-box;margin-bottom: 0.5em;}#sk-container-id-2 div.sk-estimator:hover {background-color: #d4ebff;}#sk-container-id-2 div.sk-parallel-item::after {content: \"\";width: 100%;border-bottom: 1px solid gray;flex-grow: 1;}#sk-container-id-2 div.sk-label:hover label.sk-toggleable__label {background-color: #d4ebff;}#sk-container-id-2 div.sk-serial::before {content: \"\";position: absolute;border-left: 1px solid gray;box-sizing: border-box;top: 0;bottom: 0;left: 50%;z-index: 0;}#sk-container-id-2 div.sk-serial {display: flex;flex-direction: column;align-items: center;background-color: white;padding-right: 0.2em;padding-left: 0.2em;position: relative;}#sk-container-id-2 div.sk-item {position: relative;z-index: 1;}#sk-container-id-2 div.sk-parallel {display: flex;align-items: stretch;justify-content: center;background-color: white;position: relative;}#sk-container-id-2 div.sk-item::before, #sk-container-id-2 div.sk-parallel-item::before {content: \"\";position: absolute;border-left: 1px solid gray;box-sizing: border-box;top: 0;bottom: 0;left: 50%;z-index: -1;}#sk-container-id-2 div.sk-parallel-item {display: flex;flex-direction: column;z-index: 1;position: relative;background-color: white;}#sk-container-id-2 div.sk-parallel-item:first-child::after {align-self: flex-end;width: 50%;}#sk-container-id-2 div.sk-parallel-item:last-child::after {align-self: flex-start;width: 50%;}#sk-container-id-2 div.sk-parallel-item:only-child::after {width: 0;}#sk-container-id-2 div.sk-dashed-wrapped {border: 1px dashed gray;margin: 0 0.4em 0.5em 0.4em;box-sizing: border-box;padding-bottom: 0.4em;background-color: white;}#sk-container-id-2 div.sk-label label {font-family: monospace;font-weight: bold;display: inline-block;line-height: 1.2em;}#sk-container-id-2 div.sk-label-container {text-align: center;}#sk-container-id-2 div.sk-container {/* jupyter's `normalize.less` sets `[hidden] { display: none; }` but bootstrap.min.css set `[hidden] { display: none !important; }` so we also need the `!important` here to be able to override the default hidden behavior on the sphinx rendered scikit-learn.org. See: https://github.com/scikit-learn/scikit-learn/issues/21755 */display: inline-block !important;position: relative;}#sk-container-id-2 div.sk-text-repr-fallback {display: none;}</style><div id=\"sk-container-id-2\" class=\"sk-top-container\"><div class=\"sk-text-repr-fallback\"><pre>GridSearchCV(cv=3, estimator=SVC(), n_jobs=-1,\n",
       "             param_grid={&#x27;C&#x27;: [0.1, 1, 10], &#x27;gamma&#x27;: [1, 0.1, 0.01],\n",
       "                         &#x27;kernel&#x27;: [&#x27;linear&#x27;, &#x27;rbf&#x27;]},\n",
       "             verbose=2)</pre><b>In a Jupyter environment, please rerun this cell to show the HTML representation or trust the notebook. <br />On GitHub, the HTML representation is unable to render, please try loading this page with nbviewer.org.</b></div><div class=\"sk-container\" hidden><div class=\"sk-item sk-dashed-wrapped\"><div class=\"sk-label-container\"><div class=\"sk-label sk-toggleable\"><input class=\"sk-toggleable__control sk-hidden--visually\" id=\"sk-estimator-id-4\" type=\"checkbox\" ><label for=\"sk-estimator-id-4\" class=\"sk-toggleable__label sk-toggleable__label-arrow\">GridSearchCV</label><div class=\"sk-toggleable__content\"><pre>GridSearchCV(cv=3, estimator=SVC(), n_jobs=-1,\n",
       "             param_grid={&#x27;C&#x27;: [0.1, 1, 10], &#x27;gamma&#x27;: [1, 0.1, 0.01],\n",
       "                         &#x27;kernel&#x27;: [&#x27;linear&#x27;, &#x27;rbf&#x27;]},\n",
       "             verbose=2)</pre></div></div></div><div class=\"sk-parallel\"><div class=\"sk-parallel-item\"><div class=\"sk-item\"><div class=\"sk-label-container\"><div class=\"sk-label sk-toggleable\"><input class=\"sk-toggleable__control sk-hidden--visually\" id=\"sk-estimator-id-5\" type=\"checkbox\" ><label for=\"sk-estimator-id-5\" class=\"sk-toggleable__label sk-toggleable__label-arrow\">estimator: SVC</label><div class=\"sk-toggleable__content\"><pre>SVC()</pre></div></div></div><div class=\"sk-serial\"><div class=\"sk-item\"><div class=\"sk-estimator sk-toggleable\"><input class=\"sk-toggleable__control sk-hidden--visually\" id=\"sk-estimator-id-6\" type=\"checkbox\" ><label for=\"sk-estimator-id-6\" class=\"sk-toggleable__label sk-toggleable__label-arrow\">SVC</label><div class=\"sk-toggleable__content\"><pre>SVC()</pre></div></div></div></div></div></div></div></div></div></div>"
      ]
     },
     "execution_count": 19,
     "metadata": {},
     "output_type": "execute_result"
    }
   ],
   "execution_count": 19
  },
  {
   "metadata": {
    "ExecuteTime": {
     "end_time": "2024-04-20T07:44:44.451376Z",
     "start_time": "2024-04-20T07:44:44.436695Z"
    }
   },
   "cell_type": "code",
   "source": "svm_cv_ros.best_params_",
   "id": "ad418b7c21e85108",
   "outputs": [
    {
     "data": {
      "text/plain": [
       "{'C': 10, 'gamma': 0.01, 'kernel': 'rbf'}"
      ]
     },
     "execution_count": 20,
     "metadata": {},
     "output_type": "execute_result"
    }
   ],
   "execution_count": 20
  },
  {
   "metadata": {
    "ExecuteTime": {
     "end_time": "2024-04-20T07:45:15.656710Z",
     "start_time": "2024-04-20T07:44:44.452377Z"
    }
   },
   "cell_type": "code",
   "source": [
    "print(f\"Train Accuracy: {svm_cv_ros.score(X_train_ros, y_train_ros)}\")\n",
    "print(f\"Validation Accuracy: {svm_cv_ros.score(X_val, y_val)}\")\n",
    "print(f\"Test Accuracy: {svm_cv_ros.score(X_test, y_test)}\")"
   ],
   "id": "53baf6309909f443",
   "outputs": [
    {
     "name": "stdout",
     "output_type": "stream",
     "text": [
      "Train Accuracy: 0.945543428831287\n",
      "Validation Accuracy: 0.7033913511573658\n",
      "Test Accuracy: 0.7100825260136348\n"
     ]
    }
   ],
   "execution_count": 21
  },
  {
   "metadata": {
    "ExecuteTime": {
     "end_time": "2024-04-20T07:45:20.354424Z",
     "start_time": "2024-04-20T07:45:15.657711Z"
    }
   },
   "cell_type": "code",
   "source": [
    "svm_cv_ros_pred = svm_cv_ros.predict(X_test)\n",
    "\n",
    "print(classification_report(y_test, svm_cv_ros_pred))"
   ],
   "id": "3852ccc309f89995",
   "outputs": [
    {
     "name": "stdout",
     "output_type": "stream",
     "text": [
      "              precision    recall  f1-score   support\n",
      "\n",
      "High Emotion       0.77      0.80      0.78      2932\n",
      " Low Emotion       0.48      0.44      0.46       373\n",
      "     Neutral       0.66      0.64      0.65      2269\n",
      "\n",
      "    accuracy                           0.71      5574\n",
      "   macro avg       0.64      0.63      0.63      5574\n",
      "weighted avg       0.71      0.71      0.71      5574\n",
      "\n"
     ]
    }
   ],
   "execution_count": 22
  },
  {
   "metadata": {
    "ExecuteTime": {
     "end_time": "2024-04-20T08:17:58.167707Z",
     "start_time": "2024-04-20T08:17:58.050094Z"
    }
   },
   "cell_type": "code",
   "source": [
    "cm_svm_ros = confusion_matrix(y_test, svm_cv_ros_pred, labels=LABELS)\n",
    "disp_svm_ros = ConfusionMatrixDisplay(confusion_matrix=cm_svm_ros, display_labels=LABELS)\n",
    "\n",
    "disp_svm_ros.plot(values_format='')\n",
    "plt.title(\"SVM Model with Random Oversampling Confusion Matrix\")\n",
    "# gridlines off\n",
    "plt.grid(False)\n",
    "plt.show()"
   ],
   "id": "3fc0ce993caaa6c8",
   "outputs": [
    {
     "data": {
      "text/plain": [
       "<Figure size 640x480 with 2 Axes>"
      ],
      "image/png": "[encoded data removed]"
     },
     "metadata": {},
     "output_type": "display_data"
    }
   ],
   "execution_count": 60
  },
  {
   "metadata": {
    "ExecuteTime": {
     "end_time": "2024-04-20T07:45:20.495712Z",
     "start_time": "2024-04-20T07:45:20.481700Z"
    }
   },
   "cell_type": "code",
   "source": [
    "# save the model\n",
    "with open(\"models/svm_model_ros.pkl\", \"wb\") as f:\n",
    "    pickle.dump(svm_cv_ros, f)"
   ],
   "id": "bdbd6da88da2e432",
   "outputs": [],
   "execution_count": 24
  },
  {
   "metadata": {},
   "cell_type": "markdown",
   "source": "# Undersampling",
   "id": "8cee80e26a336aa6"
  },
  {
   "metadata": {
    "ExecuteTime": {
     "end_time": "2024-04-20T07:45:20.510725Z",
     "start_time": "2024-04-20T07:45:20.496714Z"
    }
   },
   "cell_type": "code",
   "source": "from imblearn.under_sampling import RandomUnderSampler",
   "id": "bc5b2628563559d3",
   "outputs": [],
   "execution_count": 25
  },
  {
   "metadata": {
    "ExecuteTime": {
     "end_time": "2024-04-20T07:45:20.556270Z",
     "start_time": "2024-04-20T07:45:20.511726Z"
    }
   },
   "cell_type": "code",
   "source": [
    "rus = RandomUnderSampler(random_state=666)\n",
    "\n",
    "X_train_rus, y_train_rus = rus.fit_resample(X_train, y_train)"
   ],
   "id": "473177760460c446",
   "outputs": [],
   "execution_count": 26
  },
  {
   "metadata": {
    "ExecuteTime": {
     "end_time": "2024-04-20T07:46:37.296734Z",
     "start_time": "2024-04-20T07:45:20.557271Z"
    }
   },
   "cell_type": "code",
   "source": [
    "svm_cv_rus = GridSearchCV(svm, grid, cv=3, n_jobs=-1, verbose=2)\n",
    "\n",
    "svm_cv_rus.fit(X_train_rus, y_train_rus)"
   ],
   "id": "b94a93ac87552a49",
   "outputs": [
    {
     "name": "stdout",
     "output_type": "stream",
     "text": [
      "Fitting 3 folds for each of 18 candidates, totalling 54 fits\n"
     ]
    },
    {
     "data": {
      "text/plain": [
       "GridSearchCV(cv=3, estimator=SVC(), n_jobs=-1,\n",
       "             param_grid={'C': [0.1, 1, 10], 'gamma': [1, 0.1, 0.01],\n",
       "                         'kernel': ['linear', 'rbf']},\n",
       "             verbose=2)"
      ],
      "text/html": [
       "<style>#sk-container-id-3 {color: black;background-color: white;}#sk-container-id-3 pre{padding: 0;}#sk-container-id-3 div.sk-toggleable {background-color: white;}#sk-container-id-3 label.sk-toggleable__label {cursor: pointer;display: block;width: 100%;margin-bottom: 0;padding: 0.3em;box-sizing: border-box;text-align: center;}#sk-container-id-3 label.sk-toggleable__label-arrow:before {content: \"▸\";float: left;margin-right: 0.25em;color: #696969;}#sk-container-id-3 label.sk-toggleable__label-arrow:hover:before {color: black;}#sk-container-id-3 div.sk-estimator:hover label.sk-toggleable__label-arrow:before {color: black;}#sk-container-id-3 div.sk-toggleable__content {max-height: 0;max-width: 0;overflow: hidden;text-align: left;background-color: #f0f8ff;}#sk-container-id-3 div.sk-toggleable__content pre {margin: 0.2em;color: black;border-radius: 0.25em;background-color: #f0f8ff;}#sk-container-id-3 input.sk-toggleable__control:checked~div.sk-toggleable__content {max-height: 200px;max-width: 100%;overflow: auto;}#sk-container-id-3 input.sk-toggleable__control:checked~label.sk-toggleable__label-arrow:before {content: \"▾\";}#sk-container-id-3 div.sk-estimator input.sk-toggleable__control:checked~label.sk-toggleable__label {background-color: #d4ebff;}#sk-container-id-3 div.sk-label input.sk-toggleable__control:checked~label.sk-toggleable__label {background-color: #d4ebff;}#sk-container-id-3 input.sk-hidden--visually {border: 0;clip: rect(1px 1px 1px 1px);clip: rect(1px, 1px, 1px, 1px);height: 1px;margin: -1px;overflow: hidden;padding: 0;position: absolute;width: 1px;}#sk-container-id-3 div.sk-estimator {font-family: monospace;background-color: #f0f8ff;border: 1px dotted black;border-radius: 0.25em;box-sizing: border-box;margin-bottom: 0.5em;}#sk-container-id-3 div.sk-estimator:hover {background-color: #d4ebff;}#sk-container-id-3 div.sk-parallel-item::after {content: \"\";width: 100%;border-bottom: 1px solid gray;flex-grow: 1;}#sk-container-id-3 div.sk-label:hover label.sk-toggleable__label {background-color: #d4ebff;}#sk-container-id-3 div.sk-serial::before {content: \"\";position: absolute;border-left: 1px solid gray;box-sizing: border-box;top: 0;bottom: 0;left: 50%;z-index: 0;}#sk-container-id-3 div.sk-serial {display: flex;flex-direction: column;align-items: center;background-color: white;padding-right: 0.2em;padding-left: 0.2em;position: relative;}#sk-container-id-3 div.sk-item {position: relative;z-index: 1;}#sk-container-id-3 div.sk-parallel {display: flex;align-items: stretch;justify-content: center;background-color: white;position: relative;}#sk-container-id-3 div.sk-item::before, #sk-container-id-3 div.sk-parallel-item::before {content: \"\";position: absolute;border-left: 1px solid gray;box-sizing: border-box;top: 0;bottom: 0;left: 50%;z-index: -1;}#sk-container-id-3 div.sk-parallel-item {display: flex;flex-direction: column;z-index: 1;position: relative;background-color: white;}#sk-container-id-3 div.sk-parallel-item:first-child::after {align-self: flex-end;width: 50%;}#sk-container-id-3 div.sk-parallel-item:last-child::after {align-self: flex-start;width: 50%;}#sk-container-id-3 div.sk-parallel-item:only-child::after {width: 0;}#sk-container-id-3 div.sk-dashed-wrapped {border: 1px dashed gray;margin: 0 0.4em 0.5em 0.4em;box-sizing: border-box;padding-bottom: 0.4em;background-color: white;}#sk-container-id-3 div.sk-label label {font-family: monospace;font-weight: bold;display: inline-block;line-height: 1.2em;}#sk-container-id-3 div.sk-label-container {text-align: center;}#sk-container-id-3 div.sk-container {/* jupyter's `normalize.less` sets `[hidden] { display: none; }` but bootstrap.min.css set `[hidden] { display: none !important; }` so we also need the `!important` here to be able to override the default hidden behavior on the sphinx rendered scikit-learn.org. See: https://github.com/scikit-learn/scikit-learn/issues/21755 */display: inline-block !important;position: relative;}#sk-container-id-3 div.sk-text-repr-fallback {display: none;}</style><div id=\"sk-container-id-3\" class=\"sk-top-container\"><div class=\"sk-text-repr-fallback\"><pre>GridSearchCV(cv=3, estimator=SVC(), n_jobs=-1,\n",
       "             param_grid={&#x27;C&#x27;: [0.1, 1, 10], &#x27;gamma&#x27;: [1, 0.1, 0.01],\n",
       "                         &#x27;kernel&#x27;: [&#x27;linear&#x27;, &#x27;rbf&#x27;]},\n",
       "             verbose=2)</pre><b>In a Jupyter environment, please rerun this cell to show the HTML representation or trust the notebook. <br />On GitHub, the HTML representation is unable to render, please try loading this page with nbviewer.org.</b></div><div class=\"sk-container\" hidden><div class=\"sk-item sk-dashed-wrapped\"><div class=\"sk-label-container\"><div class=\"sk-label sk-toggleable\"><input class=\"sk-toggleable__control sk-hidden--visually\" id=\"sk-estimator-id-7\" type=\"checkbox\" ><label for=\"sk-estimator-id-7\" class=\"sk-toggleable__label sk-toggleable__label-arrow\">GridSearchCV</label><div class=\"sk-toggleable__content\"><pre>GridSearchCV(cv=3, estimator=SVC(), n_jobs=-1,\n",
       "             param_grid={&#x27;C&#x27;: [0.1, 1, 10], &#x27;gamma&#x27;: [1, 0.1, 0.01],\n",
       "                         &#x27;kernel&#x27;: [&#x27;linear&#x27;, &#x27;rbf&#x27;]},\n",
       "             verbose=2)</pre></div></div></div><div class=\"sk-parallel\"><div class=\"sk-parallel-item\"><div class=\"sk-item\"><div class=\"sk-label-container\"><div class=\"sk-label sk-toggleable\"><input class=\"sk-toggleable__control sk-hidden--visually\" id=\"sk-estimator-id-8\" type=\"checkbox\" ><label for=\"sk-estimator-id-8\" class=\"sk-toggleable__label sk-toggleable__label-arrow\">estimator: SVC</label><div class=\"sk-toggleable__content\"><pre>SVC()</pre></div></div></div><div class=\"sk-serial\"><div class=\"sk-item\"><div class=\"sk-estimator sk-toggleable\"><input class=\"sk-toggleable__control sk-hidden--visually\" id=\"sk-estimator-id-9\" type=\"checkbox\" ><label for=\"sk-estimator-id-9\" class=\"sk-toggleable__label sk-toggleable__label-arrow\">SVC</label><div class=\"sk-toggleable__content\"><pre>SVC()</pre></div></div></div></div></div></div></div></div></div></div>"
      ]
     },
     "execution_count": 27,
     "metadata": {},
     "output_type": "execute_result"
    }
   ],
   "execution_count": 27
  },
  {
   "metadata": {
    "ExecuteTime": {
     "end_time": "2024-04-20T07:46:37.311750Z",
     "start_time": "2024-04-20T07:46:37.297736Z"
    }
   },
   "cell_type": "code",
   "source": "svm_cv_rus.best_params_",
   "id": "8b9a970e62428c73",
   "outputs": [
    {
     "data": {
      "text/plain": [
       "{'C': 10, 'gamma': 1, 'kernel': 'linear'}"
      ]
     },
     "execution_count": 28,
     "metadata": {},
     "output_type": "execute_result"
    }
   ],
   "execution_count": 28
  },
  {
   "metadata": {
    "ExecuteTime": {
     "end_time": "2024-04-20T07:46:37.435505Z",
     "start_time": "2024-04-20T07:46:37.312752Z"
    }
   },
   "cell_type": "code",
   "source": "print(f\"Train Accuracy: {svm_cv_rus.score(X_train_rus, y_train_rus)}\")",
   "id": "fe6b747dd1d0c81a",
   "outputs": [
    {
     "name": "stdout",
     "output_type": "stream",
     "text": [
      "Train Accuracy: 0.7761862130707251\n"
     ]
    }
   ],
   "execution_count": 29
  },
  {
   "metadata": {
    "ExecuteTime": {
     "end_time": "2024-04-20T07:46:37.690460Z",
     "start_time": "2024-04-20T07:46:37.436510Z"
    }
   },
   "cell_type": "code",
   "source": [
    "svm_cv_rus_pred = svm_cv_rus.predict(X_test)\n",
    "\n",
    "print(classification_report(y_test, svm_cv_rus_pred))"
   ],
   "id": "60e2e6582fe1c361",
   "outputs": [
    {
     "name": "stdout",
     "output_type": "stream",
     "text": [
      "              precision    recall  f1-score   support\n",
      "\n",
      "High Emotion       0.82      0.84      0.83      2932\n",
      " Low Emotion       0.43      0.87      0.57       373\n",
      "     Neutral       0.74      0.59      0.65      2269\n",
      "\n",
      "    accuracy                           0.74      5574\n",
      "   macro avg       0.66      0.77      0.69      5574\n",
      "weighted avg       0.76      0.74      0.74      5574\n",
      "\n"
     ]
    }
   ],
   "execution_count": 30
  },
  {
   "metadata": {
    "ExecuteTime": {
     "end_time": "2024-04-20T08:18:13.625189Z",
     "start_time": "2024-04-20T08:18:13.502573Z"
    }
   },
   "cell_type": "code",
   "source": [
    "cm_svm_rus = confusion_matrix(y_test, svm_cv_rus_pred, labels=LABELS)\n",
    "disp_svm_rus = ConfusionMatrixDisplay(confusion_matrix=cm_svm_rus, display_labels=LABELS)\n",
    "\n",
    "disp_svm_rus.plot(values_format='')\n",
    "plt.title(\"SVM Model with Random Undersampling Confusion Matrix\")\n",
    "plt.grid(False)\n",
    "plt.show()"
   ],
   "id": "2e982e9d0f93e6f6",
   "outputs": [
    {
     "data": {
      "text/plain": [
       "<Figure size 640x480 with 2 Axes>"
      ],
      "image/png": "[encoded data removed]"
     },
     "metadata": {},
     "output_type": "display_data"
    }
   ],
   "execution_count": 61
  },
  {
   "metadata": {
    "ExecuteTime": {
     "end_time": "2024-04-20T07:46:37.831234Z",
     "start_time": "2024-04-20T07:46:37.816717Z"
    }
   },
   "cell_type": "code",
   "source": [
    "# save the model\n",
    "with open(\"models/svm_model_rus.pkl\", \"wb\") as f:\n",
    "    pickle.dump(svm_cv_rus, f)"
   ],
   "id": "e67289204d3db40f",
   "outputs": [],
   "execution_count": 32
  },
  {
   "metadata": {},
   "cell_type": "markdown",
   "source": "# SMOTE",
   "id": "f1344bd386c2f6c"
  },
  {
   "metadata": {
    "ExecuteTime": {
     "end_time": "2024-04-20T07:46:37.847249Z",
     "start_time": "2024-04-20T07:46:37.832235Z"
    }
   },
   "cell_type": "code",
   "source": "from imblearn.over_sampling import SMOTE",
   "id": "87eace6adf32c34b",
   "outputs": [],
   "execution_count": 33
  },
  {
   "metadata": {
    "ExecuteTime": {
     "end_time": "2024-04-20T07:46:38.035682Z",
     "start_time": "2024-04-20T07:46:37.851252Z"
    }
   },
   "cell_type": "code",
   "source": [
    "smote = SMOTE(random_state=666)\n",
    "\n",
    "X_train_smote, y_train_smote = smote.fit_resample(X_train, y_train)"
   ],
   "id": "7e10b9ae3c4b0bd4",
   "outputs": [],
   "execution_count": 34
  },
  {
   "metadata": {
    "ExecuteTime": {
     "end_time": "2024-04-20T07:56:50.162283Z",
     "start_time": "2024-04-20T07:46:38.036683Z"
    }
   },
   "cell_type": "code",
   "source": [
    "svm_cv_smote = GridSearchCV(svm, grid, cv=3, n_jobs=-1, verbose=2)\n",
    "\n",
    "svm_cv_smote.fit(X_train_smote, y_train_smote)"
   ],
   "id": "10d482057d332cb1",
   "outputs": [
    {
     "name": "stdout",
     "output_type": "stream",
     "text": [
      "Fitting 3 folds for each of 18 candidates, totalling 54 fits\n"
     ]
    },
    {
     "data": {
      "text/plain": [
       "GridSearchCV(cv=3, estimator=SVC(), n_jobs=-1,\n",
       "             param_grid={'C': [0.1, 1, 10], 'gamma': [1, 0.1, 0.01],\n",
       "                         'kernel': ['linear', 'rbf']},\n",
       "             verbose=2)"
      ],
      "text/html": [
       "<style>#sk-container-id-4 {color: black;background-color: white;}#sk-container-id-4 pre{padding: 0;}#sk-container-id-4 div.sk-toggleable {background-color: white;}#sk-container-id-4 label.sk-toggleable__label {cursor: pointer;display: block;width: 100%;margin-bottom: 0;padding: 0.3em;box-sizing: border-box;text-align: center;}#sk-container-id-4 label.sk-toggleable__label-arrow:before {content: \"▸\";float: left;margin-right: 0.25em;color: #696969;}#sk-container-id-4 label.sk-toggleable__label-arrow:hover:before {color: black;}#sk-container-id-4 div.sk-estimator:hover label.sk-toggleable__label-arrow:before {color: black;}#sk-container-id-4 div.sk-toggleable__content {max-height: 0;max-width: 0;overflow: hidden;text-align: left;background-color: #f0f8ff;}#sk-container-id-4 div.sk-toggleable__content pre {margin: 0.2em;color: black;border-radius: 0.25em;background-color: #f0f8ff;}#sk-container-id-4 input.sk-toggleable__control:checked~div.sk-toggleable__content {max-height: 200px;max-width: 100%;overflow: auto;}#sk-container-id-4 input.sk-toggleable__control:checked~label.sk-toggleable__label-arrow:before {content: \"▾\";}#sk-container-id-4 div.sk-estimator input.sk-toggleable__control:checked~label.sk-toggleable__label {background-color: #d4ebff;}#sk-container-id-4 div.sk-label input.sk-toggleable__control:checked~label.sk-toggleable__label {background-color: #d4ebff;}#sk-container-id-4 input.sk-hidden--visually {border: 0;clip: rect(1px 1px 1px 1px);clip: rect(1px, 1px, 1px, 1px);height: 1px;margin: -1px;overflow: hidden;padding: 0;position: absolute;width: 1px;}#sk-container-id-4 div.sk-estimator {font-family: monospace;background-color: #f0f8ff;border: 1px dotted black;border-radius: 0.25em;box-sizing: border-box;margin-bottom: 0.5em;}#sk-container-id-4 div.sk-estimator:hover {background-color: #d4ebff;}#sk-container-id-4 div.sk-parallel-item::after {content: \"\";width: 100%;border-bottom: 1px solid gray;flex-grow: 1;}#sk-container-id-4 div.sk-label:hover label.sk-toggleable__label {background-color: #d4ebff;}#sk-container-id-4 div.sk-serial::before {content: \"\";position: absolute;border-left: 1px solid gray;box-sizing: border-box;top: 0;bottom: 0;left: 50%;z-index: 0;}#sk-container-id-4 div.sk-serial {display: flex;flex-direction: column;align-items: center;background-color: white;padding-right: 0.2em;padding-left: 0.2em;position: relative;}#sk-container-id-4 div.sk-item {position: relative;z-index: 1;}#sk-container-id-4 div.sk-parallel {display: flex;align-items: stretch;justify-content: center;background-color: white;position: relative;}#sk-container-id-4 div.sk-item::before, #sk-container-id-4 div.sk-parallel-item::before {content: \"\";position: absolute;border-left: 1px solid gray;box-sizing: border-box;top: 0;bottom: 0;left: 50%;z-index: -1;}#sk-container-id-4 div.sk-parallel-item {display: flex;flex-direction: column;z-index: 1;position: relative;background-color: white;}#sk-container-id-4 div.sk-parallel-item:first-child::after {align-self: flex-end;width: 50%;}#sk-container-id-4 div.sk-parallel-item:last-child::after {align-self: flex-start;width: 50%;}#sk-container-id-4 div.sk-parallel-item:only-child::after {width: 0;}#sk-container-id-4 div.sk-dashed-wrapped {border: 1px dashed gray;margin: 0 0.4em 0.5em 0.4em;box-sizing: border-box;padding-bottom: 0.4em;background-color: white;}#sk-container-id-4 div.sk-label label {font-family: monospace;font-weight: bold;display: inline-block;line-height: 1.2em;}#sk-container-id-4 div.sk-label-container {text-align: center;}#sk-container-id-4 div.sk-container {/* jupyter's `normalize.less` sets `[hidden] { display: none; }` but bootstrap.min.css set `[hidden] { display: none !important; }` so we also need the `!important` here to be able to override the default hidden behavior on the sphinx rendered scikit-learn.org. See: https://github.com/scikit-learn/scikit-learn/issues/21755 */display: inline-block !important;position: relative;}#sk-container-id-4 div.sk-text-repr-fallback {display: none;}</style><div id=\"sk-container-id-4\" class=\"sk-top-container\"><div class=\"sk-text-repr-fallback\"><pre>GridSearchCV(cv=3, estimator=SVC(), n_jobs=-1,\n",
       "             param_grid={&#x27;C&#x27;: [0.1, 1, 10], &#x27;gamma&#x27;: [1, 0.1, 0.01],\n",
       "                         &#x27;kernel&#x27;: [&#x27;linear&#x27;, &#x27;rbf&#x27;]},\n",
       "             verbose=2)</pre><b>In a Jupyter environment, please rerun this cell to show the HTML representation or trust the notebook. <br />On GitHub, the HTML representation is unable to render, please try loading this page with nbviewer.org.</b></div><div class=\"sk-container\" hidden><div class=\"sk-item sk-dashed-wrapped\"><div class=\"sk-label-container\"><div class=\"sk-label sk-toggleable\"><input class=\"sk-toggleable__control sk-hidden--visually\" id=\"sk-estimator-id-10\" type=\"checkbox\" ><label for=\"sk-estimator-id-10\" class=\"sk-toggleable__label sk-toggleable__label-arrow\">GridSearchCV</label><div class=\"sk-toggleable__content\"><pre>GridSearchCV(cv=3, estimator=SVC(), n_jobs=-1,\n",
       "             param_grid={&#x27;C&#x27;: [0.1, 1, 10], &#x27;gamma&#x27;: [1, 0.1, 0.01],\n",
       "                         &#x27;kernel&#x27;: [&#x27;linear&#x27;, &#x27;rbf&#x27;]},\n",
       "             verbose=2)</pre></div></div></div><div class=\"sk-parallel\"><div class=\"sk-parallel-item\"><div class=\"sk-item\"><div class=\"sk-label-container\"><div class=\"sk-label sk-toggleable\"><input class=\"sk-toggleable__control sk-hidden--visually\" id=\"sk-estimator-id-11\" type=\"checkbox\" ><label for=\"sk-estimator-id-11\" class=\"sk-toggleable__label sk-toggleable__label-arrow\">estimator: SVC</label><div class=\"sk-toggleable__content\"><pre>SVC()</pre></div></div></div><div class=\"sk-serial\"><div class=\"sk-item\"><div class=\"sk-estimator sk-toggleable\"><input class=\"sk-toggleable__control sk-hidden--visually\" id=\"sk-estimator-id-12\" type=\"checkbox\" ><label for=\"sk-estimator-id-12\" class=\"sk-toggleable__label sk-toggleable__label-arrow\">SVC</label><div class=\"sk-toggleable__content\"><pre>SVC()</pre></div></div></div></div></div></div></div></div></div></div>"
      ]
     },
     "execution_count": 35,
     "metadata": {},
     "output_type": "execute_result"
    }
   ],
   "execution_count": 35
  },
  {
   "metadata": {
    "ExecuteTime": {
     "end_time": "2024-04-20T07:56:50.178213Z",
     "start_time": "2024-04-20T07:56:50.162283Z"
    }
   },
   "cell_type": "code",
   "source": "svm_cv_smote.best_params_",
   "id": "63202852d22567b6",
   "outputs": [
    {
     "data": {
      "text/plain": [
       "{'C': 10, 'gamma': 0.01, 'kernel': 'rbf'}"
      ]
     },
     "execution_count": 36,
     "metadata": {},
     "output_type": "execute_result"
    }
   ],
   "execution_count": 36
  },
  {
   "metadata": {
    "ExecuteTime": {
     "end_time": "2024-04-20T07:57:20.675804Z",
     "start_time": "2024-04-20T07:56:50.179214Z"
    }
   },
   "cell_type": "code",
   "source": [
    "print(f\"Train Accuracy: {svm_cv_smote.score(X_train_smote, y_train_smote)}\")\n",
    "print(f\"Validation Accuracy: {svm_cv_smote.score(X_val, y_val)}\")\n",
    "print(f\"Test Accuracy: {svm_cv_smote.score(X_test, y_test)}\")"
   ],
   "id": "5f425d9b666090b3",
   "outputs": [
    {
     "name": "stdout",
     "output_type": "stream",
     "text": [
      "Train Accuracy: 0.9458087009246627\n",
      "Validation Accuracy: 0.7060828996949579\n",
      "Test Accuracy: 0.7102619303911015\n"
     ]
    }
   ],
   "execution_count": 37
  },
  {
   "metadata": {
    "ExecuteTime": {
     "end_time": "2024-04-20T07:57:25.294918Z",
     "start_time": "2024-04-20T07:57:20.676805Z"
    }
   },
   "cell_type": "code",
   "source": [
    "svm_cv_smote_pred = svm_cv_smote.predict(X_test)\n",
    "\n",
    "print(classification_report(y_test, svm_cv_smote_pred))"
   ],
   "id": "6e27b8fd00d917d7",
   "outputs": [
    {
     "name": "stdout",
     "output_type": "stream",
     "text": [
      "              precision    recall  f1-score   support\n",
      "\n",
      "High Emotion       0.77      0.80      0.79      2932\n",
      " Low Emotion       0.46      0.47      0.46       373\n",
      "     Neutral       0.67      0.63      0.65      2269\n",
      "\n",
      "    accuracy                           0.71      5574\n",
      "   macro avg       0.63      0.63      0.63      5574\n",
      "weighted avg       0.71      0.71      0.71      5574\n",
      "\n"
     ]
    }
   ],
   "execution_count": 38
  },
  {
   "metadata": {
    "ExecuteTime": {
     "end_time": "2024-04-20T08:18:26.639438Z",
     "start_time": "2024-04-20T08:18:26.511812Z"
    }
   },
   "cell_type": "code",
   "source": [
    "cm_svm_smote = confusion_matrix(y_test, svm_cv_smote_pred, labels=LABELS)\n",
    "disp_svm_smote = ConfusionMatrixDisplay(confusion_matrix=cm_svm_smote, display_labels=LABELS)\n",
    "\n",
    "disp_svm_smote.plot(values_format='')\n",
    "plt.title(\"SVM Model with SMOTE Confusion Matrix\")\n",
    "plt.grid(False)\n",
    "plt.show()"
   ],
   "id": "fdcff8faa3ca3d3d",
   "outputs": [
    {
     "data": {
      "text/plain": [
       "<Figure size 640x480 with 2 Axes>"
      ],
      "image/png": "[encoded data removed]"
     },
     "metadata": {},
     "output_type": "display_data"
    }
   ],
   "execution_count": 62
  },
  {
   "metadata": {
    "ExecuteTime": {
     "end_time": "2024-04-20T07:57:25.437940Z",
     "start_time": "2024-04-20T07:57:25.422927Z"
    }
   },
   "cell_type": "code",
   "source": [
    "# save the model\n",
    "with open(\"models/svm_model_smote.pkl\", \"wb\") as f:\n",
    "    pickle.dump(svm_cv_smote, f)"
   ],
   "id": "5694ae1450ac1222",
   "outputs": [],
   "execution_count": 40
  }
 ],
 "metadata": {
  "kernelspec": {
   "display_name": "Python 3",
   "language": "python",
   "name": "python3"
  },
  "language_info": {
   "codemirror_mode": {
    "name": "ipython",
    "version": 2
   },
   "file_extension": ".py",
   "mimetype": "text/x-python",
   "name": "python",
   "nbconvert_exporter": "python",
   "pygments_lexer": "ipython2",
   "version": "2.7.6"
  }
 },
 "nbformat": 4,
 "nbformat_minor": 5
}
