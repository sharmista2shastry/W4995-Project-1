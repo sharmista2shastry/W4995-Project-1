{
 "cells": [
  {
   "cell_type": "code",
   "id": "initial_id",
   "metadata": {
    "collapsed": true,
    "ExecuteTime": {
     "end_time": "2024-04-20T08:31:48.390366Z",
     "start_time": "2024-04-20T08:31:48.376353Z"
    }
   },
   "source": [
    "import pandas as pd\n",
    "import numpy as np\n",
    "from sklearn.preprocessing import OneHotEncoder, RobustScaler\n",
    "from sklearn.model_selection import train_test_split\n",
    "import matplotlib.pyplot as plt"
   ],
   "outputs": [],
   "execution_count": 19
  },
  {
   "metadata": {
    "ExecuteTime": {
     "end_time": "2024-04-20T08:31:48.566350Z",
     "start_time": "2024-04-20T08:31:48.423716Z"
    }
   },
   "cell_type": "code",
   "source": [
    "#LOAD DATASET (data is already cleaned from notebook.ipynb)\n",
    "song_df = pd.read_csv(\"processed_song_data.csv\")\n",
    "\n",
    "song_df.head()"
   ],
   "id": "84c81eefc6edb9c",
   "outputs": [
    {
     "data": {
      "text/plain": [
       "                                Track Name      Artist Name(s)  \\\n",
       "0  Justified & Ancient - Stand by the Jams             The KLF   \n",
       "1          I Know You Want Me (Calle Ocho)             Pitbull   \n",
       "2       From the Bottom of My Broken Heart      Britney Spears   \n",
       "3         Apeman - 2014 Remastered Version           The Kinks   \n",
       "4       You Can't Always Get What You Want  The Rolling Stones   \n",
       "\n",
       "                                          Album Name Album Artist Name(s)  \\\n",
       "0                                   Songs Collection              The KLF   \n",
       "1                     Pitbull Starring In Rebelution              Pitbull   \n",
       "2     ...Baby One More Time (Digital Deluxe Version)       Britney Spears   \n",
       "3  Lola vs. Powerman and the Moneygoround, Pt. On...            The Kinks   \n",
       "4                                       Let It Bleed   The Rolling Stones   \n",
       "\n",
       "   Explicit  age             artist_name    dating  family/gospel genre  ...  \\\n",
       "0     False  1.0                  mukesh  0.000598       0.048857   pop  ...   \n",
       "1     False  1.0         'frankie laine'  0.035537       0.027007   pop  ...   \n",
       "2     False  1.0           'johnnie ray'  0.002770       0.002770   pop  ...   \n",
       "3     False  1.0            'prez prado'  0.048249       0.001548   pop  ...   \n",
       "4     False  1.0  'giorgos papadopoulos'  0.001350       0.001350   pop  ...   \n",
       "\n",
       "   feelings  light/visual_perceptions like/girls movement/places     music  \\\n",
       "0  0.117175                  0.000598   0.000598        0.000598  0.039288   \n",
       "1  0.001284                  0.212681   0.001284        0.001284  0.118034   \n",
       "2  0.225422                  0.002770   0.002770        0.002770  0.323794   \n",
       "3  0.001548                  0.001548   0.081132        0.129250  0.001548   \n",
       "4  0.001350                  0.001350   0.001350        0.001350  0.001350   \n",
       "\n",
       "    obscene   sadness  shake_the_audience    mood_%          mood  \n",
       "0  0.000598  0.380299            0.000598  0.426354       Neutral  \n",
       "1  0.001284  0.001284            0.001284  0.770510  High Emotion  \n",
       "2  0.002770  0.002770            0.002770  0.683601  High Emotion  \n",
       "3  0.001548  0.225889            0.021500  0.604193  High Emotion  \n",
       "4  0.001350  0.068800            0.001350  0.523334       Neutral  \n",
       "\n",
       "[5 rows x 38 columns]"
      ],
      "text/html": [
       "<div>\n",
       "<style scoped>\n",
       "    .dataframe tbody tr th:only-of-type {\n",
       "        vertical-align: middle;\n",
       "    }\n",
       "\n",
       "    .dataframe tbody tr th {\n",
       "        vertical-align: top;\n",
       "    }\n",
       "\n",
       "    .dataframe thead th {\n",
       "        text-align: right;\n",
       "    }\n",
       "</style>\n",
       "<table border=\"1\" class=\"dataframe\">\n",
       "  <thead>\n",
       "    <tr style=\"text-align: right;\">\n",
       "      <th></th>\n",
       "      <th>Track Name</th>\n",
       "      <th>Artist Name(s)</th>\n",
       "      <th>Album Name</th>\n",
       "      <th>Album Artist Name(s)</th>\n",
       "      <th>Explicit</th>\n",
       "      <th>age</th>\n",
       "      <th>artist_name</th>\n",
       "      <th>dating</th>\n",
       "      <th>family/gospel</th>\n",
       "      <th>genre</th>\n",
       "      <th>...</th>\n",
       "      <th>feelings</th>\n",
       "      <th>light/visual_perceptions</th>\n",
       "      <th>like/girls</th>\n",
       "      <th>movement/places</th>\n",
       "      <th>music</th>\n",
       "      <th>obscene</th>\n",
       "      <th>sadness</th>\n",
       "      <th>shake_the_audience</th>\n",
       "      <th>mood_%</th>\n",
       "      <th>mood</th>\n",
       "    </tr>\n",
       "  </thead>\n",
       "  <tbody>\n",
       "    <tr>\n",
       "      <th>0</th>\n",
       "      <td>Justified &amp; Ancient - Stand by the Jams</td>\n",
       "      <td>The KLF</td>\n",
       "      <td>Songs Collection</td>\n",
       "      <td>The KLF</td>\n",
       "      <td>False</td>\n",
       "      <td>1.0</td>\n",
       "      <td>mukesh</td>\n",
       "      <td>0.000598</td>\n",
       "      <td>0.048857</td>\n",
       "      <td>pop</td>\n",
       "      <td>...</td>\n",
       "      <td>0.117175</td>\n",
       "      <td>0.000598</td>\n",
       "      <td>0.000598</td>\n",
       "      <td>0.000598</td>\n",
       "      <td>0.039288</td>\n",
       "      <td>0.000598</td>\n",
       "      <td>0.380299</td>\n",
       "      <td>0.000598</td>\n",
       "      <td>0.426354</td>\n",
       "      <td>Neutral</td>\n",
       "    </tr>\n",
       "    <tr>\n",
       "      <th>1</th>\n",
       "      <td>I Know You Want Me (Calle Ocho)</td>\n",
       "      <td>Pitbull</td>\n",
       "      <td>Pitbull Starring In Rebelution</td>\n",
       "      <td>Pitbull</td>\n",
       "      <td>False</td>\n",
       "      <td>1.0</td>\n",
       "      <td>'frankie laine'</td>\n",
       "      <td>0.035537</td>\n",
       "      <td>0.027007</td>\n",
       "      <td>pop</td>\n",
       "      <td>...</td>\n",
       "      <td>0.001284</td>\n",
       "      <td>0.212681</td>\n",
       "      <td>0.001284</td>\n",
       "      <td>0.001284</td>\n",
       "      <td>0.118034</td>\n",
       "      <td>0.001284</td>\n",
       "      <td>0.001284</td>\n",
       "      <td>0.001284</td>\n",
       "      <td>0.770510</td>\n",
       "      <td>High Emotion</td>\n",
       "    </tr>\n",
       "    <tr>\n",
       "      <th>2</th>\n",
       "      <td>From the Bottom of My Broken Heart</td>\n",
       "      <td>Britney Spears</td>\n",
       "      <td>...Baby One More Time (Digital Deluxe Version)</td>\n",
       "      <td>Britney Spears</td>\n",
       "      <td>False</td>\n",
       "      <td>1.0</td>\n",
       "      <td>'johnnie ray'</td>\n",
       "      <td>0.002770</td>\n",
       "      <td>0.002770</td>\n",
       "      <td>pop</td>\n",
       "      <td>...</td>\n",
       "      <td>0.225422</td>\n",
       "      <td>0.002770</td>\n",
       "      <td>0.002770</td>\n",
       "      <td>0.002770</td>\n",
       "      <td>0.323794</td>\n",
       "      <td>0.002770</td>\n",
       "      <td>0.002770</td>\n",
       "      <td>0.002770</td>\n",
       "      <td>0.683601</td>\n",
       "      <td>High Emotion</td>\n",
       "    </tr>\n",
       "    <tr>\n",
       "      <th>3</th>\n",
       "      <td>Apeman - 2014 Remastered Version</td>\n",
       "      <td>The Kinks</td>\n",
       "      <td>Lola vs. Powerman and the Moneygoround, Pt. On...</td>\n",
       "      <td>The Kinks</td>\n",
       "      <td>False</td>\n",
       "      <td>1.0</td>\n",
       "      <td>'prez prado'</td>\n",
       "      <td>0.048249</td>\n",
       "      <td>0.001548</td>\n",
       "      <td>pop</td>\n",
       "      <td>...</td>\n",
       "      <td>0.001548</td>\n",
       "      <td>0.001548</td>\n",
       "      <td>0.081132</td>\n",
       "      <td>0.129250</td>\n",
       "      <td>0.001548</td>\n",
       "      <td>0.001548</td>\n",
       "      <td>0.225889</td>\n",
       "      <td>0.021500</td>\n",
       "      <td>0.604193</td>\n",
       "      <td>High Emotion</td>\n",
       "    </tr>\n",
       "    <tr>\n",
       "      <th>4</th>\n",
       "      <td>You Can't Always Get What You Want</td>\n",
       "      <td>The Rolling Stones</td>\n",
       "      <td>Let It Bleed</td>\n",
       "      <td>The Rolling Stones</td>\n",
       "      <td>False</td>\n",
       "      <td>1.0</td>\n",
       "      <td>'giorgos papadopoulos'</td>\n",
       "      <td>0.001350</td>\n",
       "      <td>0.001350</td>\n",
       "      <td>pop</td>\n",
       "      <td>...</td>\n",
       "      <td>0.001350</td>\n",
       "      <td>0.001350</td>\n",
       "      <td>0.001350</td>\n",
       "      <td>0.001350</td>\n",
       "      <td>0.001350</td>\n",
       "      <td>0.001350</td>\n",
       "      <td>0.068800</td>\n",
       "      <td>0.001350</td>\n",
       "      <td>0.523334</td>\n",
       "      <td>Neutral</td>\n",
       "    </tr>\n",
       "  </tbody>\n",
       "</table>\n",
       "<p>5 rows × 38 columns</p>\n",
       "</div>"
      ]
     },
     "execution_count": 20,
     "metadata": {},
     "output_type": "execute_result"
    }
   ],
   "execution_count": 20
  },
  {
   "metadata": {
    "ExecuteTime": {
     "end_time": "2024-04-20T08:31:48.582364Z",
     "start_time": "2024-04-20T08:31:48.567351Z"
    }
   },
   "cell_type": "code",
   "source": [
    "# Step 4: Feature Extraction\n",
    "# split data into features and labels.\n",
    "song_X = song_df.drop(columns=[\n",
    "    # these are y variables\n",
    "    'mood', 'mood_%',\n",
    "    # these are too specific and may lead to overfitting\n",
    "    'Track Name', 'Artist Name(s)', 'Album Name', 'Album Artist Name(s)', 'artist_name', 'track_name',\n",
    "    # these are directly used to calculate mood, so to prevent data leakage we will drop them\n",
    "    \"Energy\", \"Valence\", \"sadness\"\n",
    "])\n",
    "\n",
    "song_y = song_df['mood']"
   ],
   "id": "46f7fcba00efa71e",
   "outputs": [],
   "execution_count": 21
  },
  {
   "metadata": {
    "ExecuteTime": {
     "end_time": "2024-04-20T08:31:48.613903Z",
     "start_time": "2024-04-20T08:31:48.583365Z"
    }
   },
   "cell_type": "code",
   "source": [
    "# encode labels\n",
    "\n",
    "# Select categorical columns\n",
    "categorical_columns = [\"genre\", \"topic\"]\n",
    "categorical_features = song_X[categorical_columns]\n",
    "\n",
    "# OneHotEncode categorical features\n",
    "onehot_encoder = OneHotEncoder(sparse=False, drop='first', handle_unknown='error')\n",
    "onehot_encoded_features = onehot_encoder.fit_transform(categorical_features)\n",
    "\n",
    "one_hot_encoded_df = pd.DataFrame(onehot_encoded_features,\n",
    "                                  columns=onehot_encoder.get_feature_names_out(categorical_columns))\n",
    "\n",
    "one_hot_encoded_df.head()"
   ],
   "id": "c8a0e1c109c391ce",
   "outputs": [
    {
     "data": {
      "text/plain": [
       "   genre_blues  genre_country  genre_jazz  genre_pop  genre_reggae  \\\n",
       "0          0.0            0.0         0.0        1.0           0.0   \n",
       "1          0.0            0.0         0.0        1.0           0.0   \n",
       "2          0.0            0.0         0.0        1.0           0.0   \n",
       "3          0.0            0.0         0.0        1.0           0.0   \n",
       "4          0.0            0.0         0.0        1.0           0.0   \n",
       "\n",
       "   genre_rock  topic_music  topic_night/time  topic_obscene  topic_romantic  \\\n",
       "0         0.0          0.0               0.0            0.0             0.0   \n",
       "1         0.0          0.0               0.0            0.0             0.0   \n",
       "2         0.0          1.0               0.0            0.0             0.0   \n",
       "3         0.0          0.0               0.0            0.0             1.0   \n",
       "4         0.0          0.0               0.0            0.0             1.0   \n",
       "\n",
       "   topic_sadness  topic_violence  topic_world/life  \n",
       "0            1.0             0.0               0.0  \n",
       "1            0.0             0.0               1.0  \n",
       "2            0.0             0.0               0.0  \n",
       "3            0.0             0.0               0.0  \n",
       "4            0.0             0.0               0.0  "
      ],
      "text/html": [
       "<div>\n",
       "<style scoped>\n",
       "    .dataframe tbody tr th:only-of-type {\n",
       "        vertical-align: middle;\n",
       "    }\n",
       "\n",
       "    .dataframe tbody tr th {\n",
       "        vertical-align: top;\n",
       "    }\n",
       "\n",
       "    .dataframe thead th {\n",
       "        text-align: right;\n",
       "    }\n",
       "</style>\n",
       "<table border=\"1\" class=\"dataframe\">\n",
       "  <thead>\n",
       "    <tr style=\"text-align: right;\">\n",
       "      <th></th>\n",
       "      <th>genre_blues</th>\n",
       "      <th>genre_country</th>\n",
       "      <th>genre_jazz</th>\n",
       "      <th>genre_pop</th>\n",
       "      <th>genre_reggae</th>\n",
       "      <th>genre_rock</th>\n",
       "      <th>topic_music</th>\n",
       "      <th>topic_night/time</th>\n",
       "      <th>topic_obscene</th>\n",
       "      <th>topic_romantic</th>\n",
       "      <th>topic_sadness</th>\n",
       "      <th>topic_violence</th>\n",
       "      <th>topic_world/life</th>\n",
       "    </tr>\n",
       "  </thead>\n",
       "  <tbody>\n",
       "    <tr>\n",
       "      <th>0</th>\n",
       "      <td>0.0</td>\n",
       "      <td>0.0</td>\n",
       "      <td>0.0</td>\n",
       "      <td>1.0</td>\n",
       "      <td>0.0</td>\n",
       "      <td>0.0</td>\n",
       "      <td>0.0</td>\n",
       "      <td>0.0</td>\n",
       "      <td>0.0</td>\n",
       "      <td>0.0</td>\n",
       "      <td>1.0</td>\n",
       "      <td>0.0</td>\n",
       "      <td>0.0</td>\n",
       "    </tr>\n",
       "    <tr>\n",
       "      <th>1</th>\n",
       "      <td>0.0</td>\n",
       "      <td>0.0</td>\n",
       "      <td>0.0</td>\n",
       "      <td>1.0</td>\n",
       "      <td>0.0</td>\n",
       "      <td>0.0</td>\n",
       "      <td>0.0</td>\n",
       "      <td>0.0</td>\n",
       "      <td>0.0</td>\n",
       "      <td>0.0</td>\n",
       "      <td>0.0</td>\n",
       "      <td>0.0</td>\n",
       "      <td>1.0</td>\n",
       "    </tr>\n",
       "    <tr>\n",
       "      <th>2</th>\n",
       "      <td>0.0</td>\n",
       "      <td>0.0</td>\n",
       "      <td>0.0</td>\n",
       "      <td>1.0</td>\n",
       "      <td>0.0</td>\n",
       "      <td>0.0</td>\n",
       "      <td>1.0</td>\n",
       "      <td>0.0</td>\n",
       "      <td>0.0</td>\n",
       "      <td>0.0</td>\n",
       "      <td>0.0</td>\n",
       "      <td>0.0</td>\n",
       "      <td>0.0</td>\n",
       "    </tr>\n",
       "    <tr>\n",
       "      <th>3</th>\n",
       "      <td>0.0</td>\n",
       "      <td>0.0</td>\n",
       "      <td>0.0</td>\n",
       "      <td>1.0</td>\n",
       "      <td>0.0</td>\n",
       "      <td>0.0</td>\n",
       "      <td>0.0</td>\n",
       "      <td>0.0</td>\n",
       "      <td>0.0</td>\n",
       "      <td>1.0</td>\n",
       "      <td>0.0</td>\n",
       "      <td>0.0</td>\n",
       "      <td>0.0</td>\n",
       "    </tr>\n",
       "    <tr>\n",
       "      <th>4</th>\n",
       "      <td>0.0</td>\n",
       "      <td>0.0</td>\n",
       "      <td>0.0</td>\n",
       "      <td>1.0</td>\n",
       "      <td>0.0</td>\n",
       "      <td>0.0</td>\n",
       "      <td>0.0</td>\n",
       "      <td>0.0</td>\n",
       "      <td>0.0</td>\n",
       "      <td>1.0</td>\n",
       "      <td>0.0</td>\n",
       "      <td>0.0</td>\n",
       "      <td>0.0</td>\n",
       "    </tr>\n",
       "  </tbody>\n",
       "</table>\n",
       "</div>"
      ]
     },
     "execution_count": 22,
     "metadata": {},
     "output_type": "execute_result"
    }
   ],
   "execution_count": 22
  },
  {
   "metadata": {
    "ExecuteTime": {
     "end_time": "2024-04-20T08:31:48.677961Z",
     "start_time": "2024-04-20T08:31:48.614904Z"
    }
   },
   "cell_type": "code",
   "source": [
    "# Scale numerical features with Robust Scaler to prevent outliers\n",
    "# Select numerical columns\n",
    "numerical_columns = song_X.drop(columns=categorical_columns)\n",
    "\n",
    "# scale features\n",
    "robust_scaler = RobustScaler()\n",
    "scaled_numerical_song_X = robust_scaler.fit_transform(numerical_columns)\n",
    "\n",
    "# add scaled features back to dataset\n",
    "song_df_scaled = pd.DataFrame(scaled_numerical_song_X, columns=numerical_columns.columns)\n",
    "\n",
    "song_df_scaled.head()"
   ],
   "id": "207c7ca8bf4744f",
   "outputs": [
    {
     "data": {
      "text/plain": [
       "   Explicit       age     dating  family/gospel  night/time   romantic  \\\n",
       "0       0.0  1.354839  -0.304616      13.753176   -0.020203   0.388631   \n",
       "1       0.0  1.354839  12.015053       7.412837   -0.009395  -0.010446   \n",
       "2       0.0  1.354839   0.461240       0.379585    0.014036   3.956966   \n",
       "3       0.0  1.354839  16.497359       0.024956   -0.005229  10.338176   \n",
       "4       0.0  1.354839  -0.039654      -0.032634   -0.008358  11.647211   \n",
       "\n",
       "   violence  world/life  Danceability       Key  ...      Tempo  \\\n",
       "0  0.325838   -0.021807      0.009088  2.831565  ... -10.050823   \n",
       "1  0.501583    2.284810      0.217088 -3.168435  ...   5.536177   \n",
       "2  0.001404   -0.010494      0.069088  1.831565  ... -46.527823   \n",
       "3 -0.005099   -0.016859      0.075088  3.831565  ... -46.197823   \n",
       "4 -0.006155    2.151139     -0.288912 -5.168435  ... -35.690823   \n",
       "\n",
       "   communication  family/spirtual  feelings  light/visual_perceptions  \\\n",
       "0       2.019382        -0.046505  3.715431                 -0.020727   \n",
       "1      -0.010424         2.090158 -0.015152                  3.409123   \n",
       "2       1.918204         0.045345  7.199923                  0.014399   \n",
       "3      -0.008380        -0.006335 -0.006644                 -0.005364   \n",
       "4      -0.009915         1.186473 -0.013032                 -0.008574   \n",
       "\n",
       "   like/girls  movement/places     music   obscene  shake_the_audience  \n",
       "0   -0.036869        -0.021489  0.651982 -0.012583           -0.083452  \n",
       "1   -0.011510        -0.008092  2.022035 -0.005493           -0.026053  \n",
       "2    0.043467         0.020954  5.601954  0.009878            0.098386  \n",
       "3    2.941837         2.492491 -0.004644 -0.002760            1.666475  \n",
       "4   -0.009075        -0.006805 -0.008096 -0.004812           -0.020542  \n",
       "\n",
       "[5 rows x 25 columns]"
      ],
      "text/html": [
       "<div>\n",
       "<style scoped>\n",
       "    .dataframe tbody tr th:only-of-type {\n",
       "        vertical-align: middle;\n",
       "    }\n",
       "\n",
       "    .dataframe tbody tr th {\n",
       "        vertical-align: top;\n",
       "    }\n",
       "\n",
       "    .dataframe thead th {\n",
       "        text-align: right;\n",
       "    }\n",
       "</style>\n",
       "<table border=\"1\" class=\"dataframe\">\n",
       "  <thead>\n",
       "    <tr style=\"text-align: right;\">\n",
       "      <th></th>\n",
       "      <th>Explicit</th>\n",
       "      <th>age</th>\n",
       "      <th>dating</th>\n",
       "      <th>family/gospel</th>\n",
       "      <th>night/time</th>\n",
       "      <th>romantic</th>\n",
       "      <th>violence</th>\n",
       "      <th>world/life</th>\n",
       "      <th>Danceability</th>\n",
       "      <th>Key</th>\n",
       "      <th>...</th>\n",
       "      <th>Tempo</th>\n",
       "      <th>communication</th>\n",
       "      <th>family/spirtual</th>\n",
       "      <th>feelings</th>\n",
       "      <th>light/visual_perceptions</th>\n",
       "      <th>like/girls</th>\n",
       "      <th>movement/places</th>\n",
       "      <th>music</th>\n",
       "      <th>obscene</th>\n",
       "      <th>shake_the_audience</th>\n",
       "    </tr>\n",
       "  </thead>\n",
       "  <tbody>\n",
       "    <tr>\n",
       "      <th>0</th>\n",
       "      <td>0.0</td>\n",
       "      <td>1.354839</td>\n",
       "      <td>-0.304616</td>\n",
       "      <td>13.753176</td>\n",
       "      <td>-0.020203</td>\n",
       "      <td>0.388631</td>\n",
       "      <td>0.325838</td>\n",
       "      <td>-0.021807</td>\n",
       "      <td>0.009088</td>\n",
       "      <td>2.831565</td>\n",
       "      <td>...</td>\n",
       "      <td>-10.050823</td>\n",
       "      <td>2.019382</td>\n",
       "      <td>-0.046505</td>\n",
       "      <td>3.715431</td>\n",
       "      <td>-0.020727</td>\n",
       "      <td>-0.036869</td>\n",
       "      <td>-0.021489</td>\n",
       "      <td>0.651982</td>\n",
       "      <td>-0.012583</td>\n",
       "      <td>-0.083452</td>\n",
       "    </tr>\n",
       "    <tr>\n",
       "      <th>1</th>\n",
       "      <td>0.0</td>\n",
       "      <td>1.354839</td>\n",
       "      <td>12.015053</td>\n",
       "      <td>7.412837</td>\n",
       "      <td>-0.009395</td>\n",
       "      <td>-0.010446</td>\n",
       "      <td>0.501583</td>\n",
       "      <td>2.284810</td>\n",
       "      <td>0.217088</td>\n",
       "      <td>-3.168435</td>\n",
       "      <td>...</td>\n",
       "      <td>5.536177</td>\n",
       "      <td>-0.010424</td>\n",
       "      <td>2.090158</td>\n",
       "      <td>-0.015152</td>\n",
       "      <td>3.409123</td>\n",
       "      <td>-0.011510</td>\n",
       "      <td>-0.008092</td>\n",
       "      <td>2.022035</td>\n",
       "      <td>-0.005493</td>\n",
       "      <td>-0.026053</td>\n",
       "    </tr>\n",
       "    <tr>\n",
       "      <th>2</th>\n",
       "      <td>0.0</td>\n",
       "      <td>1.354839</td>\n",
       "      <td>0.461240</td>\n",
       "      <td>0.379585</td>\n",
       "      <td>0.014036</td>\n",
       "      <td>3.956966</td>\n",
       "      <td>0.001404</td>\n",
       "      <td>-0.010494</td>\n",
       "      <td>0.069088</td>\n",
       "      <td>1.831565</td>\n",
       "      <td>...</td>\n",
       "      <td>-46.527823</td>\n",
       "      <td>1.918204</td>\n",
       "      <td>0.045345</td>\n",
       "      <td>7.199923</td>\n",
       "      <td>0.014399</td>\n",
       "      <td>0.043467</td>\n",
       "      <td>0.020954</td>\n",
       "      <td>5.601954</td>\n",
       "      <td>0.009878</td>\n",
       "      <td>0.098386</td>\n",
       "    </tr>\n",
       "    <tr>\n",
       "      <th>3</th>\n",
       "      <td>0.0</td>\n",
       "      <td>1.354839</td>\n",
       "      <td>16.497359</td>\n",
       "      <td>0.024956</td>\n",
       "      <td>-0.005229</td>\n",
       "      <td>10.338176</td>\n",
       "      <td>-0.005099</td>\n",
       "      <td>-0.016859</td>\n",
       "      <td>0.075088</td>\n",
       "      <td>3.831565</td>\n",
       "      <td>...</td>\n",
       "      <td>-46.197823</td>\n",
       "      <td>-0.008380</td>\n",
       "      <td>-0.006335</td>\n",
       "      <td>-0.006644</td>\n",
       "      <td>-0.005364</td>\n",
       "      <td>2.941837</td>\n",
       "      <td>2.492491</td>\n",
       "      <td>-0.004644</td>\n",
       "      <td>-0.002760</td>\n",
       "      <td>1.666475</td>\n",
       "    </tr>\n",
       "    <tr>\n",
       "      <th>4</th>\n",
       "      <td>0.0</td>\n",
       "      <td>1.354839</td>\n",
       "      <td>-0.039654</td>\n",
       "      <td>-0.032634</td>\n",
       "      <td>-0.008358</td>\n",
       "      <td>11.647211</td>\n",
       "      <td>-0.006155</td>\n",
       "      <td>2.151139</td>\n",
       "      <td>-0.288912</td>\n",
       "      <td>-5.168435</td>\n",
       "      <td>...</td>\n",
       "      <td>-35.690823</td>\n",
       "      <td>-0.009915</td>\n",
       "      <td>1.186473</td>\n",
       "      <td>-0.013032</td>\n",
       "      <td>-0.008574</td>\n",
       "      <td>-0.009075</td>\n",
       "      <td>-0.006805</td>\n",
       "      <td>-0.008096</td>\n",
       "      <td>-0.004812</td>\n",
       "      <td>-0.020542</td>\n",
       "    </tr>\n",
       "  </tbody>\n",
       "</table>\n",
       "<p>5 rows × 25 columns</p>\n",
       "</div>"
      ]
     },
     "execution_count": 23,
     "metadata": {},
     "output_type": "execute_result"
    }
   ],
   "execution_count": 23
  },
  {
   "metadata": {
    "ExecuteTime": {
     "end_time": "2024-04-20T08:31:48.693977Z",
     "start_time": "2024-04-20T08:31:48.678962Z"
    }
   },
   "cell_type": "code",
   "source": [
    "# combine scaled numerical features and onehot encoded features\n",
    "processed_song_X = pd.concat([song_df_scaled, one_hot_encoded_df], axis=1)\n",
    "print(processed_song_X.shape)\n",
    "processed_song_X.head()"
   ],
   "id": "8b24de8ecf8b7048",
   "outputs": [
    {
     "name": "stdout",
     "output_type": "stream",
     "text": [
      "(27866, 38)\n"
     ]
    },
    {
     "data": {
      "text/plain": [
       "   Explicit       age     dating  family/gospel  night/time   romantic  \\\n",
       "0       0.0  1.354839  -0.304616      13.753176   -0.020203   0.388631   \n",
       "1       0.0  1.354839  12.015053       7.412837   -0.009395  -0.010446   \n",
       "2       0.0  1.354839   0.461240       0.379585    0.014036   3.956966   \n",
       "3       0.0  1.354839  16.497359       0.024956   -0.005229  10.338176   \n",
       "4       0.0  1.354839  -0.039654      -0.032634   -0.008358  11.647211   \n",
       "\n",
       "   violence  world/life  Danceability       Key  ...  genre_pop  genre_reggae  \\\n",
       "0  0.325838   -0.021807      0.009088  2.831565  ...        1.0           0.0   \n",
       "1  0.501583    2.284810      0.217088 -3.168435  ...        1.0           0.0   \n",
       "2  0.001404   -0.010494      0.069088  1.831565  ...        1.0           0.0   \n",
       "3 -0.005099   -0.016859      0.075088  3.831565  ...        1.0           0.0   \n",
       "4 -0.006155    2.151139     -0.288912 -5.168435  ...        1.0           0.0   \n",
       "\n",
       "   genre_rock  topic_music  topic_night/time  topic_obscene  topic_romantic  \\\n",
       "0         0.0          0.0               0.0            0.0             0.0   \n",
       "1         0.0          0.0               0.0            0.0             0.0   \n",
       "2         0.0          1.0               0.0            0.0             0.0   \n",
       "3         0.0          0.0               0.0            0.0             1.0   \n",
       "4         0.0          0.0               0.0            0.0             1.0   \n",
       "\n",
       "   topic_sadness  topic_violence  topic_world/life  \n",
       "0            1.0             0.0               0.0  \n",
       "1            0.0             0.0               1.0  \n",
       "2            0.0             0.0               0.0  \n",
       "3            0.0             0.0               0.0  \n",
       "4            0.0             0.0               0.0  \n",
       "\n",
       "[5 rows x 38 columns]"
      ],
      "text/html": [
       "<div>\n",
       "<style scoped>\n",
       "    .dataframe tbody tr th:only-of-type {\n",
       "        vertical-align: middle;\n",
       "    }\n",
       "\n",
       "    .dataframe tbody tr th {\n",
       "        vertical-align: top;\n",
       "    }\n",
       "\n",
       "    .dataframe thead th {\n",
       "        text-align: right;\n",
       "    }\n",
       "</style>\n",
       "<table border=\"1\" class=\"dataframe\">\n",
       "  <thead>\n",
       "    <tr style=\"text-align: right;\">\n",
       "      <th></th>\n",
       "      <th>Explicit</th>\n",
       "      <th>age</th>\n",
       "      <th>dating</th>\n",
       "      <th>family/gospel</th>\n",
       "      <th>night/time</th>\n",
       "      <th>romantic</th>\n",
       "      <th>violence</th>\n",
       "      <th>world/life</th>\n",
       "      <th>Danceability</th>\n",
       "      <th>Key</th>\n",
       "      <th>...</th>\n",
       "      <th>genre_pop</th>\n",
       "      <th>genre_reggae</th>\n",
       "      <th>genre_rock</th>\n",
       "      <th>topic_music</th>\n",
       "      <th>topic_night/time</th>\n",
       "      <th>topic_obscene</th>\n",
       "      <th>topic_romantic</th>\n",
       "      <th>topic_sadness</th>\n",
       "      <th>topic_violence</th>\n",
       "      <th>topic_world/life</th>\n",
       "    </tr>\n",
       "  </thead>\n",
       "  <tbody>\n",
       "    <tr>\n",
       "      <th>0</th>\n",
       "      <td>0.0</td>\n",
       "      <td>1.354839</td>\n",
       "      <td>-0.304616</td>\n",
       "      <td>13.753176</td>\n",
       "      <td>-0.020203</td>\n",
       "      <td>0.388631</td>\n",
       "      <td>0.325838</td>\n",
       "      <td>-0.021807</td>\n",
       "      <td>0.009088</td>\n",
       "      <td>2.831565</td>\n",
       "      <td>...</td>\n",
       "      <td>1.0</td>\n",
       "      <td>0.0</td>\n",
       "      <td>0.0</td>\n",
       "      <td>0.0</td>\n",
       "      <td>0.0</td>\n",
       "      <td>0.0</td>\n",
       "      <td>0.0</td>\n",
       "      <td>1.0</td>\n",
       "      <td>0.0</td>\n",
       "      <td>0.0</td>\n",
       "    </tr>\n",
       "    <tr>\n",
       "      <th>1</th>\n",
       "      <td>0.0</td>\n",
       "      <td>1.354839</td>\n",
       "      <td>12.015053</td>\n",
       "      <td>7.412837</td>\n",
       "      <td>-0.009395</td>\n",
       "      <td>-0.010446</td>\n",
       "      <td>0.501583</td>\n",
       "      <td>2.284810</td>\n",
       "      <td>0.217088</td>\n",
       "      <td>-3.168435</td>\n",
       "      <td>...</td>\n",
       "      <td>1.0</td>\n",
       "      <td>0.0</td>\n",
       "      <td>0.0</td>\n",
       "      <td>0.0</td>\n",
       "      <td>0.0</td>\n",
       "      <td>0.0</td>\n",
       "      <td>0.0</td>\n",
       "      <td>0.0</td>\n",
       "      <td>0.0</td>\n",
       "      <td>1.0</td>\n",
       "    </tr>\n",
       "    <tr>\n",
       "      <th>2</th>\n",
       "      <td>0.0</td>\n",
       "      <td>1.354839</td>\n",
       "      <td>0.461240</td>\n",
       "      <td>0.379585</td>\n",
       "      <td>0.014036</td>\n",
       "      <td>3.956966</td>\n",
       "      <td>0.001404</td>\n",
       "      <td>-0.010494</td>\n",
       "      <td>0.069088</td>\n",
       "      <td>1.831565</td>\n",
       "      <td>...</td>\n",
       "      <td>1.0</td>\n",
       "      <td>0.0</td>\n",
       "      <td>0.0</td>\n",
       "      <td>1.0</td>\n",
       "      <td>0.0</td>\n",
       "      <td>0.0</td>\n",
       "      <td>0.0</td>\n",
       "      <td>0.0</td>\n",
       "      <td>0.0</td>\n",
       "      <td>0.0</td>\n",
       "    </tr>\n",
       "    <tr>\n",
       "      <th>3</th>\n",
       "      <td>0.0</td>\n",
       "      <td>1.354839</td>\n",
       "      <td>16.497359</td>\n",
       "      <td>0.024956</td>\n",
       "      <td>-0.005229</td>\n",
       "      <td>10.338176</td>\n",
       "      <td>-0.005099</td>\n",
       "      <td>-0.016859</td>\n",
       "      <td>0.075088</td>\n",
       "      <td>3.831565</td>\n",
       "      <td>...</td>\n",
       "      <td>1.0</td>\n",
       "      <td>0.0</td>\n",
       "      <td>0.0</td>\n",
       "      <td>0.0</td>\n",
       "      <td>0.0</td>\n",
       "      <td>0.0</td>\n",
       "      <td>1.0</td>\n",
       "      <td>0.0</td>\n",
       "      <td>0.0</td>\n",
       "      <td>0.0</td>\n",
       "    </tr>\n",
       "    <tr>\n",
       "      <th>4</th>\n",
       "      <td>0.0</td>\n",
       "      <td>1.354839</td>\n",
       "      <td>-0.039654</td>\n",
       "      <td>-0.032634</td>\n",
       "      <td>-0.008358</td>\n",
       "      <td>11.647211</td>\n",
       "      <td>-0.006155</td>\n",
       "      <td>2.151139</td>\n",
       "      <td>-0.288912</td>\n",
       "      <td>-5.168435</td>\n",
       "      <td>...</td>\n",
       "      <td>1.0</td>\n",
       "      <td>0.0</td>\n",
       "      <td>0.0</td>\n",
       "      <td>0.0</td>\n",
       "      <td>0.0</td>\n",
       "      <td>0.0</td>\n",
       "      <td>1.0</td>\n",
       "      <td>0.0</td>\n",
       "      <td>0.0</td>\n",
       "      <td>0.0</td>\n",
       "    </tr>\n",
       "  </tbody>\n",
       "</table>\n",
       "<p>5 rows × 38 columns</p>\n",
       "</div>"
      ]
     },
     "execution_count": 24,
     "metadata": {},
     "output_type": "execute_result"
    }
   ],
   "execution_count": 24
  },
  {
   "metadata": {
    "ExecuteTime": {
     "end_time": "2024-04-20T08:31:48.709494Z",
     "start_time": "2024-04-20T08:31:48.693977Z"
    }
   },
   "cell_type": "code",
   "source": "LABELS = [\"High Emotion\", \"Neutral\", \"Low Emotion\"]",
   "id": "4a87313ffcb7a5d0",
   "outputs": [],
   "execution_count": 25
  },
  {
   "metadata": {
    "ExecuteTime": {
     "end_time": "2024-04-20T08:31:48.725509Z",
     "start_time": "2024-04-20T08:31:48.710496Z"
    }
   },
   "cell_type": "code",
   "source": [
    "song_y_labels = song_y.copy()\n",
    "song_y = song_y.replace({\n",
    "    \"High Emotion\": 0,\n",
    "    \"Neutral\": 1,\n",
    "    \"Low Emotion\": 2\n",
    "})"
   ],
   "id": "ab482b4580599865",
   "outputs": [],
   "execution_count": 26
  },
  {
   "metadata": {
    "ExecuteTime": {
     "end_time": "2024-04-20T08:31:48.757536Z",
     "start_time": "2024-04-20T08:31:48.726509Z"
    }
   },
   "cell_type": "code",
   "source": [
    "# Split the dataset into training (60%), validation (20%), and test (20%) sets\n",
    "\n",
    "X_train, X_test, y_train, y_test = train_test_split(processed_song_X, song_y, test_size=0.2, random_state=42,\n",
    "                                                    stratify=song_y)\n",
    "X_train, X_val, y_train, y_val = train_test_split(X_train, y_train, test_size=0.25, random_state=42, stratify=y_train)"
   ],
   "id": "f3ee526601c78235",
   "outputs": [],
   "execution_count": 27
  },
  {
   "metadata": {},
   "cell_type": "markdown",
   "source": "# XGBoost Model (default)",
   "id": "96e62a9c0b9e5346"
  },
  {
   "metadata": {
    "ExecuteTime": {
     "end_time": "2024-04-20T08:31:48.772551Z",
     "start_time": "2024-04-20T08:31:48.758538Z"
    }
   },
   "cell_type": "code",
   "source": [
    "import xgboost as xgb\n",
    "from sklearn.metrics import classification_report, confusion_matrix, ConfusionMatrixDisplay\n",
    "from sklearn.model_selection import GridSearchCV"
   ],
   "id": "370ca12c3a7b2b63",
   "outputs": [],
   "execution_count": 28
  },
  {
   "metadata": {
    "ExecuteTime": {
     "end_time": "2024-04-20T08:31:48.788566Z",
     "start_time": "2024-04-20T08:31:48.774553Z"
    }
   },
   "cell_type": "code",
   "source": [
    "# Train the model with grid search cv\n",
    "grid = {\n",
    "    \"n_estimators\": [50, 100, 200],\n",
    "    \"gamma\": [0, 0.1, 0.2],\n",
    "    \"max_depth\": [2, 4, 6],\n",
    "    \"learning_rate\": [0.1, 0.01, 0.001],\n",
    "    \"subsample\": [0.5, 0.7, 1],\n",
    "    \"gamma\": [0, 0.1, 0.2]\n",
    "}"
   ],
   "id": "d8529c18060606a5",
   "outputs": [],
   "execution_count": 29
  },
  {
   "metadata": {
    "ExecuteTime": {
     "end_time": "2024-04-20T08:31:48.804581Z",
     "start_time": "2024-04-20T08:31:48.789566Z"
    }
   },
   "cell_type": "code",
   "source": [
    "xgb_model = xgb.XGBClassifier(objective=\"multi:softmax\", num_class=3, eval_metric=\"mlogloss\", device=\"cuda\", verbose=1,\n",
    "                              n_jobs=-1)\n",
    "\n",
    "xgb_model = GridSearchCV(xgb_model, grid, n_jobs=-1, verbose=1)"
   ],
   "id": "216694be8c18a485",
   "outputs": [],
   "execution_count": 30
  },
  {
   "metadata": {
    "ExecuteTime": {
     "end_time": "2024-04-20T08:40:15.406682Z",
     "start_time": "2024-04-20T08:31:48.806085Z"
    }
   },
   "cell_type": "code",
   "source": "xgb_model.fit(X_train, y_train)",
   "id": "38e5de3616fb4f58",
   "outputs": [
    {
     "name": "stdout",
     "output_type": "stream",
     "text": [
      "Fitting 5 folds for each of 243 candidates, totalling 1215 fits\n",
      "[04:40:12] WARNING: C:/buildkite-agent/builds/buildkite-windows-cpu-autoscaling-group-i-0fc7796c793e6356f-1/xgboost/xgboost-ci-windows/src/learner.cc:767: \n",
      "Parameters: { \"device\", \"verbose\" } are not used.\n",
      "\n"
     ]
    },
    {
     "data": {
      "text/plain": [
       "GridSearchCV(estimator=XGBClassifier(base_score=None, booster=None,\n",
       "                                     callbacks=None, colsample_bylevel=None,\n",
       "                                     colsample_bynode=None,\n",
       "                                     colsample_bytree=None, device='cuda',\n",
       "                                     early_stopping_rounds=None,\n",
       "                                     enable_categorical=False,\n",
       "                                     eval_metric='mlogloss', feature_types=None,\n",
       "                                     gamma=None, gpu_id=None, grow_policy=None,\n",
       "                                     importance_type=None,\n",
       "                                     interaction_constraints=None,\n",
       "                                     lear...\n",
       "                                     max_cat_to_onehot=None,\n",
       "                                     max_delta_step=None, max_depth=None,\n",
       "                                     max_leaves=None, min_child_weight=None,\n",
       "                                     missing=nan, monotone_constraints=None,\n",
       "                                     n_estimators=100, n_jobs=-1, num_class=3,\n",
       "                                     num_parallel_tree=None, ...),\n",
       "             n_jobs=-1,\n",
       "             param_grid={'gamma': [0, 0.1, 0.2],\n",
       "                         'learning_rate': [0.1, 0.01, 0.001],\n",
       "                         'max_depth': [2, 4, 6], 'n_estimators': [50, 100, 200],\n",
       "                         'subsample': [0.5, 0.7, 1]},\n",
       "             verbose=1)"
      ],
      "text/html": [
       "<style>#sk-container-id-1 {color: black;background-color: white;}#sk-container-id-1 pre{padding: 0;}#sk-container-id-1 div.sk-toggleable {background-color: white;}#sk-container-id-1 label.sk-toggleable__label {cursor: pointer;display: block;width: 100%;margin-bottom: 0;padding: 0.3em;box-sizing: border-box;text-align: center;}#sk-container-id-1 label.sk-toggleable__label-arrow:before {content: \"▸\";float: left;margin-right: 0.25em;color: #696969;}#sk-container-id-1 label.sk-toggleable__label-arrow:hover:before {color: black;}#sk-container-id-1 div.sk-estimator:hover label.sk-toggleable__label-arrow:before {color: black;}#sk-container-id-1 div.sk-toggleable__content {max-height: 0;max-width: 0;overflow: hidden;text-align: left;background-color: #f0f8ff;}#sk-container-id-1 div.sk-toggleable__content pre {margin: 0.2em;color: black;border-radius: 0.25em;background-color: #f0f8ff;}#sk-container-id-1 input.sk-toggleable__control:checked~div.sk-toggleable__content {max-height: 200px;max-width: 100%;overflow: auto;}#sk-container-id-1 input.sk-toggleable__control:checked~label.sk-toggleable__label-arrow:before {content: \"▾\";}#sk-container-id-1 div.sk-estimator input.sk-toggleable__control:checked~label.sk-toggleable__label {background-color: #d4ebff;}#sk-container-id-1 div.sk-label input.sk-toggleable__control:checked~label.sk-toggleable__label {background-color: #d4ebff;}#sk-container-id-1 input.sk-hidden--visually {border: 0;clip: rect(1px 1px 1px 1px);clip: rect(1px, 1px, 1px, 1px);height: 1px;margin: -1px;overflow: hidden;padding: 0;position: absolute;width: 1px;}#sk-container-id-1 div.sk-estimator {font-family: monospace;background-color: #f0f8ff;border: 1px dotted black;border-radius: 0.25em;box-sizing: border-box;margin-bottom: 0.5em;}#sk-container-id-1 div.sk-estimator:hover {background-color: #d4ebff;}#sk-container-id-1 div.sk-parallel-item::after {content: \"\";width: 100%;border-bottom: 1px solid gray;flex-grow: 1;}#sk-container-id-1 div.sk-label:hover label.sk-toggleable__label {background-color: #d4ebff;}#sk-container-id-1 div.sk-serial::before {content: \"\";position: absolute;border-left: 1px solid gray;box-sizing: border-box;top: 0;bottom: 0;left: 50%;z-index: 0;}#sk-container-id-1 div.sk-serial {display: flex;flex-direction: column;align-items: center;background-color: white;padding-right: 0.2em;padding-left: 0.2em;position: relative;}#sk-container-id-1 div.sk-item {position: relative;z-index: 1;}#sk-container-id-1 div.sk-parallel {display: flex;align-items: stretch;justify-content: center;background-color: white;position: relative;}#sk-container-id-1 div.sk-item::before, #sk-container-id-1 div.sk-parallel-item::before {content: \"\";position: absolute;border-left: 1px solid gray;box-sizing: border-box;top: 0;bottom: 0;left: 50%;z-index: -1;}#sk-container-id-1 div.sk-parallel-item {display: flex;flex-direction: column;z-index: 1;position: relative;background-color: white;}#sk-container-id-1 div.sk-parallel-item:first-child::after {align-self: flex-end;width: 50%;}#sk-container-id-1 div.sk-parallel-item:last-child::after {align-self: flex-start;width: 50%;}#sk-container-id-1 div.sk-parallel-item:only-child::after {width: 0;}#sk-container-id-1 div.sk-dashed-wrapped {border: 1px dashed gray;margin: 0 0.4em 0.5em 0.4em;box-sizing: border-box;padding-bottom: 0.4em;background-color: white;}#sk-container-id-1 div.sk-label label {font-family: monospace;font-weight: bold;display: inline-block;line-height: 1.2em;}#sk-container-id-1 div.sk-label-container {text-align: center;}#sk-container-id-1 div.sk-container {/* jupyter's `normalize.less` sets `[hidden] { display: none; }` but bootstrap.min.css set `[hidden] { display: none !important; }` so we also need the `!important` here to be able to override the default hidden behavior on the sphinx rendered scikit-learn.org. See: https://github.com/scikit-learn/scikit-learn/issues/21755 */display: inline-block !important;position: relative;}#sk-container-id-1 div.sk-text-repr-fallback {display: none;}</style><div id=\"sk-container-id-1\" class=\"sk-top-container\"><div class=\"sk-text-repr-fallback\"><pre>GridSearchCV(estimator=XGBClassifier(base_score=None, booster=None,\n",
       "                                     callbacks=None, colsample_bylevel=None,\n",
       "                                     colsample_bynode=None,\n",
       "                                     colsample_bytree=None, device=&#x27;cuda&#x27;,\n",
       "                                     early_stopping_rounds=None,\n",
       "                                     enable_categorical=False,\n",
       "                                     eval_metric=&#x27;mlogloss&#x27;, feature_types=None,\n",
       "                                     gamma=None, gpu_id=None, grow_policy=None,\n",
       "                                     importance_type=None,\n",
       "                                     interaction_constraints=None,\n",
       "                                     lear...\n",
       "                                     max_cat_to_onehot=None,\n",
       "                                     max_delta_step=None, max_depth=None,\n",
       "                                     max_leaves=None, min_child_weight=None,\n",
       "                                     missing=nan, monotone_constraints=None,\n",
       "                                     n_estimators=100, n_jobs=-1, num_class=3,\n",
       "                                     num_parallel_tree=None, ...),\n",
       "             n_jobs=-1,\n",
       "             param_grid={&#x27;gamma&#x27;: [0, 0.1, 0.2],\n",
       "                         &#x27;learning_rate&#x27;: [0.1, 0.01, 0.001],\n",
       "                         &#x27;max_depth&#x27;: [2, 4, 6], &#x27;n_estimators&#x27;: [50, 100, 200],\n",
       "                         &#x27;subsample&#x27;: [0.5, 0.7, 1]},\n",
       "             verbose=1)</pre><b>In a Jupyter environment, please rerun this cell to show the HTML representation or trust the notebook. <br />On GitHub, the HTML representation is unable to render, please try loading this page with nbviewer.org.</b></div><div class=\"sk-container\" hidden><div class=\"sk-item sk-dashed-wrapped\"><div class=\"sk-label-container\"><div class=\"sk-label sk-toggleable\"><input class=\"sk-toggleable__control sk-hidden--visually\" id=\"sk-estimator-id-1\" type=\"checkbox\" ><label for=\"sk-estimator-id-1\" class=\"sk-toggleable__label sk-toggleable__label-arrow\">GridSearchCV</label><div class=\"sk-toggleable__content\"><pre>GridSearchCV(estimator=XGBClassifier(base_score=None, booster=None,\n",
       "                                     callbacks=None, colsample_bylevel=None,\n",
       "                                     colsample_bynode=None,\n",
       "                                     colsample_bytree=None, device=&#x27;cuda&#x27;,\n",
       "                                     early_stopping_rounds=None,\n",
       "                                     enable_categorical=False,\n",
       "                                     eval_metric=&#x27;mlogloss&#x27;, feature_types=None,\n",
       "                                     gamma=None, gpu_id=None, grow_policy=None,\n",
       "                                     importance_type=None,\n",
       "                                     interaction_constraints=None,\n",
       "                                     lear...\n",
       "                                     max_cat_to_onehot=None,\n",
       "                                     max_delta_step=None, max_depth=None,\n",
       "                                     max_leaves=None, min_child_weight=None,\n",
       "                                     missing=nan, monotone_constraints=None,\n",
       "                                     n_estimators=100, n_jobs=-1, num_class=3,\n",
       "                                     num_parallel_tree=None, ...),\n",
       "             n_jobs=-1,\n",
       "             param_grid={&#x27;gamma&#x27;: [0, 0.1, 0.2],\n",
       "                         &#x27;learning_rate&#x27;: [0.1, 0.01, 0.001],\n",
       "                         &#x27;max_depth&#x27;: [2, 4, 6], &#x27;n_estimators&#x27;: [50, 100, 200],\n",
       "                         &#x27;subsample&#x27;: [0.5, 0.7, 1]},\n",
       "             verbose=1)</pre></div></div></div><div class=\"sk-parallel\"><div class=\"sk-parallel-item\"><div class=\"sk-item\"><div class=\"sk-label-container\"><div class=\"sk-label sk-toggleable\"><input class=\"sk-toggleable__control sk-hidden--visually\" id=\"sk-estimator-id-2\" type=\"checkbox\" ><label for=\"sk-estimator-id-2\" class=\"sk-toggleable__label sk-toggleable__label-arrow\">estimator: XGBClassifier</label><div class=\"sk-toggleable__content\"><pre>XGBClassifier(base_score=None, booster=None, callbacks=None,\n",
       "              colsample_bylevel=None, colsample_bynode=None,\n",
       "              colsample_bytree=None, device=&#x27;cuda&#x27;, early_stopping_rounds=None,\n",
       "              enable_categorical=False, eval_metric=&#x27;mlogloss&#x27;,\n",
       "              feature_types=None, gamma=None, gpu_id=None, grow_policy=None,\n",
       "              importance_type=None, interaction_constraints=None,\n",
       "              learning_rate=None, max_bin=None, max_cat_threshold=None,\n",
       "              max_cat_to_onehot=None, max_delta_step=None, max_depth=None,\n",
       "              max_leaves=None, min_child_weight=None, missing=nan,\n",
       "              monotone_constraints=None, n_estimators=100, n_jobs=-1,\n",
       "              num_class=3, num_parallel_tree=None, ...)</pre></div></div></div><div class=\"sk-serial\"><div class=\"sk-item\"><div class=\"sk-estimator sk-toggleable\"><input class=\"sk-toggleable__control sk-hidden--visually\" id=\"sk-estimator-id-3\" type=\"checkbox\" ><label for=\"sk-estimator-id-3\" class=\"sk-toggleable__label sk-toggleable__label-arrow\">XGBClassifier</label><div class=\"sk-toggleable__content\"><pre>XGBClassifier(base_score=None, booster=None, callbacks=None,\n",
       "              colsample_bylevel=None, colsample_bynode=None,\n",
       "              colsample_bytree=None, device=&#x27;cuda&#x27;, early_stopping_rounds=None,\n",
       "              enable_categorical=False, eval_metric=&#x27;mlogloss&#x27;,\n",
       "              feature_types=None, gamma=None, gpu_id=None, grow_policy=None,\n",
       "              importance_type=None, interaction_constraints=None,\n",
       "              learning_rate=None, max_bin=None, max_cat_threshold=None,\n",
       "              max_cat_to_onehot=None, max_delta_step=None, max_depth=None,\n",
       "              max_leaves=None, min_child_weight=None, missing=nan,\n",
       "              monotone_constraints=None, n_estimators=100, n_jobs=-1,\n",
       "              num_class=3, num_parallel_tree=None, ...)</pre></div></div></div></div></div></div></div></div></div></div>"
      ]
     },
     "execution_count": 31,
     "metadata": {},
     "output_type": "execute_result"
    }
   ],
   "execution_count": 31
  },
  {
   "metadata": {
    "ExecuteTime": {
     "end_time": "2024-04-20T08:40:58.498388Z",
     "start_time": "2024-04-20T08:40:58.487376Z"
    }
   },
   "cell_type": "code",
   "source": "xgb_model.best_params_",
   "id": "a4a233782ee8c9cc",
   "outputs": [
    {
     "data": {
      "text/plain": [
       "{'gamma': 0.2,\n",
       " 'learning_rate': 0.1,\n",
       " 'max_depth': 6,\n",
       " 'n_estimators': 200,\n",
       " 'subsample': 0.5}"
      ]
     },
     "execution_count": 32,
     "metadata": {},
     "output_type": "execute_result"
    }
   ],
   "execution_count": 32
  },
  {
   "metadata": {
    "ExecuteTime": {
     "end_time": "2024-04-20T08:41:11.708792Z",
     "start_time": "2024-04-20T08:41:11.643734Z"
    }
   },
   "cell_type": "code",
   "source": [
    "print(\"Train Accuracy: \", xgb_model.score(X_train, y_train))\n",
    "print(\"Validation Accuracy: \", xgb_model.score(X_val, y_val))\n",
    "print(\"Test Accuracy: \", xgb_model.score(X_test, y_test))"
   ],
   "id": "19a3e3fd73098d80",
   "outputs": [
    {
     "name": "stdout",
     "output_type": "stream",
     "text": [
      "Train Accuracy:  0.9080686643938034\n",
      "Validation Accuracy:  0.7638614749685986\n",
      "Test Accuracy:  0.768388948690348\n"
     ]
    }
   ],
   "execution_count": 33
  },
  {
   "metadata": {
    "ExecuteTime": {
     "end_time": "2024-04-20T08:46:02.843866Z",
     "start_time": "2024-04-20T08:46:02.714245Z"
    }
   },
   "cell_type": "code",
   "source": [
    "xgb_model_pred = xgb_model.predict(X_test)\n",
    "\n",
    "y_test_labels = song_y_labels.loc[y_test.index]\n",
    "\n",
    "xgb_model_pred_labels = pd.Series(xgb_model_pred).replace({\n",
    "    0: \"High Emotion\",\n",
    "    1: \"Neutral\",\n",
    "    2: \"Low Emotion\"\n",
    "})\n",
    "\n",
    "print(classification_report(y_test_labels, xgb_model_pred_labels))"
   ],
   "id": "f3948aa4f1ab559",
   "outputs": [
    {
     "name": "stdout",
     "output_type": "stream",
     "text": [
      "              precision    recall  f1-score   support\n",
      "\n",
      "High Emotion       0.78      0.91      0.84      2932\n",
      " Low Emotion       0.70      0.38      0.49       373\n",
      "     Neutral       0.75      0.64      0.69      2269\n",
      "\n",
      "    accuracy                           0.77      5574\n",
      "   macro avg       0.75      0.65      0.68      5574\n",
      "weighted avg       0.76      0.77      0.76      5574\n",
      "\n"
     ]
    }
   ],
   "execution_count": 51
  },
  {
   "metadata": {
    "ExecuteTime": {
     "end_time": "2024-04-20T08:46:39.803375Z",
     "start_time": "2024-04-20T08:46:39.661743Z"
    }
   },
   "cell_type": "code",
   "source": [
    "cm_xgb = confusion_matrix(y_test_labels, xgb_model_pred_labels, labels=LABELS)\n",
    "disp = ConfusionMatrixDisplay(confusion_matrix=cm_xgb, display_labels=LABELS)\n",
    "\n",
    "disp.plot(values_format='')\n",
    "plt.title(\"XGBoost Confusion Matrix\")\n",
    "plt.grid(False)\n",
    "plt.show()"
   ],
   "id": "4fade7b1f4e696c7",
   "outputs": [
    {
     "data": {
      "text/plain": [
       "<Figure size 640x480 with 2 Axes>"
      ],
      "image/png": "[encoded data removed]"
     },
     "metadata": {},
     "output_type": "display_data"
    }
   ],
   "execution_count": 52
  },
  {
   "metadata": {
    "ExecuteTime": {
     "end_time": "2024-04-20T08:47:06.656930Z",
     "start_time": "2024-04-20T08:47:06.626401Z"
    }
   },
   "cell_type": "code",
   "source": [
    "# Save the model\n",
    "import pickle\n",
    "\n",
    "with open(\"models/xgb_model.pkl\", \"wb\") as f:\n",
    "    pickle.dump(xgb_model, f)"
   ],
   "id": "3ea55d0a68d0b306",
   "outputs": [],
   "execution_count": 53
  },
  {
   "metadata": {},
   "cell_type": "markdown",
   "source": "# Oversampling",
   "id": "546effda3e324a70"
  },
  {
   "metadata": {
    "ExecuteTime": {
     "end_time": "2024-04-20T08:50:53.750430Z",
     "start_time": "2024-04-20T08:50:53.735416Z"
    }
   },
   "cell_type": "code",
   "source": "from imblearn.over_sampling import RandomOverSampler",
   "id": "ab4b04d33ef376fb",
   "outputs": [],
   "execution_count": 59
  },
  {
   "metadata": {
    "ExecuteTime": {
     "end_time": "2024-04-20T08:50:53.859359Z",
     "start_time": "2024-04-20T08:50:53.831052Z"
    }
   },
   "cell_type": "code",
   "source": [
    "ros = RandomOverSampler(random_state=42)\n",
    "\n",
    "X_resampled, y_resampled = ros.fit_resample(X_train, y_train)"
   ],
   "id": "cf0c1b4b677ef6ae",
   "outputs": [],
   "execution_count": 60
  },
  {
   "metadata": {
    "ExecuteTime": {
     "end_time": "2024-04-20T08:50:53.875374Z",
     "start_time": "2024-04-20T08:50:53.860360Z"
    }
   },
   "cell_type": "code",
   "source": [
    "xgb_ros = xgb.XGBClassifier(objective=\"multi:softmax\", num_class=3, eval_metric=\"mlogloss\", device=\"cuda\",\n",
    "                            verbose=1, n_jobs=-1)\n",
    "\n",
    "xgb_ros = GridSearchCV(xgb_ros, grid, n_jobs=-1, verbose=1)\n"
   ],
   "id": "1aed15caf8f8b2c0",
   "outputs": [],
   "execution_count": 61
  },
  {
   "metadata": {
    "ExecuteTime": {
     "end_time": "2024-04-20T09:03:13.131726Z",
     "start_time": "2024-04-20T08:50:53.876375Z"
    }
   },
   "cell_type": "code",
   "source": "xgb_ros.fit(X_resampled, y_resampled)",
   "id": "45d428d7596240e8",
   "outputs": [
    {
     "name": "stdout",
     "output_type": "stream",
     "text": [
      "Fitting 5 folds for each of 243 candidates, totalling 1215 fits\n",
      "[05:03:09] WARNING: C:/buildkite-agent/builds/buildkite-windows-cpu-autoscaling-group-i-0fc7796c793e6356f-1/xgboost/xgboost-ci-windows/src/learner.cc:767: \n",
      "Parameters: { \"device\", \"verbose\" } are not used.\n",
      "\n"
     ]
    },
    {
     "data": {
      "text/plain": [
       "GridSearchCV(estimator=XGBClassifier(base_score=None, booster=None,\n",
       "                                     callbacks=None, colsample_bylevel=None,\n",
       "                                     colsample_bynode=None,\n",
       "                                     colsample_bytree=None, device='cuda',\n",
       "                                     early_stopping_rounds=None,\n",
       "                                     enable_categorical=False,\n",
       "                                     eval_metric='mlogloss', feature_types=None,\n",
       "                                     gamma=None, gpu_id=None, grow_policy=None,\n",
       "                                     importance_type=None,\n",
       "                                     interaction_constraints=None,\n",
       "                                     lear...\n",
       "                                     max_cat_to_onehot=None,\n",
       "                                     max_delta_step=None, max_depth=None,\n",
       "                                     max_leaves=None, min_child_weight=None,\n",
       "                                     missing=nan, monotone_constraints=None,\n",
       "                                     n_estimators=100, n_jobs=-1, num_class=3,\n",
       "                                     num_parallel_tree=None, ...),\n",
       "             n_jobs=-1,\n",
       "             param_grid={'gamma': [0, 0.1, 0.2],\n",
       "                         'learning_rate': [0.1, 0.01, 0.001],\n",
       "                         'max_depth': [2, 4, 6], 'n_estimators': [50, 100, 200],\n",
       "                         'subsample': [0.5, 0.7, 1]},\n",
       "             verbose=1)"
      ],
      "text/html": [
       "<style>#sk-container-id-2 {color: black;background-color: white;}#sk-container-id-2 pre{padding: 0;}#sk-container-id-2 div.sk-toggleable {background-color: white;}#sk-container-id-2 label.sk-toggleable__label {cursor: pointer;display: block;width: 100%;margin-bottom: 0;padding: 0.3em;box-sizing: border-box;text-align: center;}#sk-container-id-2 label.sk-toggleable__label-arrow:before {content: \"▸\";float: left;margin-right: 0.25em;color: #696969;}#sk-container-id-2 label.sk-toggleable__label-arrow:hover:before {color: black;}#sk-container-id-2 div.sk-estimator:hover label.sk-toggleable__label-arrow:before {color: black;}#sk-container-id-2 div.sk-toggleable__content {max-height: 0;max-width: 0;overflow: hidden;text-align: left;background-color: #f0f8ff;}#sk-container-id-2 div.sk-toggleable__content pre {margin: 0.2em;color: black;border-radius: 0.25em;background-color: #f0f8ff;}#sk-container-id-2 input.sk-toggleable__control:checked~div.sk-toggleable__content {max-height: 200px;max-width: 100%;overflow: auto;}#sk-container-id-2 input.sk-toggleable__control:checked~label.sk-toggleable__label-arrow:before {content: \"▾\";}#sk-container-id-2 div.sk-estimator input.sk-toggleable__control:checked~label.sk-toggleable__label {background-color: #d4ebff;}#sk-container-id-2 div.sk-label input.sk-toggleable__control:checked~label.sk-toggleable__label {background-color: #d4ebff;}#sk-container-id-2 input.sk-hidden--visually {border: 0;clip: rect(1px 1px 1px 1px);clip: rect(1px, 1px, 1px, 1px);height: 1px;margin: -1px;overflow: hidden;padding: 0;position: absolute;width: 1px;}#sk-container-id-2 div.sk-estimator {font-family: monospace;background-color: #f0f8ff;border: 1px dotted black;border-radius: 0.25em;box-sizing: border-box;margin-bottom: 0.5em;}#sk-container-id-2 div.sk-estimator:hover {background-color: #d4ebff;}#sk-container-id-2 div.sk-parallel-item::after {content: \"\";width: 100%;border-bottom: 1px solid gray;flex-grow: 1;}#sk-container-id-2 div.sk-label:hover label.sk-toggleable__label {background-color: #d4ebff;}#sk-container-id-2 div.sk-serial::before {content: \"\";position: absolute;border-left: 1px solid gray;box-sizing: border-box;top: 0;bottom: 0;left: 50%;z-index: 0;}#sk-container-id-2 div.sk-serial {display: flex;flex-direction: column;align-items: center;background-color: white;padding-right: 0.2em;padding-left: 0.2em;position: relative;}#sk-container-id-2 div.sk-item {position: relative;z-index: 1;}#sk-container-id-2 div.sk-parallel {display: flex;align-items: stretch;justify-content: center;background-color: white;position: relative;}#sk-container-id-2 div.sk-item::before, #sk-container-id-2 div.sk-parallel-item::before {content: \"\";position: absolute;border-left: 1px solid gray;box-sizing: border-box;top: 0;bottom: 0;left: 50%;z-index: -1;}#sk-container-id-2 div.sk-parallel-item {display: flex;flex-direction: column;z-index: 1;position: relative;background-color: white;}#sk-container-id-2 div.sk-parallel-item:first-child::after {align-self: flex-end;width: 50%;}#sk-container-id-2 div.sk-parallel-item:last-child::after {align-self: flex-start;width: 50%;}#sk-container-id-2 div.sk-parallel-item:only-child::after {width: 0;}#sk-container-id-2 div.sk-dashed-wrapped {border: 1px dashed gray;margin: 0 0.4em 0.5em 0.4em;box-sizing: border-box;padding-bottom: 0.4em;background-color: white;}#sk-container-id-2 div.sk-label label {font-family: monospace;font-weight: bold;display: inline-block;line-height: 1.2em;}#sk-container-id-2 div.sk-label-container {text-align: center;}#sk-container-id-2 div.sk-container {/* jupyter's `normalize.less` sets `[hidden] { display: none; }` but bootstrap.min.css set `[hidden] { display: none !important; }` so we also need the `!important` here to be able to override the default hidden behavior on the sphinx rendered scikit-learn.org. See: https://github.com/scikit-learn/scikit-learn/issues/21755 */display: inline-block !important;position: relative;}#sk-container-id-2 div.sk-text-repr-fallback {display: none;}</style><div id=\"sk-container-id-2\" class=\"sk-top-container\"><div class=\"sk-text-repr-fallback\"><pre>GridSearchCV(estimator=XGBClassifier(base_score=None, booster=None,\n",
       "                                     callbacks=None, colsample_bylevel=None,\n",
       "                                     colsample_bynode=None,\n",
       "                                     colsample_bytree=None, device=&#x27;cuda&#x27;,\n",
       "                                     early_stopping_rounds=None,\n",
       "                                     enable_categorical=False,\n",
       "                                     eval_metric=&#x27;mlogloss&#x27;, feature_types=None,\n",
       "                                     gamma=None, gpu_id=None, grow_policy=None,\n",
       "                                     importance_type=None,\n",
       "                                     interaction_constraints=None,\n",
       "                                     lear...\n",
       "                                     max_cat_to_onehot=None,\n",
       "                                     max_delta_step=None, max_depth=None,\n",
       "                                     max_leaves=None, min_child_weight=None,\n",
       "                                     missing=nan, monotone_constraints=None,\n",
       "                                     n_estimators=100, n_jobs=-1, num_class=3,\n",
       "                                     num_parallel_tree=None, ...),\n",
       "             n_jobs=-1,\n",
       "             param_grid={&#x27;gamma&#x27;: [0, 0.1, 0.2],\n",
       "                         &#x27;learning_rate&#x27;: [0.1, 0.01, 0.001],\n",
       "                         &#x27;max_depth&#x27;: [2, 4, 6], &#x27;n_estimators&#x27;: [50, 100, 200],\n",
       "                         &#x27;subsample&#x27;: [0.5, 0.7, 1]},\n",
       "             verbose=1)</pre><b>In a Jupyter environment, please rerun this cell to show the HTML representation or trust the notebook. <br />On GitHub, the HTML representation is unable to render, please try loading this page with nbviewer.org.</b></div><div class=\"sk-container\" hidden><div class=\"sk-item sk-dashed-wrapped\"><div class=\"sk-label-container\"><div class=\"sk-label sk-toggleable\"><input class=\"sk-toggleable__control sk-hidden--visually\" id=\"sk-estimator-id-4\" type=\"checkbox\" ><label for=\"sk-estimator-id-4\" class=\"sk-toggleable__label sk-toggleable__label-arrow\">GridSearchCV</label><div class=\"sk-toggleable__content\"><pre>GridSearchCV(estimator=XGBClassifier(base_score=None, booster=None,\n",
       "                                     callbacks=None, colsample_bylevel=None,\n",
       "                                     colsample_bynode=None,\n",
       "                                     colsample_bytree=None, device=&#x27;cuda&#x27;,\n",
       "                                     early_stopping_rounds=None,\n",
       "                                     enable_categorical=False,\n",
       "                                     eval_metric=&#x27;mlogloss&#x27;, feature_types=None,\n",
       "                                     gamma=None, gpu_id=None, grow_policy=None,\n",
       "                                     importance_type=None,\n",
       "                                     interaction_constraints=None,\n",
       "                                     lear...\n",
       "                                     max_cat_to_onehot=None,\n",
       "                                     max_delta_step=None, max_depth=None,\n",
       "                                     max_leaves=None, min_child_weight=None,\n",
       "                                     missing=nan, monotone_constraints=None,\n",
       "                                     n_estimators=100, n_jobs=-1, num_class=3,\n",
       "                                     num_parallel_tree=None, ...),\n",
       "             n_jobs=-1,\n",
       "             param_grid={&#x27;gamma&#x27;: [0, 0.1, 0.2],\n",
       "                         &#x27;learning_rate&#x27;: [0.1, 0.01, 0.001],\n",
       "                         &#x27;max_depth&#x27;: [2, 4, 6], &#x27;n_estimators&#x27;: [50, 100, 200],\n",
       "                         &#x27;subsample&#x27;: [0.5, 0.7, 1]},\n",
       "             verbose=1)</pre></div></div></div><div class=\"sk-parallel\"><div class=\"sk-parallel-item\"><div class=\"sk-item\"><div class=\"sk-label-container\"><div class=\"sk-label sk-toggleable\"><input class=\"sk-toggleable__control sk-hidden--visually\" id=\"sk-estimator-id-5\" type=\"checkbox\" ><label for=\"sk-estimator-id-5\" class=\"sk-toggleable__label sk-toggleable__label-arrow\">estimator: XGBClassifier</label><div class=\"sk-toggleable__content\"><pre>XGBClassifier(base_score=None, booster=None, callbacks=None,\n",
       "              colsample_bylevel=None, colsample_bynode=None,\n",
       "              colsample_bytree=None, device=&#x27;cuda&#x27;, early_stopping_rounds=None,\n",
       "              enable_categorical=False, eval_metric=&#x27;mlogloss&#x27;,\n",
       "              feature_types=None, gamma=None, gpu_id=None, grow_policy=None,\n",
       "              importance_type=None, interaction_constraints=None,\n",
       "              learning_rate=None, max_bin=None, max_cat_threshold=None,\n",
       "              max_cat_to_onehot=None, max_delta_step=None, max_depth=None,\n",
       "              max_leaves=None, min_child_weight=None, missing=nan,\n",
       "              monotone_constraints=None, n_estimators=100, n_jobs=-1,\n",
       "              num_class=3, num_parallel_tree=None, ...)</pre></div></div></div><div class=\"sk-serial\"><div class=\"sk-item\"><div class=\"sk-estimator sk-toggleable\"><input class=\"sk-toggleable__control sk-hidden--visually\" id=\"sk-estimator-id-6\" type=\"checkbox\" ><label for=\"sk-estimator-id-6\" class=\"sk-toggleable__label sk-toggleable__label-arrow\">XGBClassifier</label><div class=\"sk-toggleable__content\"><pre>XGBClassifier(base_score=None, booster=None, callbacks=None,\n",
       "              colsample_bylevel=None, colsample_bynode=None,\n",
       "              colsample_bytree=None, device=&#x27;cuda&#x27;, early_stopping_rounds=None,\n",
       "              enable_categorical=False, eval_metric=&#x27;mlogloss&#x27;,\n",
       "              feature_types=None, gamma=None, gpu_id=None, grow_policy=None,\n",
       "              importance_type=None, interaction_constraints=None,\n",
       "              learning_rate=None, max_bin=None, max_cat_threshold=None,\n",
       "              max_cat_to_onehot=None, max_delta_step=None, max_depth=None,\n",
       "              max_leaves=None, min_child_weight=None, missing=nan,\n",
       "              monotone_constraints=None, n_estimators=100, n_jobs=-1,\n",
       "              num_class=3, num_parallel_tree=None, ...)</pre></div></div></div></div></div></div></div></div></div></div>"
      ]
     },
     "execution_count": 62,
     "metadata": {},
     "output_type": "execute_result"
    }
   ],
   "execution_count": 62
  },
  {
   "metadata": {
    "ExecuteTime": {
     "end_time": "2024-04-20T09:03:13.147621Z",
     "start_time": "2024-04-20T09:03:13.132727Z"
    }
   },
   "cell_type": "code",
   "source": "xgb_ros.best_params_",
   "id": "489d3a10e04003e9",
   "outputs": [
    {
     "data": {
      "text/plain": [
       "{'gamma': 0.1,\n",
       " 'learning_rate': 0.1,\n",
       " 'max_depth': 6,\n",
       " 'n_estimators': 200,\n",
       " 'subsample': 0.7}"
      ]
     },
     "execution_count": 63,
     "metadata": {},
     "output_type": "execute_result"
    }
   ],
   "execution_count": 63
  },
  {
   "metadata": {
    "ExecuteTime": {
     "end_time": "2024-04-20T09:03:13.227694Z",
     "start_time": "2024-04-20T09:03:13.148622Z"
    }
   },
   "cell_type": "code",
   "source": [
    "print(\"Train Accuracy: \", xgb_ros.score(X_resampled, y_resampled))\n",
    "print(\"Validation Accuracy: \", xgb_ros.score(X_val, y_val))\n",
    "print(\"Test Accuracy: \", xgb_ros.score(X_test, y_test))"
   ],
   "id": "dc0ef5020ae4cbe4",
   "outputs": [
    {
     "name": "stdout",
     "output_type": "stream",
     "text": [
      "Train Accuracy:  0.9416780354706685\n",
      "Validation Accuracy:  0.7566840122016867\n",
      "Test Accuracy:  0.7680301399354145\n"
     ]
    }
   ],
   "execution_count": 64
  },
  {
   "metadata": {
    "ExecuteTime": {
     "end_time": "2024-04-20T09:03:13.354815Z",
     "start_time": "2024-04-20T09:03:13.228695Z"
    }
   },
   "cell_type": "code",
   "source": [
    "xgb_model_resampled_pred = xgb_ros.predict(X_test)\n",
    "\n",
    "xgb_model_resampled_pred_labels = pd.Series(xgb_model_resampled_pred).replace({\n",
    "    0: \"High Emotion\",\n",
    "    1: \"Neutral\",\n",
    "    2: \"Low Emotion\"\n",
    "})\n",
    "\n",
    "print(classification_report(y_test_labels, xgb_model_resampled_pred_labels))"
   ],
   "id": "7ff8c78bfb851076",
   "outputs": [
    {
     "name": "stdout",
     "output_type": "stream",
     "text": [
      "              precision    recall  f1-score   support\n",
      "\n",
      "High Emotion       0.79      0.90      0.84      2932\n",
      " Low Emotion       0.57      0.68      0.62       373\n",
      "     Neutral       0.77      0.62      0.68      2269\n",
      "\n",
      "    accuracy                           0.77      5574\n",
      "   macro avg       0.71      0.73      0.72      5574\n",
      "weighted avg       0.77      0.77      0.76      5574\n",
      "\n"
     ]
    }
   ],
   "execution_count": 65
  },
  {
   "metadata": {
    "ExecuteTime": {
     "end_time": "2024-04-20T09:03:13.466261Z",
     "start_time": "2024-04-20T09:03:13.355816Z"
    }
   },
   "cell_type": "code",
   "source": [
    "cm_xgb_resampled = confusion_matrix(y_test_labels, xgb_model_resampled_pred_labels, labels=LABELS)\n",
    "disp = ConfusionMatrixDisplay(confusion_matrix=cm_xgb_resampled, display_labels=LABELS)\n",
    "\n",
    "disp.plot(values_format='')\n",
    "plt.title(\"XGBoost OverSampled Confusion Matrix\")\n",
    "plt.grid(False)\n",
    "plt.show()"
   ],
   "id": "6dfb49c8dc773f3b",
   "outputs": [
    {
     "data": {
      "text/plain": [
       "<Figure size 640x480 with 2 Axes>"
      ],
      "image/png": "[encoded data removed]"
     },
     "metadata": {},
     "output_type": "display_data"
    }
   ],
   "execution_count": 66
  },
  {
   "metadata": {
    "ExecuteTime": {
     "end_time": "2024-04-20T09:03:13.498289Z",
     "start_time": "2024-04-20T09:03:13.467262Z"
    }
   },
   "cell_type": "code",
   "source": [
    "# Save the model\n",
    "with open(\"models/xgb_ros_model.pkl\", \"wb\") as f:\n",
    "    pickle.dump(xgb_ros, f)"
   ],
   "id": "8fa919364ee3668c",
   "outputs": [],
   "execution_count": 67
  },
  {
   "metadata": {},
   "cell_type": "markdown",
   "source": "# Undersampling",
   "id": "65830b6011bfd994"
  },
  {
   "metadata": {
    "ExecuteTime": {
     "end_time": "2024-04-20T09:03:13.514304Z",
     "start_time": "2024-04-20T09:03:13.499290Z"
    }
   },
   "cell_type": "code",
   "source": "from imblearn.under_sampling import RandomUnderSampler",
   "id": "5a609e8d65b05391",
   "outputs": [],
   "execution_count": 68
  },
  {
   "metadata": {
    "ExecuteTime": {
     "end_time": "2024-04-20T09:03:13.529820Z",
     "start_time": "2024-04-20T09:03:13.516306Z"
    }
   },
   "cell_type": "code",
   "source": [
    "rus = RandomUnderSampler(random_state=42)\n",
    "\n",
    "X_resampled, y_resampled = rus.fit_resample(X_train, y_train)"
   ],
   "id": "452349f51ddd6cb3",
   "outputs": [],
   "execution_count": 69
  },
  {
   "metadata": {
    "ExecuteTime": {
     "end_time": "2024-04-20T09:03:13.545834Z",
     "start_time": "2024-04-20T09:03:13.530821Z"
    }
   },
   "cell_type": "code",
   "source": [
    "xgb_rus = xgb.XGBClassifier(objective=\"multi:softmax\", num_class=3, eval_metric=\"mlogloss\", device=\"cuda\",\n",
    "                            verbose=1, n_jobs=-1)\n",
    "\n",
    "xgb_rus = GridSearchCV(xgb_rus, grid, n_jobs=-1, verbose=1)"
   ],
   "id": "7bd8206e52c21f9a",
   "outputs": [],
   "execution_count": 70
  },
  {
   "metadata": {
    "ExecuteTime": {
     "end_time": "2024-04-20T09:05:06.470768Z",
     "start_time": "2024-04-20T09:03:13.546835Z"
    }
   },
   "cell_type": "code",
   "source": "xgb_rus.fit(X_resampled, y_resampled)",
   "id": "60b2f9b5e080c5ea",
   "outputs": [
    {
     "name": "stdout",
     "output_type": "stream",
     "text": [
      "Fitting 5 folds for each of 243 candidates, totalling 1215 fits\n",
      "[05:05:05] WARNING: C:/buildkite-agent/builds/buildkite-windows-cpu-autoscaling-group-i-0fc7796c793e6356f-1/xgboost/xgboost-ci-windows/src/learner.cc:767: \n",
      "Parameters: { \"device\", \"verbose\" } are not used.\n",
      "\n"
     ]
    },
    {
     "data": {
      "text/plain": [
       "GridSearchCV(estimator=XGBClassifier(base_score=None, booster=None,\n",
       "                                     callbacks=None, colsample_bylevel=None,\n",
       "                                     colsample_bynode=None,\n",
       "                                     colsample_bytree=None, device='cuda',\n",
       "                                     early_stopping_rounds=None,\n",
       "                                     enable_categorical=False,\n",
       "                                     eval_metric='mlogloss', feature_types=None,\n",
       "                                     gamma=None, gpu_id=None, grow_policy=None,\n",
       "                                     importance_type=None,\n",
       "                                     interaction_constraints=None,\n",
       "                                     lear...\n",
       "                                     max_cat_to_onehot=None,\n",
       "                                     max_delta_step=None, max_depth=None,\n",
       "                                     max_leaves=None, min_child_weight=None,\n",
       "                                     missing=nan, monotone_constraints=None,\n",
       "                                     n_estimators=100, n_jobs=-1, num_class=3,\n",
       "                                     num_parallel_tree=None, ...),\n",
       "             n_jobs=-1,\n",
       "             param_grid={'gamma': [0, 0.1, 0.2],\n",
       "                         'learning_rate': [0.1, 0.01, 0.001],\n",
       "                         'max_depth': [2, 4, 6], 'n_estimators': [50, 100, 200],\n",
       "                         'subsample': [0.5, 0.7, 1]},\n",
       "             verbose=1)"
      ],
      "text/html": [
       "<style>#sk-container-id-3 {color: black;background-color: white;}#sk-container-id-3 pre{padding: 0;}#sk-container-id-3 div.sk-toggleable {background-color: white;}#sk-container-id-3 label.sk-toggleable__label {cursor: pointer;display: block;width: 100%;margin-bottom: 0;padding: 0.3em;box-sizing: border-box;text-align: center;}#sk-container-id-3 label.sk-toggleable__label-arrow:before {content: \"▸\";float: left;margin-right: 0.25em;color: #696969;}#sk-container-id-3 label.sk-toggleable__label-arrow:hover:before {color: black;}#sk-container-id-3 div.sk-estimator:hover label.sk-toggleable__label-arrow:before {color: black;}#sk-container-id-3 div.sk-toggleable__content {max-height: 0;max-width: 0;overflow: hidden;text-align: left;background-color: #f0f8ff;}#sk-container-id-3 div.sk-toggleable__content pre {margin: 0.2em;color: black;border-radius: 0.25em;background-color: #f0f8ff;}#sk-container-id-3 input.sk-toggleable__control:checked~div.sk-toggleable__content {max-height: 200px;max-width: 100%;overflow: auto;}#sk-container-id-3 input.sk-toggleable__control:checked~label.sk-toggleable__label-arrow:before {content: \"▾\";}#sk-container-id-3 div.sk-estimator input.sk-toggleable__control:checked~label.sk-toggleable__label {background-color: #d4ebff;}#sk-container-id-3 div.sk-label input.sk-toggleable__control:checked~label.sk-toggleable__label {background-color: #d4ebff;}#sk-container-id-3 input.sk-hidden--visually {border: 0;clip: rect(1px 1px 1px 1px);clip: rect(1px, 1px, 1px, 1px);height: 1px;margin: -1px;overflow: hidden;padding: 0;position: absolute;width: 1px;}#sk-container-id-3 div.sk-estimator {font-family: monospace;background-color: #f0f8ff;border: 1px dotted black;border-radius: 0.25em;box-sizing: border-box;margin-bottom: 0.5em;}#sk-container-id-3 div.sk-estimator:hover {background-color: #d4ebff;}#sk-container-id-3 div.sk-parallel-item::after {content: \"\";width: 100%;border-bottom: 1px solid gray;flex-grow: 1;}#sk-container-id-3 div.sk-label:hover label.sk-toggleable__label {background-color: #d4ebff;}#sk-container-id-3 div.sk-serial::before {content: \"\";position: absolute;border-left: 1px solid gray;box-sizing: border-box;top: 0;bottom: 0;left: 50%;z-index: 0;}#sk-container-id-3 div.sk-serial {display: flex;flex-direction: column;align-items: center;background-color: white;padding-right: 0.2em;padding-left: 0.2em;position: relative;}#sk-container-id-3 div.sk-item {position: relative;z-index: 1;}#sk-container-id-3 div.sk-parallel {display: flex;align-items: stretch;justify-content: center;background-color: white;position: relative;}#sk-container-id-3 div.sk-item::before, #sk-container-id-3 div.sk-parallel-item::before {content: \"\";position: absolute;border-left: 1px solid gray;box-sizing: border-box;top: 0;bottom: 0;left: 50%;z-index: -1;}#sk-container-id-3 div.sk-parallel-item {display: flex;flex-direction: column;z-index: 1;position: relative;background-color: white;}#sk-container-id-3 div.sk-parallel-item:first-child::after {align-self: flex-end;width: 50%;}#sk-container-id-3 div.sk-parallel-item:last-child::after {align-self: flex-start;width: 50%;}#sk-container-id-3 div.sk-parallel-item:only-child::after {width: 0;}#sk-container-id-3 div.sk-dashed-wrapped {border: 1px dashed gray;margin: 0 0.4em 0.5em 0.4em;box-sizing: border-box;padding-bottom: 0.4em;background-color: white;}#sk-container-id-3 div.sk-label label {font-family: monospace;font-weight: bold;display: inline-block;line-height: 1.2em;}#sk-container-id-3 div.sk-label-container {text-align: center;}#sk-container-id-3 div.sk-container {/* jupyter's `normalize.less` sets `[hidden] { display: none; }` but bootstrap.min.css set `[hidden] { display: none !important; }` so we also need the `!important` here to be able to override the default hidden behavior on the sphinx rendered scikit-learn.org. See: https://github.com/scikit-learn/scikit-learn/issues/21755 */display: inline-block !important;position: relative;}#sk-container-id-3 div.sk-text-repr-fallback {display: none;}</style><div id=\"sk-container-id-3\" class=\"sk-top-container\"><div class=\"sk-text-repr-fallback\"><pre>GridSearchCV(estimator=XGBClassifier(base_score=None, booster=None,\n",
       "                                     callbacks=None, colsample_bylevel=None,\n",
       "                                     colsample_bynode=None,\n",
       "                                     colsample_bytree=None, device=&#x27;cuda&#x27;,\n",
       "                                     early_stopping_rounds=None,\n",
       "                                     enable_categorical=False,\n",
       "                                     eval_metric=&#x27;mlogloss&#x27;, feature_types=None,\n",
       "                                     gamma=None, gpu_id=None, grow_policy=None,\n",
       "                                     importance_type=None,\n",
       "                                     interaction_constraints=None,\n",
       "                                     lear...\n",
       "                                     max_cat_to_onehot=None,\n",
       "                                     max_delta_step=None, max_depth=None,\n",
       "                                     max_leaves=None, min_child_weight=None,\n",
       "                                     missing=nan, monotone_constraints=None,\n",
       "                                     n_estimators=100, n_jobs=-1, num_class=3,\n",
       "                                     num_parallel_tree=None, ...),\n",
       "             n_jobs=-1,\n",
       "             param_grid={&#x27;gamma&#x27;: [0, 0.1, 0.2],\n",
       "                         &#x27;learning_rate&#x27;: [0.1, 0.01, 0.001],\n",
       "                         &#x27;max_depth&#x27;: [2, 4, 6], &#x27;n_estimators&#x27;: [50, 100, 200],\n",
       "                         &#x27;subsample&#x27;: [0.5, 0.7, 1]},\n",
       "             verbose=1)</pre><b>In a Jupyter environment, please rerun this cell to show the HTML representation or trust the notebook. <br />On GitHub, the HTML representation is unable to render, please try loading this page with nbviewer.org.</b></div><div class=\"sk-container\" hidden><div class=\"sk-item sk-dashed-wrapped\"><div class=\"sk-label-container\"><div class=\"sk-label sk-toggleable\"><input class=\"sk-toggleable__control sk-hidden--visually\" id=\"sk-estimator-id-7\" type=\"checkbox\" ><label for=\"sk-estimator-id-7\" class=\"sk-toggleable__label sk-toggleable__label-arrow\">GridSearchCV</label><div class=\"sk-toggleable__content\"><pre>GridSearchCV(estimator=XGBClassifier(base_score=None, booster=None,\n",
       "                                     callbacks=None, colsample_bylevel=None,\n",
       "                                     colsample_bynode=None,\n",
       "                                     colsample_bytree=None, device=&#x27;cuda&#x27;,\n",
       "                                     early_stopping_rounds=None,\n",
       "                                     enable_categorical=False,\n",
       "                                     eval_metric=&#x27;mlogloss&#x27;, feature_types=None,\n",
       "                                     gamma=None, gpu_id=None, grow_policy=None,\n",
       "                                     importance_type=None,\n",
       "                                     interaction_constraints=None,\n",
       "                                     lear...\n",
       "                                     max_cat_to_onehot=None,\n",
       "                                     max_delta_step=None, max_depth=None,\n",
       "                                     max_leaves=None, min_child_weight=None,\n",
       "                                     missing=nan, monotone_constraints=None,\n",
       "                                     n_estimators=100, n_jobs=-1, num_class=3,\n",
       "                                     num_parallel_tree=None, ...),\n",
       "             n_jobs=-1,\n",
       "             param_grid={&#x27;gamma&#x27;: [0, 0.1, 0.2],\n",
       "                         &#x27;learning_rate&#x27;: [0.1, 0.01, 0.001],\n",
       "                         &#x27;max_depth&#x27;: [2, 4, 6], &#x27;n_estimators&#x27;: [50, 100, 200],\n",
       "                         &#x27;subsample&#x27;: [0.5, 0.7, 1]},\n",
       "             verbose=1)</pre></div></div></div><div class=\"sk-parallel\"><div class=\"sk-parallel-item\"><div class=\"sk-item\"><div class=\"sk-label-container\"><div class=\"sk-label sk-toggleable\"><input class=\"sk-toggleable__control sk-hidden--visually\" id=\"sk-estimator-id-8\" type=\"checkbox\" ><label for=\"sk-estimator-id-8\" class=\"sk-toggleable__label sk-toggleable__label-arrow\">estimator: XGBClassifier</label><div class=\"sk-toggleable__content\"><pre>XGBClassifier(base_score=None, booster=None, callbacks=None,\n",
       "              colsample_bylevel=None, colsample_bynode=None,\n",
       "              colsample_bytree=None, device=&#x27;cuda&#x27;, early_stopping_rounds=None,\n",
       "              enable_categorical=False, eval_metric=&#x27;mlogloss&#x27;,\n",
       "              feature_types=None, gamma=None, gpu_id=None, grow_policy=None,\n",
       "              importance_type=None, interaction_constraints=None,\n",
       "              learning_rate=None, max_bin=None, max_cat_threshold=None,\n",
       "              max_cat_to_onehot=None, max_delta_step=None, max_depth=None,\n",
       "              max_leaves=None, min_child_weight=None, missing=nan,\n",
       "              monotone_constraints=None, n_estimators=100, n_jobs=-1,\n",
       "              num_class=3, num_parallel_tree=None, ...)</pre></div></div></div><div class=\"sk-serial\"><div class=\"sk-item\"><div class=\"sk-estimator sk-toggleable\"><input class=\"sk-toggleable__control sk-hidden--visually\" id=\"sk-estimator-id-9\" type=\"checkbox\" ><label for=\"sk-estimator-id-9\" class=\"sk-toggleable__label sk-toggleable__label-arrow\">XGBClassifier</label><div class=\"sk-toggleable__content\"><pre>XGBClassifier(base_score=None, booster=None, callbacks=None,\n",
       "              colsample_bylevel=None, colsample_bynode=None,\n",
       "              colsample_bytree=None, device=&#x27;cuda&#x27;, early_stopping_rounds=None,\n",
       "              enable_categorical=False, eval_metric=&#x27;mlogloss&#x27;,\n",
       "              feature_types=None, gamma=None, gpu_id=None, grow_policy=None,\n",
       "              importance_type=None, interaction_constraints=None,\n",
       "              learning_rate=None, max_bin=None, max_cat_threshold=None,\n",
       "              max_cat_to_onehot=None, max_delta_step=None, max_depth=None,\n",
       "              max_leaves=None, min_child_weight=None, missing=nan,\n",
       "              monotone_constraints=None, n_estimators=100, n_jobs=-1,\n",
       "              num_class=3, num_parallel_tree=None, ...)</pre></div></div></div></div></div></div></div></div></div></div>"
      ]
     },
     "execution_count": 71,
     "metadata": {},
     "output_type": "execute_result"
    }
   ],
   "execution_count": 71
  },
  {
   "metadata": {
    "ExecuteTime": {
     "end_time": "2024-04-20T09:05:06.486035Z",
     "start_time": "2024-04-20T09:05:06.471769Z"
    }
   },
   "cell_type": "code",
   "source": "xgb_rus.best_params_",
   "id": "adefe64bd01d2aa2",
   "outputs": [
    {
     "data": {
      "text/plain": [
       "{'gamma': 0.1,\n",
       " 'learning_rate': 0.1,\n",
       " 'max_depth': 6,\n",
       " 'n_estimators': 200,\n",
       " 'subsample': 0.5}"
      ]
     },
     "execution_count": 72,
     "metadata": {},
     "output_type": "execute_result"
    }
   ],
   "execution_count": 72
  },
  {
   "metadata": {
    "ExecuteTime": {
     "end_time": "2024-04-20T09:05:06.518065Z",
     "start_time": "2024-04-20T09:05:06.487036Z"
    }
   },
   "cell_type": "code",
   "source": [
    "print(\"Train Accuracy: \", xgb_rus.score(X_resampled, y_resampled))\n",
    "print(\"Validation Accuracy: \", xgb_rus.score(X_val, y_val))\n",
    "print(\"Test Accuracy: \", xgb_rus.score(X_test, y_test))"
   ],
   "id": "2140c54040a9c5af",
   "outputs": [
    {
     "name": "stdout",
     "output_type": "stream",
     "text": [
      "Train Accuracy:  0.9958221426439868\n",
      "Validation Accuracy:  0.668760093307016\n",
      "Test Accuracy:  0.6702547542160029\n"
     ]
    }
   ],
   "execution_count": 73
  },
  {
   "metadata": {
    "ExecuteTime": {
     "end_time": "2024-04-20T09:05:06.660360Z",
     "start_time": "2024-04-20T09:05:06.519066Z"
    }
   },
   "cell_type": "code",
   "source": [
    "xgb_model_undersampled_pred = xgb_rus.predict(X_test)\n",
    "\n",
    "xgb_model_undersampled_pred_labels = pd.Series(xgb_model_undersampled_pred).replace({\n",
    "    0: \"High Emotion\",\n",
    "    1: \"Neutral\",\n",
    "    2: \"Low Emotion\"\n",
    "})\n",
    "\n",
    "print(classification_report(y_test_labels, xgb_model_undersampled_pred_labels))"
   ],
   "id": "692133d82030d8d8",
   "outputs": [
    {
     "name": "stdout",
     "output_type": "stream",
     "text": [
      "              precision    recall  f1-score   support\n",
      "\n",
      "High Emotion       0.77      0.82      0.79      2932\n",
      " Low Emotion       0.36      0.87      0.51       373\n",
      "     Neutral       0.65      0.45      0.53      2269\n",
      "\n",
      "    accuracy                           0.67      5574\n",
      "   macro avg       0.59      0.71      0.61      5574\n",
      "weighted avg       0.69      0.67      0.67      5574\n",
      "\n"
     ]
    }
   ],
   "execution_count": 74
  },
  {
   "metadata": {
    "ExecuteTime": {
     "end_time": "2024-04-20T09:05:06.771969Z",
     "start_time": "2024-04-20T09:05:06.661362Z"
    }
   },
   "cell_type": "code",
   "source": [
    "cm_xgb_undersampled = confusion_matrix(y_test_labels, xgb_model_undersampled_pred_labels, labels=LABELS)\n",
    "disp = ConfusionMatrixDisplay(confusion_matrix=cm_xgb_undersampled, display_labels=LABELS)\n",
    "\n",
    "disp.plot(values_format='')\n",
    "plt.title(\"XGBoost UnderSampled Confusion Matrix\")\n",
    "plt.grid(False)\n",
    "plt.show()"
   ],
   "id": "b8979bf16699ba3f",
   "outputs": [
    {
     "data": {
      "text/plain": [
       "<Figure size 640x480 with 2 Axes>"
      ],
      "image/png": "[encoded data removed]"
     },
     "metadata": {},
     "output_type": "display_data"
    }
   ],
   "execution_count": 75
  },
  {
   "metadata": {
    "ExecuteTime": {
     "end_time": "2024-04-20T09:05:06.802996Z",
     "start_time": "2024-04-20T09:05:06.772970Z"
    }
   },
   "cell_type": "code",
   "source": [
    "# Save the model\n",
    "with open(\"models/xgb_rus_model.pkl\", \"wb\") as f:\n",
    "    pickle.dump(xgb_rus, f)"
   ],
   "id": "1d3cf78494a16fc5",
   "outputs": [],
   "execution_count": 76
  },
  {
   "metadata": {},
   "cell_type": "markdown",
   "source": "# SMOTE ",
   "id": "81007cd706e19f08"
  },
  {
   "metadata": {
    "ExecuteTime": {
     "end_time": "2024-04-20T09:05:06.819011Z",
     "start_time": "2024-04-20T09:05:06.803998Z"
    }
   },
   "cell_type": "code",
   "source": "from imblearn.over_sampling import SMOTE",
   "id": "322c8090b4b3ffc7",
   "outputs": [],
   "execution_count": 77
  },
  {
   "metadata": {
    "ExecuteTime": {
     "end_time": "2024-04-20T09:05:06.993900Z",
     "start_time": "2024-04-20T09:05:06.820012Z"
    }
   },
   "cell_type": "code",
   "source": [
    "smote = SMOTE(random_state=42)\n",
    "\n",
    "X_resampled, y_resampled = smote.fit_resample(X_train, y_train)"
   ],
   "id": "7c88ba0655faf9fe",
   "outputs": [],
   "execution_count": 78
  },
  {
   "metadata": {
    "ExecuteTime": {
     "end_time": "2024-04-20T09:05:07.009917Z",
     "start_time": "2024-04-20T09:05:06.994901Z"
    }
   },
   "cell_type": "code",
   "source": [
    "xgb_smote = xgb.XGBClassifier(objective=\"multi:softmax\", num_class=3, eval_metric=\"mlogloss\", device=\"cuda\",\n",
    "                              verbose=1, n_jobs=-1)\n",
    "\n",
    "xgb_smote = GridSearchCV(xgb_smote, grid, n_jobs=-1, verbose=1)"
   ],
   "id": "9b3c93627a6eabce",
   "outputs": [],
   "execution_count": 79
  },
  {
   "metadata": {
    "ExecuteTime": {
     "end_time": "2024-04-20T09:21:51.678828Z",
     "start_time": "2024-04-20T09:05:07.010917Z"
    }
   },
   "cell_type": "code",
   "source": "xgb_smote.fit(X_resampled, y_resampled)",
   "id": "79e44dff6627d695",
   "outputs": [
    {
     "name": "stdout",
     "output_type": "stream",
     "text": [
      "Fitting 5 folds for each of 243 candidates, totalling 1215 fits\n",
      "[05:21:47] WARNING: C:/buildkite-agent/builds/buildkite-windows-cpu-autoscaling-group-i-0fc7796c793e6356f-1/xgboost/xgboost-ci-windows/src/learner.cc:767: \n",
      "Parameters: { \"device\", \"verbose\" } are not used.\n",
      "\n"
     ]
    },
    {
     "data": {
      "text/plain": [
       "GridSearchCV(estimator=XGBClassifier(base_score=None, booster=None,\n",
       "                                     callbacks=None, colsample_bylevel=None,\n",
       "                                     colsample_bynode=None,\n",
       "                                     colsample_bytree=None, device='cuda',\n",
       "                                     early_stopping_rounds=None,\n",
       "                                     enable_categorical=False,\n",
       "                                     eval_metric='mlogloss', feature_types=None,\n",
       "                                     gamma=None, gpu_id=None, grow_policy=None,\n",
       "                                     importance_type=None,\n",
       "                                     interaction_constraints=None,\n",
       "                                     lear...\n",
       "                                     max_cat_to_onehot=None,\n",
       "                                     max_delta_step=None, max_depth=None,\n",
       "                                     max_leaves=None, min_child_weight=None,\n",
       "                                     missing=nan, monotone_constraints=None,\n",
       "                                     n_estimators=100, n_jobs=-1, num_class=3,\n",
       "                                     num_parallel_tree=None, ...),\n",
       "             n_jobs=-1,\n",
       "             param_grid={'gamma': [0, 0.1, 0.2],\n",
       "                         'learning_rate': [0.1, 0.01, 0.001],\n",
       "                         'max_depth': [2, 4, 6], 'n_estimators': [50, 100, 200],\n",
       "                         'subsample': [0.5, 0.7, 1]},\n",
       "             verbose=1)"
      ],
      "text/html": [
       "<style>#sk-container-id-4 {color: black;background-color: white;}#sk-container-id-4 pre{padding: 0;}#sk-container-id-4 div.sk-toggleable {background-color: white;}#sk-container-id-4 label.sk-toggleable__label {cursor: pointer;display: block;width: 100%;margin-bottom: 0;padding: 0.3em;box-sizing: border-box;text-align: center;}#sk-container-id-4 label.sk-toggleable__label-arrow:before {content: \"▸\";float: left;margin-right: 0.25em;color: #696969;}#sk-container-id-4 label.sk-toggleable__label-arrow:hover:before {color: black;}#sk-container-id-4 div.sk-estimator:hover label.sk-toggleable__label-arrow:before {color: black;}#sk-container-id-4 div.sk-toggleable__content {max-height: 0;max-width: 0;overflow: hidden;text-align: left;background-color: #f0f8ff;}#sk-container-id-4 div.sk-toggleable__content pre {margin: 0.2em;color: black;border-radius: 0.25em;background-color: #f0f8ff;}#sk-container-id-4 input.sk-toggleable__control:checked~div.sk-toggleable__content {max-height: 200px;max-width: 100%;overflow: auto;}#sk-container-id-4 input.sk-toggleable__control:checked~label.sk-toggleable__label-arrow:before {content: \"▾\";}#sk-container-id-4 div.sk-estimator input.sk-toggleable__control:checked~label.sk-toggleable__label {background-color: #d4ebff;}#sk-container-id-4 div.sk-label input.sk-toggleable__control:checked~label.sk-toggleable__label {background-color: #d4ebff;}#sk-container-id-4 input.sk-hidden--visually {border: 0;clip: rect(1px 1px 1px 1px);clip: rect(1px, 1px, 1px, 1px);height: 1px;margin: -1px;overflow: hidden;padding: 0;position: absolute;width: 1px;}#sk-container-id-4 div.sk-estimator {font-family: monospace;background-color: #f0f8ff;border: 1px dotted black;border-radius: 0.25em;box-sizing: border-box;margin-bottom: 0.5em;}#sk-container-id-4 div.sk-estimator:hover {background-color: #d4ebff;}#sk-container-id-4 div.sk-parallel-item::after {content: \"\";width: 100%;border-bottom: 1px solid gray;flex-grow: 1;}#sk-container-id-4 div.sk-label:hover label.sk-toggleable__label {background-color: #d4ebff;}#sk-container-id-4 div.sk-serial::before {content: \"\";position: absolute;border-left: 1px solid gray;box-sizing: border-box;top: 0;bottom: 0;left: 50%;z-index: 0;}#sk-container-id-4 div.sk-serial {display: flex;flex-direction: column;align-items: center;background-color: white;padding-right: 0.2em;padding-left: 0.2em;position: relative;}#sk-container-id-4 div.sk-item {position: relative;z-index: 1;}#sk-container-id-4 div.sk-parallel {display: flex;align-items: stretch;justify-content: center;background-color: white;position: relative;}#sk-container-id-4 div.sk-item::before, #sk-container-id-4 div.sk-parallel-item::before {content: \"\";position: absolute;border-left: 1px solid gray;box-sizing: border-box;top: 0;bottom: 0;left: 50%;z-index: -1;}#sk-container-id-4 div.sk-parallel-item {display: flex;flex-direction: column;z-index: 1;position: relative;background-color: white;}#sk-container-id-4 div.sk-parallel-item:first-child::after {align-self: flex-end;width: 50%;}#sk-container-id-4 div.sk-parallel-item:last-child::after {align-self: flex-start;width: 50%;}#sk-container-id-4 div.sk-parallel-item:only-child::after {width: 0;}#sk-container-id-4 div.sk-dashed-wrapped {border: 1px dashed gray;margin: 0 0.4em 0.5em 0.4em;box-sizing: border-box;padding-bottom: 0.4em;background-color: white;}#sk-container-id-4 div.sk-label label {font-family: monospace;font-weight: bold;display: inline-block;line-height: 1.2em;}#sk-container-id-4 div.sk-label-container {text-align: center;}#sk-container-id-4 div.sk-container {/* jupyter's `normalize.less` sets `[hidden] { display: none; }` but bootstrap.min.css set `[hidden] { display: none !important; }` so we also need the `!important` here to be able to override the default hidden behavior on the sphinx rendered scikit-learn.org. See: https://github.com/scikit-learn/scikit-learn/issues/21755 */display: inline-block !important;position: relative;}#sk-container-id-4 div.sk-text-repr-fallback {display: none;}</style><div id=\"sk-container-id-4\" class=\"sk-top-container\"><div class=\"sk-text-repr-fallback\"><pre>GridSearchCV(estimator=XGBClassifier(base_score=None, booster=None,\n",
       "                                     callbacks=None, colsample_bylevel=None,\n",
       "                                     colsample_bynode=None,\n",
       "                                     colsample_bytree=None, device=&#x27;cuda&#x27;,\n",
       "                                     early_stopping_rounds=None,\n",
       "                                     enable_categorical=False,\n",
       "                                     eval_metric=&#x27;mlogloss&#x27;, feature_types=None,\n",
       "                                     gamma=None, gpu_id=None, grow_policy=None,\n",
       "                                     importance_type=None,\n",
       "                                     interaction_constraints=None,\n",
       "                                     lear...\n",
       "                                     max_cat_to_onehot=None,\n",
       "                                     max_delta_step=None, max_depth=None,\n",
       "                                     max_leaves=None, min_child_weight=None,\n",
       "                                     missing=nan, monotone_constraints=None,\n",
       "                                     n_estimators=100, n_jobs=-1, num_class=3,\n",
       "                                     num_parallel_tree=None, ...),\n",
       "             n_jobs=-1,\n",
       "             param_grid={&#x27;gamma&#x27;: [0, 0.1, 0.2],\n",
       "                         &#x27;learning_rate&#x27;: [0.1, 0.01, 0.001],\n",
       "                         &#x27;max_depth&#x27;: [2, 4, 6], &#x27;n_estimators&#x27;: [50, 100, 200],\n",
       "                         &#x27;subsample&#x27;: [0.5, 0.7, 1]},\n",
       "             verbose=1)</pre><b>In a Jupyter environment, please rerun this cell to show the HTML representation or trust the notebook. <br />On GitHub, the HTML representation is unable to render, please try loading this page with nbviewer.org.</b></div><div class=\"sk-container\" hidden><div class=\"sk-item sk-dashed-wrapped\"><div class=\"sk-label-container\"><div class=\"sk-label sk-toggleable\"><input class=\"sk-toggleable__control sk-hidden--visually\" id=\"sk-estimator-id-10\" type=\"checkbox\" ><label for=\"sk-estimator-id-10\" class=\"sk-toggleable__label sk-toggleable__label-arrow\">GridSearchCV</label><div class=\"sk-toggleable__content\"><pre>GridSearchCV(estimator=XGBClassifier(base_score=None, booster=None,\n",
       "                                     callbacks=None, colsample_bylevel=None,\n",
       "                                     colsample_bynode=None,\n",
       "                                     colsample_bytree=None, device=&#x27;cuda&#x27;,\n",
       "                                     early_stopping_rounds=None,\n",
       "                                     enable_categorical=False,\n",
       "                                     eval_metric=&#x27;mlogloss&#x27;, feature_types=None,\n",
       "                                     gamma=None, gpu_id=None, grow_policy=None,\n",
       "                                     importance_type=None,\n",
       "                                     interaction_constraints=None,\n",
       "                                     lear...\n",
       "                                     max_cat_to_onehot=None,\n",
       "                                     max_delta_step=None, max_depth=None,\n",
       "                                     max_leaves=None, min_child_weight=None,\n",
       "                                     missing=nan, monotone_constraints=None,\n",
       "                                     n_estimators=100, n_jobs=-1, num_class=3,\n",
       "                                     num_parallel_tree=None, ...),\n",
       "             n_jobs=-1,\n",
       "             param_grid={&#x27;gamma&#x27;: [0, 0.1, 0.2],\n",
       "                         &#x27;learning_rate&#x27;: [0.1, 0.01, 0.001],\n",
       "                         &#x27;max_depth&#x27;: [2, 4, 6], &#x27;n_estimators&#x27;: [50, 100, 200],\n",
       "                         &#x27;subsample&#x27;: [0.5, 0.7, 1]},\n",
       "             verbose=1)</pre></div></div></div><div class=\"sk-parallel\"><div class=\"sk-parallel-item\"><div class=\"sk-item\"><div class=\"sk-label-container\"><div class=\"sk-label sk-toggleable\"><input class=\"sk-toggleable__control sk-hidden--visually\" id=\"sk-estimator-id-11\" type=\"checkbox\" ><label for=\"sk-estimator-id-11\" class=\"sk-toggleable__label sk-toggleable__label-arrow\">estimator: XGBClassifier</label><div class=\"sk-toggleable__content\"><pre>XGBClassifier(base_score=None, booster=None, callbacks=None,\n",
       "              colsample_bylevel=None, colsample_bynode=None,\n",
       "              colsample_bytree=None, device=&#x27;cuda&#x27;, early_stopping_rounds=None,\n",
       "              enable_categorical=False, eval_metric=&#x27;mlogloss&#x27;,\n",
       "              feature_types=None, gamma=None, gpu_id=None, grow_policy=None,\n",
       "              importance_type=None, interaction_constraints=None,\n",
       "              learning_rate=None, max_bin=None, max_cat_threshold=None,\n",
       "              max_cat_to_onehot=None, max_delta_step=None, max_depth=None,\n",
       "              max_leaves=None, min_child_weight=None, missing=nan,\n",
       "              monotone_constraints=None, n_estimators=100, n_jobs=-1,\n",
       "              num_class=3, num_parallel_tree=None, ...)</pre></div></div></div><div class=\"sk-serial\"><div class=\"sk-item\"><div class=\"sk-estimator sk-toggleable\"><input class=\"sk-toggleable__control sk-hidden--visually\" id=\"sk-estimator-id-12\" type=\"checkbox\" ><label for=\"sk-estimator-id-12\" class=\"sk-toggleable__label sk-toggleable__label-arrow\">XGBClassifier</label><div class=\"sk-toggleable__content\"><pre>XGBClassifier(base_score=None, booster=None, callbacks=None,\n",
       "              colsample_bylevel=None, colsample_bynode=None,\n",
       "              colsample_bytree=None, device=&#x27;cuda&#x27;, early_stopping_rounds=None,\n",
       "              enable_categorical=False, eval_metric=&#x27;mlogloss&#x27;,\n",
       "              feature_types=None, gamma=None, gpu_id=None, grow_policy=None,\n",
       "              importance_type=None, interaction_constraints=None,\n",
       "              learning_rate=None, max_bin=None, max_cat_threshold=None,\n",
       "              max_cat_to_onehot=None, max_delta_step=None, max_depth=None,\n",
       "              max_leaves=None, min_child_weight=None, missing=nan,\n",
       "              monotone_constraints=None, n_estimators=100, n_jobs=-1,\n",
       "              num_class=3, num_parallel_tree=None, ...)</pre></div></div></div></div></div></div></div></div></div></div>"
      ]
     },
     "execution_count": 80,
     "metadata": {},
     "output_type": "execute_result"
    }
   ],
   "execution_count": 80
  },
  {
   "metadata": {
    "ExecuteTime": {
     "end_time": "2024-04-20T09:21:51.694175Z",
     "start_time": "2024-04-20T09:21:51.679829Z"
    }
   },
   "cell_type": "code",
   "source": "xgb_smote.best_params_",
   "id": "7be52ac0514372f8",
   "outputs": [
    {
     "data": {
      "text/plain": [
       "{'gamma': 0,\n",
       " 'learning_rate': 0.1,\n",
       " 'max_depth': 6,\n",
       " 'n_estimators': 200,\n",
       " 'subsample': 0.5}"
      ]
     },
     "execution_count": 81,
     "metadata": {},
     "output_type": "execute_result"
    }
   ],
   "execution_count": 81
  },
  {
   "metadata": {
    "ExecuteTime": {
     "end_time": "2024-04-20T09:21:51.756232Z",
     "start_time": "2024-04-20T09:21:51.695176Z"
    }
   },
   "cell_type": "code",
   "source": [
    "print(\"Train Accuracy: \", xgb_smote.score(X_resampled, y_resampled))\n",
    "print(\"Validation Accuracy: \", xgb_smote.score(X_val, y_val))\n",
    "print(\"Test Accuracy: \", xgb_smote.score(X_test, y_test))"
   ],
   "id": "32a467ad73eafb4a",
   "outputs": [
    {
     "name": "stdout",
     "output_type": "stream",
     "text": [
      "Train Accuracy:  0.933227224495983\n",
      "Validation Accuracy:  0.7609904898618338\n",
      "Test Accuracy:  0.7667743092931467\n"
     ]
    }
   ],
   "execution_count": 82
  },
  {
   "metadata": {
    "ExecuteTime": {
     "end_time": "2024-04-20T09:21:51.882355Z",
     "start_time": "2024-04-20T09:21:51.757233Z"
    }
   },
   "cell_type": "code",
   "source": [
    "xgb_model_smote_pred = xgb_smote.predict(X_test)\n",
    "\n",
    "xgb_model_smote_pred_labels = pd.Series(xgb_model_smote_pred).replace({\n",
    "    0: \"High Emotion\",\n",
    "    1: \"Neutral\",\n",
    "    2: \"Low Emotion\"\n",
    "})\n",
    "\n",
    "print(classification_report(y_test_labels, xgb_model_smote_pred_labels))"
   ],
   "id": "175fd49880c1ae1",
   "outputs": [
    {
     "name": "stdout",
     "output_type": "stream",
     "text": [
      "              precision    recall  f1-score   support\n",
      "\n",
      "High Emotion       0.79      0.90      0.84      2932\n",
      " Low Emotion       0.60      0.59      0.59       373\n",
      "     Neutral       0.76      0.62      0.68      2269\n",
      "\n",
      "    accuracy                           0.77      5574\n",
      "   macro avg       0.72      0.70      0.71      5574\n",
      "weighted avg       0.76      0.77      0.76      5574\n",
      "\n"
     ]
    }
   ],
   "execution_count": 83
  },
  {
   "metadata": {
    "ExecuteTime": {
     "end_time": "2024-04-20T09:21:51.993961Z",
     "start_time": "2024-04-20T09:21:51.883356Z"
    }
   },
   "cell_type": "code",
   "source": [
    "cm_xgb_smote = confusion_matrix(y_test_labels, xgb_model_smote_pred_labels, labels=LABELS)\n",
    "disp = ConfusionMatrixDisplay(confusion_matrix=cm_xgb_smote, display_labels=LABELS)\n",
    "\n",
    "disp.plot(values_format='')\n",
    "plt.title(\"XGBoost SMOTE Confusion Matrix\")\n",
    "plt.grid(False)\n",
    "plt.show()"
   ],
   "id": "e67664b757fb38f4",
   "outputs": [
    {
     "data": {
      "text/plain": [
       "<Figure size 640x480 with 2 Axes>"
      ],
      "image/png": "[encoded data removed]"
     },
     "metadata": {},
     "output_type": "display_data"
    }
   ],
   "execution_count": 84
  },
  {
   "metadata": {
    "ExecuteTime": {
     "end_time": "2024-04-20T09:22:29.581983Z",
     "start_time": "2024-04-20T09:22:29.545951Z"
    }
   },
   "cell_type": "code",
   "source": [
    "# Save the model\n",
    "with open(\"models/xgb_smote_model.pkl\", \"wb\") as f:\n",
    "    pickle.dump(xgb_smote, f)"
   ],
   "id": "6a172757ee9c67b8",
   "outputs": [],
   "execution_count": 85
  }
 ],
 "metadata": {
  "kernelspec": {
   "display_name": "Python 3",
   "language": "python",
   "name": "python3"
  },
  "language_info": {
   "codemirror_mode": {
    "name": "ipython",
    "version": 2
   },
   "file_extension": ".py",
   "mimetype": "text/x-python",
   "name": "python",
   "nbconvert_exporter": "python",
   "pygments_lexer": "ipython2",
   "version": "2.7.6"
  }
 },
 "nbformat": 4,
 "nbformat_minor": 5
}
